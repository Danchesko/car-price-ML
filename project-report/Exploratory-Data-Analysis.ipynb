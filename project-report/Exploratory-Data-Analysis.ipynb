{
 "cells": [
  {
   "cell_type": "markdown",
   "metadata": {},
   "source": [
    "<center><h1> Exploratory Data Analysis of car dataseet "
   ]
  },
  {
   "cell_type": "markdown",
   "metadata": {},
   "source": [
    "In this notebook, I will explore and analyze my data, visuliaze connections between features and do some statistic manipulations to show main characteristics of data. First I will import data, that \"page-scarper.py\" got from [cars.kg](cars.kg) and saved in \"cars_raw_data.csv\". I called raw, because later I will clean the data: fill missing values, detect and maybe eliminate outliers, and rescale data(standartization, normalization)."
   ]
  },
  {
   "cell_type": "markdown",
   "metadata": {},
   "source": [
    "I will import pandas, which is a library for data analysis, and you can see first 5 rows and last five raws of the data."
   ]
  },
  {
   "cell_type": "code",
   "execution_count": 85,
   "metadata": {},
   "outputs": [
    {
     "data": {
      "text/html": [
       "<div>\n",
       "<style scoped>\n",
       "    .dataframe tbody tr th:only-of-type {\n",
       "        vertical-align: middle;\n",
       "    }\n",
       "\n",
       "    .dataframe tbody tr th {\n",
       "        vertical-align: top;\n",
       "    }\n",
       "\n",
       "    .dataframe thead th {\n",
       "        text-align: right;\n",
       "    }\n",
       "</style>\n",
       "<table border=\"1\" class=\"dataframe\">\n",
       "  <thead>\n",
       "    <tr style=\"text-align: right;\">\n",
       "      <th></th>\n",
       "      <th>Год выпуска</th>\n",
       "      <th>КПП</th>\n",
       "      <th>Мощность</th>\n",
       "      <th>Объём</th>\n",
       "      <th>Привод</th>\n",
       "      <th>Пробег</th>\n",
       "      <th>Руль</th>\n",
       "      <th>Тип кузова</th>\n",
       "      <th>Топливо</th>\n",
       "      <th>Цвет</th>\n",
       "      <th>Цена</th>\n",
       "    </tr>\n",
       "  </thead>\n",
       "  <tbody>\n",
       "    <tr>\n",
       "      <th>0</th>\n",
       "      <td>1995.000</td>\n",
       "      <td>механика</td>\n",
       "      <td>150.000</td>\n",
       "      <td>2.000</td>\n",
       "      <td>задний</td>\n",
       "      <td>nan</td>\n",
       "      <td>NaN</td>\n",
       "      <td>седан</td>\n",
       "      <td>бензин</td>\n",
       "      <td>бордовый</td>\n",
       "      <td>4900.000</td>\n",
       "    </tr>\n",
       "    <tr>\n",
       "      <th>1</th>\n",
       "      <td>1993.000</td>\n",
       "      <td>автомат</td>\n",
       "      <td>125.000</td>\n",
       "      <td>2.800</td>\n",
       "      <td>полный подключаемый</td>\n",
       "      <td>268701.000</td>\n",
       "      <td>правый</td>\n",
       "      <td>внедорожник / пикап</td>\n",
       "      <td>дизель</td>\n",
       "      <td>синий</td>\n",
       "      <td>6000.000</td>\n",
       "    </tr>\n",
       "    <tr>\n",
       "      <th>2</th>\n",
       "      <td>1997.000</td>\n",
       "      <td>автомат</td>\n",
       "      <td>190.000</td>\n",
       "      <td>2.000</td>\n",
       "      <td>NaN</td>\n",
       "      <td>220000.000</td>\n",
       "      <td>правый</td>\n",
       "      <td>седан</td>\n",
       "      <td>бензин</td>\n",
       "      <td>серебряный</td>\n",
       "      <td>3100.000</td>\n",
       "    </tr>\n",
       "    <tr>\n",
       "      <th>3</th>\n",
       "      <td>2009.000</td>\n",
       "      <td>механика</td>\n",
       "      <td>298.000</td>\n",
       "      <td>3.000</td>\n",
       "      <td>полный подключаемый</td>\n",
       "      <td>120000.000</td>\n",
       "      <td>левый</td>\n",
       "      <td>универсал</td>\n",
       "      <td>дизель</td>\n",
       "      <td>черный</td>\n",
       "      <td>17000.000</td>\n",
       "    </tr>\n",
       "    <tr>\n",
       "      <th>4</th>\n",
       "      <td>2004.000</td>\n",
       "      <td>механика</td>\n",
       "      <td>160.000</td>\n",
       "      <td>3.000</td>\n",
       "      <td>полный подключаемый</td>\n",
       "      <td>200000.000</td>\n",
       "      <td>левый</td>\n",
       "      <td>внедорожник / пикап</td>\n",
       "      <td>дизель</td>\n",
       "      <td>темно-синий</td>\n",
       "      <td>7000.000</td>\n",
       "    </tr>\n",
       "  </tbody>\n",
       "</table>\n",
       "</div>"
      ],
      "text/plain": [
       "   Год выпуска       КПП  Мощность  Объём               Привод     Пробег  \\\n",
       "0     1995.000  механика   150.000  2.000               задний        nan   \n",
       "1     1993.000   автомат   125.000  2.800  полный подключаемый 268701.000   \n",
       "2     1997.000   автомат   190.000  2.000                  NaN 220000.000   \n",
       "3     2009.000  механика   298.000  3.000  полный подключаемый 120000.000   \n",
       "4     2004.000  механика   160.000  3.000  полный подключаемый 200000.000   \n",
       "\n",
       "     Руль           Тип кузова Топливо         Цвет      Цена  \n",
       "0     NaN                седан  бензин     бордовый  4900.000  \n",
       "1  правый  внедорожник / пикап  дизель        синий  6000.000  \n",
       "2  правый                седан  бензин   серебряный  3100.000  \n",
       "3   левый            универсал  дизель       черный 17000.000  \n",
       "4   левый  внедорожник / пикап  дизель  темно-синий  7000.000  "
      ]
     },
     "execution_count": 85,
     "metadata": {},
     "output_type": "execute_result"
    }
   ],
   "source": [
    "import pandas as pd \n",
    "pd.set_option('float_format', '{:.3f}'.format)\n",
    "car_data = pd.read_csv(\"..\\\\src\\\\data_loading\\\\cars_raw_data.csv\")\n",
    "car_data.head(5)"
   ]
  },
  {
   "cell_type": "code",
   "execution_count": 86,
   "metadata": {},
   "outputs": [
    {
     "data": {
      "text/html": [
       "<div>\n",
       "<style scoped>\n",
       "    .dataframe tbody tr th:only-of-type {\n",
       "        vertical-align: middle;\n",
       "    }\n",
       "\n",
       "    .dataframe tbody tr th {\n",
       "        vertical-align: top;\n",
       "    }\n",
       "\n",
       "    .dataframe thead th {\n",
       "        text-align: right;\n",
       "    }\n",
       "</style>\n",
       "<table border=\"1\" class=\"dataframe\">\n",
       "  <thead>\n",
       "    <tr style=\"text-align: right;\">\n",
       "      <th></th>\n",
       "      <th>Год выпуска</th>\n",
       "      <th>КПП</th>\n",
       "      <th>Мощность</th>\n",
       "      <th>Объём</th>\n",
       "      <th>Привод</th>\n",
       "      <th>Пробег</th>\n",
       "      <th>Руль</th>\n",
       "      <th>Тип кузова</th>\n",
       "      <th>Топливо</th>\n",
       "      <th>Цвет</th>\n",
       "      <th>Цена</th>\n",
       "    </tr>\n",
       "  </thead>\n",
       "  <tbody>\n",
       "    <tr>\n",
       "      <th>7355</th>\n",
       "      <td>2005.000</td>\n",
       "      <td>механика</td>\n",
       "      <td>265.000</td>\n",
       "      <td>2.500</td>\n",
       "      <td>постоянный полный</td>\n",
       "      <td>200000.000</td>\n",
       "      <td>правый</td>\n",
       "      <td>кроссовер</td>\n",
       "      <td>бензин</td>\n",
       "      <td>синий</td>\n",
       "      <td>9000.000</td>\n",
       "    </tr>\n",
       "    <tr>\n",
       "      <th>7356</th>\n",
       "      <td>2002.000</td>\n",
       "      <td>автомат</td>\n",
       "      <td>160.000</td>\n",
       "      <td>2.400</td>\n",
       "      <td>передний</td>\n",
       "      <td>270000.000</td>\n",
       "      <td>правый</td>\n",
       "      <td>минивэн / бус</td>\n",
       "      <td>бензин</td>\n",
       "      <td>белый жемчуг</td>\n",
       "      <td>5000.000</td>\n",
       "    </tr>\n",
       "    <tr>\n",
       "      <th>7357</th>\n",
       "      <td>2002.000</td>\n",
       "      <td>механика</td>\n",
       "      <td>116.000</td>\n",
       "      <td>1.800</td>\n",
       "      <td>передний</td>\n",
       "      <td>nan</td>\n",
       "      <td>левый</td>\n",
       "      <td>универсал</td>\n",
       "      <td>бензин</td>\n",
       "      <td>серый</td>\n",
       "      <td>2700.000</td>\n",
       "    </tr>\n",
       "    <tr>\n",
       "      <th>7358</th>\n",
       "      <td>2005.000</td>\n",
       "      <td>автомат</td>\n",
       "      <td>175.000</td>\n",
       "      <td>2.500</td>\n",
       "      <td>постоянный полный</td>\n",
       "      <td>230000.000</td>\n",
       "      <td>левый</td>\n",
       "      <td>универсал</td>\n",
       "      <td>бензин</td>\n",
       "      <td>синий</td>\n",
       "      <td>7800.000</td>\n",
       "    </tr>\n",
       "    <tr>\n",
       "      <th>7359</th>\n",
       "      <td>2012.000</td>\n",
       "      <td>автомат</td>\n",
       "      <td>nan</td>\n",
       "      <td>2.500</td>\n",
       "      <td>передний</td>\n",
       "      <td>139000.000</td>\n",
       "      <td>левый</td>\n",
       "      <td>седан</td>\n",
       "      <td>бензин</td>\n",
       "      <td>черный</td>\n",
       "      <td>16500.000</td>\n",
       "    </tr>\n",
       "  </tbody>\n",
       "</table>\n",
       "</div>"
      ],
      "text/plain": [
       "      Год выпуска       КПП  Мощность  Объём             Привод     Пробег  \\\n",
       "7355     2005.000  механика   265.000  2.500  постоянный полный 200000.000   \n",
       "7356     2002.000   автомат   160.000  2.400           передний 270000.000   \n",
       "7357     2002.000  механика   116.000  1.800           передний        nan   \n",
       "7358     2005.000   автомат   175.000  2.500  постоянный полный 230000.000   \n",
       "7359     2012.000   автомат       nan  2.500           передний 139000.000   \n",
       "\n",
       "        Руль     Тип кузова Топливо          Цвет      Цена  \n",
       "7355  правый      кроссовер  бензин         синий  9000.000  \n",
       "7356  правый  минивэн / бус  бензин  белый жемчуг  5000.000  \n",
       "7357   левый      универсал  бензин         серый  2700.000  \n",
       "7358   левый      универсал  бензин         синий  7800.000  \n",
       "7359   левый          седан  бензин        черный 16500.000  "
      ]
     },
     "execution_count": 86,
     "metadata": {},
     "output_type": "execute_result"
    }
   ],
   "source": [
    "car_data.tail(5)"
   ]
  },
  {
   "cell_type": "markdown",
   "metadata": {},
   "source": [
    "The very first thing I do, is check the shape of our dataframe. As we saw earlier above we can see that there are 7360 rows (examples) and 11 columns (features). And function below confirms this. "
   ]
  },
  {
   "cell_type": "code",
   "execution_count": 87,
   "metadata": {},
   "outputs": [
    {
     "data": {
      "text/plain": [
       "(7360, 11)"
      ]
     },
     "execution_count": 87,
     "metadata": {},
     "output_type": "execute_result"
    }
   ],
   "source": [
    "car_data.shape"
   ]
  },
  {
   "cell_type": "markdown",
   "metadata": {},
   "source": [
    "Next we can see the quantity of missing values in each of the columns. We can see that some of the features have a lot of missing values, and some not so much. I will go two ways, first I will create a model with a dataset where all the NaN values were dropped, and second I will impute the NaN values and make a model. "
   ]
  },
  {
   "cell_type": "code",
   "execution_count": 92,
   "metadata": {},
   "outputs": [
    {
     "data": {
      "text/plain": [
       "Год выпуска      96\n",
       "КПП             177\n",
       "Мощность       1588\n",
       "Объём           250\n",
       "Привод          622\n",
       "Пробег         2358\n",
       "Руль            404\n",
       "Тип кузова       20\n",
       "Топливо         162\n",
       "Цвет            593\n",
       "Цена              0\n",
       "dtype: int64"
      ]
     },
     "execution_count": 92,
     "metadata": {},
     "output_type": "execute_result"
    }
   ],
   "source": [
    "car_data.isnull().sum()"
   ]
  },
  {
   "cell_type": "markdown",
   "metadata": {},
   "source": [
    "Next I would like to see detailed statistical summary of data. From the summary, we can see that mean of data and standart deviation have extreme values, and looking at max values at dataset, I can suggest that maximum values skewed the mean and std methods, later I will eliminate or impute those extreme values in dataset, also in next summary we can see the datatype of each column that we have."
   ]
  },
  {
   "cell_type": "code",
   "execution_count": 88,
   "metadata": {},
   "outputs": [
    {
     "data": {
      "text/html": [
       "<div>\n",
       "<style scoped>\n",
       "    .dataframe tbody tr th:only-of-type {\n",
       "        vertical-align: middle;\n",
       "    }\n",
       "\n",
       "    .dataframe tbody tr th {\n",
       "        vertical-align: top;\n",
       "    }\n",
       "\n",
       "    .dataframe thead th {\n",
       "        text-align: right;\n",
       "    }\n",
       "</style>\n",
       "<table border=\"1\" class=\"dataframe\">\n",
       "  <thead>\n",
       "    <tr style=\"text-align: right;\">\n",
       "      <th></th>\n",
       "      <th>Год выпуска</th>\n",
       "      <th>Мощность</th>\n",
       "      <th>Объём</th>\n",
       "      <th>Пробег</th>\n",
       "      <th>Цена</th>\n",
       "    </tr>\n",
       "  </thead>\n",
       "  <tbody>\n",
       "    <tr>\n",
       "      <th>count</th>\n",
       "      <td>7264.000</td>\n",
       "      <td>5772.000</td>\n",
       "      <td>7110.000</td>\n",
       "      <td>5002.000</td>\n",
       "      <td>7360.000</td>\n",
       "    </tr>\n",
       "    <tr>\n",
       "      <th>mean</th>\n",
       "      <td>2005.280</td>\n",
       "      <td>1925003420886.620</td>\n",
       "      <td>117997.289</td>\n",
       "      <td>1846469696291872.250</td>\n",
       "      <td>124513.892</td>\n",
       "    </tr>\n",
       "    <tr>\n",
       "      <th>std</th>\n",
       "      <td>7.055</td>\n",
       "      <td>146249479561645.906</td>\n",
       "      <td>8440245.233</td>\n",
       "      <td>130412158247654592.000</td>\n",
       "      <td>9013470.731</td>\n",
       "    </tr>\n",
       "    <tr>\n",
       "      <th>min</th>\n",
       "      <td>1961.000</td>\n",
       "      <td>1.000</td>\n",
       "      <td>0.000</td>\n",
       "      <td>1.000</td>\n",
       "      <td>0.000</td>\n",
       "    </tr>\n",
       "    <tr>\n",
       "      <th>25%</th>\n",
       "      <td>2001.000</td>\n",
       "      <td>136.000</td>\n",
       "      <td>2.000</td>\n",
       "      <td>39885.000</td>\n",
       "      <td>4000.000</td>\n",
       "    </tr>\n",
       "    <tr>\n",
       "      <th>50%</th>\n",
       "      <td>2004.000</td>\n",
       "      <td>180.000</td>\n",
       "      <td>2.400</td>\n",
       "      <td>116339.500</td>\n",
       "      <td>7800.000</td>\n",
       "    </tr>\n",
       "    <tr>\n",
       "      <th>75%</th>\n",
       "      <td>2011.000</td>\n",
       "      <td>250.000</td>\n",
       "      <td>3.200</td>\n",
       "      <td>179000.000</td>\n",
       "      <td>18889.750</td>\n",
       "    </tr>\n",
       "    <tr>\n",
       "      <th>max</th>\n",
       "      <td>2018.000</td>\n",
       "      <td>11111111111111112.000</td>\n",
       "      <td>705435466.000</td>\n",
       "      <td>9223372036854775808.000</td>\n",
       "      <td>773152600.000</td>\n",
       "    </tr>\n",
       "  </tbody>\n",
       "</table>\n",
       "</div>"
      ],
      "text/plain": [
       "       Год выпуска              Мощность         Объём  \\\n",
       "count     7264.000              5772.000      7110.000   \n",
       "mean      2005.280     1925003420886.620    117997.289   \n",
       "std          7.055   146249479561645.906   8440245.233   \n",
       "min       1961.000                 1.000         0.000   \n",
       "25%       2001.000               136.000         2.000   \n",
       "50%       2004.000               180.000         2.400   \n",
       "75%       2011.000               250.000         3.200   \n",
       "max       2018.000 11111111111111112.000 705435466.000   \n",
       "\n",
       "                       Пробег          Цена  \n",
       "count                5002.000      7360.000  \n",
       "mean     1846469696291872.250    124513.892  \n",
       "std    130412158247654592.000   9013470.731  \n",
       "min                     1.000         0.000  \n",
       "25%                 39885.000      4000.000  \n",
       "50%                116339.500      7800.000  \n",
       "75%                179000.000     18889.750  \n",
       "max   9223372036854775808.000 773152600.000  "
      ]
     },
     "execution_count": 88,
     "metadata": {},
     "output_type": "execute_result"
    }
   ],
   "source": [
    "car_data.describe()"
   ]
  },
  {
   "cell_type": "code",
   "execution_count": 89,
   "metadata": {},
   "outputs": [
    {
     "name": "stdout",
     "output_type": "stream",
     "text": [
      "<class 'pandas.core.frame.DataFrame'>\n",
      "RangeIndex: 7360 entries, 0 to 7359\n",
      "Data columns (total 11 columns):\n",
      "Год выпуска    7264 non-null float64\n",
      "КПП            7183 non-null object\n",
      "Мощность       5772 non-null float64\n",
      "Объём          7110 non-null float64\n",
      "Привод         6738 non-null object\n",
      "Пробег         5002 non-null float64\n",
      "Руль           6956 non-null object\n",
      "Тип кузова     7340 non-null object\n",
      "Топливо        7198 non-null object\n",
      "Цвет           6767 non-null object\n",
      "Цена           7360 non-null float64\n",
      "dtypes: float64(5), object(6)\n",
      "memory usage: 460.0+ KB\n"
     ]
    }
   ],
   "source": [
    "car_data.info()"
   ]
  },
  {
   "cell_type": "markdown",
   "metadata": {},
   "source": [
    "Next, I would want to see the correlation matrix between each of the continous(numeric) features. By now looking at summary above, I now that dataset has extreme values in the data, each one of continious variables contains extreme values, which we need to eliminate, or make it NaN and impute, because if we won't, it will make a huge affect on correlations and predictions. In the plot below we can see that correlation between continous variables is very low, it is due to the skewed data. There is no meaining at keeping analysis with this kind of data, at first I will eliminate extreme values just to see important relationships, I will not change dataset, the dataset will be changed and cleaned in \"Cars-Data-Cleaning\" notebook"
   ]
  },
  {
   "cell_type": "code",
   "execution_count": 90,
   "metadata": {},
   "outputs": [
    {
     "data": {
      "text/plain": [
       "<matplotlib.axes._subplots.AxesSubplot at 0xeeed530>"
      ]
     },
     "execution_count": 90,
     "metadata": {},
     "output_type": "execute_result"
    },
    {
     "data": {
      "image/png": "[encoded data removed]",
      "text/plain": [
       "<matplotlib.figure.Figure at 0xec7b470>"
      ]
     },
     "metadata": {},
     "output_type": "display_data"
    }
   ],
   "source": [
    "import seaborn as sns\n",
    "import matplotlib.pyplot as plt \n",
    "import numpy as np\n",
    "%matplotlib inline\n",
    "\n",
    "sns.set(style = \"white\")\n",
    "corr = car_data.corr()\n",
    "\n",
    "mask = np.zeros_like(corr, dtype=np.bool)\n",
    "mask[np.triu_indices_from(mask)] = True\n",
    "f, ax = plt.subplots(figsize=(11, 9))\n",
    "cmap = sns.diverging_palette(220, 10, as_cmap=True)\n",
    "\n",
    "# Draw the heatmap with the mask and correct aspect ratio\n",
    "sns.heatmap(corr, mask=mask, cmap=cmap, vmax=.3, center=0,\n",
    "            square=True, linewidths=.5, cbar_kws={\"shrink\": .5})"
   ]
  },
  {
   "cell_type": "markdown",
   "metadata": {},
   "source": [
    "In the dataset categorical features don't have extreme values, and continuous feature \"Год выпуска\" doesn't have extreme values too. I think it is due to the way people could post advertisements. Categorical features and year feature could be inputed via selection, and continous numbers could be of any range. Because some features of data have a lot of ouliers,"
   ]
  },
  {
   "cell_type": "code",
   "execution_count": 142,
   "metadata": {},
   "outputs": [],
   "source": [
    "quantile = car_data[\"Пробег\"].quantile(0.1)"
   ]
  },
  {
   "cell_type": "code",
   "execution_count": 143,
   "metadata": {},
   "outputs": [
    {
     "data": {
      "text/plain": [
       "169.0"
      ]
     },
     "execution_count": 143,
     "metadata": {},
     "output_type": "execute_result"
    }
   ],
   "source": [
    "quantile"
   ]
  },
  {
   "cell_type": "code",
   "execution_count": null,
   "metadata": {},
   "outputs": [],
   "source": []
  }
 ],
 "metadata": {
  "kernelspec": {
   "display_name": "Python 3",
   "language": "python",
   "name": "python3"
  },
  "language_info": {
   "codemirror_mode": {
    "name": "ipython",
    "version": 3
   },
   "file_extension": ".py",
   "mimetype": "text/x-python",
   "name": "python",
   "nbconvert_exporter": "python",
   "pygments_lexer": "ipython3",
   "version": "3.6.4"
  }
 },
 "nbformat": 4,
 "nbformat_minor": 2
}
