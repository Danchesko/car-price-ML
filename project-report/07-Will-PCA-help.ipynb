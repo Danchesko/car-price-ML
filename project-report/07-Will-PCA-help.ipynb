{
 "cells": [
  {
   "cell_type": "markdown",
   "metadata": {},
   "source": [
    "<center><h1>Using PCA for more efficient learning and for taking out noise from data</center></h1>\n",
    "***\n"
   ]
  },
  {
   "cell_type": "markdown",
   "metadata": {},
   "source": [
    "Here we will see will PCA helps to make better performance. PCA - Principal Component Analysis - helps to reduce dimensions of the dataset for efficient learning and also for eliminating the noice."
   ]
  },
  {
   "cell_type": "code",
   "execution_count": 22,
   "metadata": {},
   "outputs": [],
   "source": [
    "import pandas as pd\n",
    "import sys\n",
    "sys.path.append(\"../src\")\n",
    "from car_price_prediction.utils import dataset_manager, df_utils\n",
    "from sklearn.decomposition import PCA\n",
    "from sklearn.ensemble import RandomForestRegressor\n",
    "from sklearn.metrics import mean_absolute_error\n",
    "from sklearn.model_selection import cross_val_score\n",
    "import numpy as np\n",
    "from sklearn.metrics import r2_score"
   ]
  },
  {
   "cell_type": "code",
   "execution_count": 23,
   "metadata": {},
   "outputs": [],
   "source": [
    "df = dataset_manager.get_processed_dataset()\n",
    "X_train,X_test,y_train,y_test = df_utils.get_train_test(df,test_size=0.2)\n",
    "X_train_ss, X_test_ss = df_utils.scale_train_test(X_train,X_test)\n",
    "X_train_ssdum, X_test_ssdum = df_utils.make_dummies(X_train_ss,X_test_ss)"
   ]
  },
  {
   "cell_type": "markdown",
   "metadata": {},
   "source": [
    "Below, you can see how function plotting the result of the training and cv tests, on quantity of pca components. This algorithm works few hours on desktop computer, so I will just load plot, from plot folder in src, if you need you can run it."
   ]
  },
  {
   "cell_type": "code",
   "execution_count": 24,
   "metadata": {},
   "outputs": [],
   "source": [
    "def get_pca_plot(X,y):\n",
    "    param_range = np.arange(1,X.shape[1]+1,1)\n",
    "    train_scores, cv_scores = get_pca_results(X,y)\n",
    "    plt.title('Model Complexity curves')\n",
    "    plt.plot(param_range, train_scores,label='Training score',lw = 2)\n",
    "    plt.plot(param_range,cv_scores, label = 'CV score',lw = 2)\n",
    "    plt.xlabel('Number of dimensions(components)')\n",
    "    plt.ylabel('Mean absolute error')\n",
    "    plt.legend()\n",
    "    return plt\n",
    "    \n",
    "def get_pca_results(X,y):\n",
    "    forest = RandomForestRegressor()\n",
    "    train_scores = []\n",
    "    cv_scores = []\n",
    "    for dimension in range(1,X.shape[1]):\n",
    "        pca = PCA(n_components=dimension) \n",
    "        X_pca = pca.fit_transform(X)\n",
    "        forest.fit(X_pca,y)\n",
    "        y_pred = forest.predict(X_pca)\n",
    "        train_scores.append(mean_absolute_error(y,y_pred))\n",
    "        cv_score = cross_val_score(forest, X_pca,y,cv = 5, scoring='neg_mean_absolute_error')\n",
    "        cv_scores.append(abs(cv_score.mean()))\n",
    "    return train_scores,cv_scores"
   ]
  },
  {
   "cell_type": "markdown",
   "metadata": {},
   "source": [
    "Plot below shows the results of train and cv set on different dimensions starting with one. It shows us that the results start to be the same after 50th dimension."
   ]
  },
  {
   "cell_type": "code",
   "execution_count": 25,
   "metadata": {},
   "outputs": [
    {
     "data": {
      "image/png": "[encoded data removed]",
      "text/plain": [
       "<IPython.core.display.Image object>"
      ]
     },
     "metadata": {},
     "output_type": "display_data"
    }
   ],
   "source": [
    "from IPython.display import Image\n",
    "img = Image('../plots/model-complexity.png')\n",
    "display(img)"
   ]
  },
  {
   "cell_type": "markdown",
   "metadata": {},
   "source": [
    "Here, you can see the results of the algorithm showing how much of the variance remains after pca reduction"
   ]
  },
  {
   "cell_type": "code",
   "execution_count": 26,
   "metadata": {},
   "outputs": [
    {
     "name": "stdout",
     "output_type": "stream",
     "text": [
      "PCA with 0 components retains: 0.000 of variance\n",
      "PCA with 1 components retains: 28.109 of variance\n",
      "PCA with 2 components retains: 44.481 of variance\n",
      "PCA with 3 components retains: 50.820 of variance\n",
      "PCA with 4 components retains: 56.376 of variance\n",
      "PCA with 5 components retains: 60.222 of variance\n",
      "PCA with 6 components retains: 63.625 of variance\n",
      "PCA with 7 components retains: 66.469 of variance\n",
      "PCA with 8 components retains: 69.077 of variance\n",
      "PCA with 9 components retains: 71.460 of variance\n",
      "PCA with 10 components retains: 73.682 of variance\n",
      "PCA with 11 components retains: 75.621 of variance\n",
      "PCA with 12 components retains: 77.403 of variance\n",
      "PCA with 13 components retains: 79.139 of variance\n",
      "PCA with 14 components retains: 80.798 of variance\n",
      "PCA with 15 components retains: 82.186 of variance\n",
      "PCA with 16 components retains: 83.477 of variance\n",
      "PCA with 17 components retains: 84.590 of variance\n",
      "PCA with 18 components retains: 85.649 of variance\n",
      "PCA with 19 components retains: 86.650 of variance\n",
      "PCA with 20 components retains: 87.569 of variance\n",
      "PCA with 21 components retains: 88.462 of variance\n",
      "PCA with 22 components retains: 89.268 of variance\n",
      "PCA with 23 components retains: 90.010 of variance\n",
      "PCA with 24 components retains: 90.646 of variance\n",
      "PCA with 25 components retains: 91.260 of variance\n",
      "PCA with 26 components retains: 91.853 of variance\n",
      "PCA with 27 components retains: 92.400 of variance\n",
      "PCA with 28 components retains: 92.929 of variance\n",
      "PCA with 29 components retains: 93.421 of variance\n",
      "PCA with 30 components retains: 93.893 of variance\n",
      "PCA with 31 components retains: 94.302 of variance\n",
      "PCA with 32 components retains: 94.696 of variance\n",
      "PCA with 33 components retains: 95.069 of variance\n",
      "PCA with 34 components retains: 95.430 of variance\n",
      "PCA with 35 components retains: 95.748 of variance\n",
      "PCA with 36 components retains: 96.049 of variance\n",
      "PCA with 37 components retains: 96.337 of variance\n",
      "PCA with 38 components retains: 96.614 of variance\n",
      "PCA with 39 components retains: 96.853 of variance\n",
      "PCA with 40 components retains: 97.085 of variance\n",
      "PCA with 41 components retains: 97.297 of variance\n",
      "PCA with 42 components retains: 97.496 of variance\n",
      "PCA with 43 components retains: 97.686 of variance\n",
      "PCA with 44 components retains: 97.864 of variance\n",
      "PCA with 45 components retains: 98.033 of variance\n",
      "PCA with 46 components retains: 98.188 of variance\n",
      "PCA with 47 components retains: 98.330 of variance\n",
      "PCA with 48 components retains: 98.468 of variance\n",
      "PCA with 49 components retains: 98.594 of variance\n",
      "PCA with 50 components retains: 98.712 of variance\n",
      "PCA with 51 components retains: 98.822 of variance\n",
      "PCA with 52 components retains: 98.922 of variance\n",
      "PCA with 53 components retains: 99.021 of variance\n",
      "PCA with 54 components retains: 99.115 of variance\n",
      "PCA with 55 components retains: 99.206 of variance\n",
      "PCA with 56 components retains: 99.291 of variance\n",
      "PCA with 57 components retains: 99.363 of variance\n",
      "PCA with 58 components retains: 99.427 of variance\n",
      "PCA with 59 components retains: 99.483 of variance\n",
      "PCA with 60 components retains: 99.532 of variance\n",
      "PCA with 61 components retains: 99.578 of variance\n",
      "PCA with 62 components retains: 99.620 of variance\n",
      "PCA with 63 components retains: 99.656 of variance\n",
      "PCA with 64 components retains: 99.690 of variance\n",
      "PCA with 65 components retains: 99.719 of variance\n",
      "PCA with 66 components retains: 99.748 of variance\n",
      "PCA with 67 components retains: 99.774 of variance\n",
      "PCA with 68 components retains: 99.798 of variance\n",
      "PCA with 69 components retains: 99.820 of variance\n",
      "PCA with 70 components retains: 99.838 of variance\n",
      "PCA with 71 components retains: 99.855 of variance\n",
      "PCA with 72 components retains: 99.871 of variance\n",
      "PCA with 73 components retains: 99.882 of variance\n",
      "PCA with 74 components retains: 99.894 of variance\n",
      "PCA with 75 components retains: 99.904 of variance\n",
      "PCA with 76 components retains: 99.914 of variance\n",
      "PCA with 77 components retains: 99.923 of variance\n",
      "PCA with 78 components retains: 99.931 of variance\n",
      "PCA with 79 components retains: 99.939 of variance\n",
      "PCA with 80 components retains: 99.946 of variance\n",
      "PCA with 81 components retains: 99.952 of variance\n",
      "PCA with 82 components retains: 99.957 of variance\n",
      "PCA with 83 components retains: 99.961 of variance\n",
      "PCA with 84 components retains: 99.964 of variance\n",
      "PCA with 85 components retains: 99.967 of variance\n",
      "PCA with 86 components retains: 99.970 of variance\n",
      "PCA with 87 components retains: 99.973 of variance\n",
      "PCA with 88 components retains: 99.976 of variance\n",
      "PCA with 89 components retains: 99.979 of variance\n",
      "PCA with 90 components retains: 99.982 of variance\n",
      "PCA with 91 components retains: 99.985 of variance\n",
      "PCA with 92 components retains: 99.987 of variance\n",
      "PCA with 93 components retains: 99.988 of variance\n",
      "PCA with 94 components retains: 99.990 of variance\n",
      "PCA with 95 components retains: 99.991 of variance\n",
      "PCA with 96 components retains: 99.993 of variance\n",
      "PCA with 97 components retains: 99.994 of variance\n",
      "PCA with 98 components retains: 99.996 of variance\n",
      "PCA with 99 components retains: 99.997 of variance\n",
      "PCA with 100 components retains: 99.999 of variance\n",
      "PCA with 101 components retains: 100.000 of variance\n",
      "PCA with 102 components retains: 100.000 of variance\n",
      "PCA with 103 components retains: 100.000 of variance\n",
      "PCA with 104 components retains: 100.000 of variance\n",
      "PCA with 105 components retains: 100.000 of variance\n",
      "PCA with 106 components retains: 100.000 of variance\n",
      "PCA with 107 components retains: 100.000 of variance\n"
     ]
    }
   ],
   "source": [
    "pca = PCA()\n",
    "pca.fit(X_train_ssdum)\n",
    "for dimension in range(X_train_ssdum.shape[1]):\n",
    "    variance = pca.explained_variance_ratio_[:dimension].sum() * 100.0\n",
    "    print(\"PCA with %d components retains: %.3f of variance\" % (dimension,variance))"
   ]
  },
  {
   "cell_type": "markdown",
   "metadata": {},
   "source": [
    "We can see that 99 per cent of variance retains if we reduce dimensions to 53-54 components via PCA. Which is good, considering my algorithm works a little slow on server. And lastly I want to see performance on cross-validation of reduced data and usual data. And if accuracy remains approximately same or even gets better than without PCA (that happens when data is too noicy), I am going to use it"
   ]
  },
  {
   "cell_type": "code",
   "execution_count": 27,
   "metadata": {},
   "outputs": [
    {
     "name": "stdout",
     "output_type": "stream",
     "text": [
      "Cross-Validation score on data without dimensionality reduction is -2321.598\n"
     ]
    }
   ],
   "source": [
    "from sklearn.ensemble import RandomForestRegressor\n",
    "forest = RandomForestRegressor()\n",
    "X_train_dum,X_test_dum = df_utils.make_dummies(X_train,X_test)\n",
    "scores_without_pca = cross_val_score(forest,X_train_dum,y_train,scoring='neg_mean_absolute_error',cv=5)\n",
    "print(\"Cross-Validation score on data without dimensionality reduction is %.3f\" % scores_without_pca.mean())"
   ]
  },
  {
   "cell_type": "code",
   "execution_count": 28,
   "metadata": {},
   "outputs": [
    {
     "name": "stdout",
     "output_type": "stream",
     "text": [
      "Cross-Validation score on data with PCA with 54 components is -2634.624\n"
     ]
    }
   ],
   "source": [
    "forest_pca = RandomForestRegressor()\n",
    "pca = PCA(n_components=54)\n",
    "pca.fit(X_train_ssdum)\n",
    "X_train_pca = pca.fit_transform(X_train_ssdum)\n",
    "X_test_pca = pca.transform(X_test_ssdum)\n",
    "scores_pca = cross_val_score(forest_pca,X_train_pca,y_train,scoring='neg_mean_absolute_error',cv=5)\n",
    "print(\"Cross-Validation score on data with PCA with 54 components is %.3f\" %scores_pca.mean())"
   ]
  },
  {
   "cell_type": "markdown",
   "metadata": {},
   "source": [
    "And on the test set the  r2 score is as follows"
   ]
  },
  {
   "cell_type": "code",
   "execution_count": 29,
   "metadata": {},
   "outputs": [
    {
     "name": "stdout",
     "output_type": "stream",
     "text": [
      "0.9151188872013153\n"
     ]
    }
   ],
   "source": [
    "forest.fit(X_train_dum,y_train)\n",
    "y_test_pred = forest.predict(X_test_dum)\n",
    "print(r2_score(y_test,y_test_pred))"
   ]
  },
  {
   "cell_type": "code",
   "execution_count": 30,
   "metadata": {},
   "outputs": [
    {
     "name": "stdout",
     "output_type": "stream",
     "text": [
      "0.8831374561862407\n"
     ]
    }
   ],
   "source": [
    "forest.fit(X_train_pca,y_train)\n",
    "y_test_pred_pca = forest.predict(X_test_pca)\n",
    "print(r2_score(y_test,y_test_pred_pca))"
   ]
  },
  {
   "cell_type": "markdown",
   "metadata": {},
   "source": [
    "I am losing my accuracy after PCA implementation. I think the reason is, car's price can be totally different depending on year, even one year difference may change price vastly. So, even after retaining 99 percent of information in dataset, I still lose accuracy, and for me accuracy is more important, than waiting time for a prediction."
   ]
  }
 ],
 "metadata": {
  "kernelspec": {
   "display_name": "Python 3",
   "language": "python",
   "name": "python3"
  },
  "language_info": {
   "codemirror_mode": {
    "name": "ipython",
    "version": 3
   },
   "file_extension": ".py",
   "mimetype": "text/x-python",
   "name": "python",
   "nbconvert_exporter": "python",
   "pygments_lexer": "ipython3",
   "version": "3.6.4"
  }
 },
 "nbformat": 4,
 "nbformat_minor": 2
}
