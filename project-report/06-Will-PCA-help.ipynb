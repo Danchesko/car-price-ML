{
 "cells": [
  {
   "cell_type": "markdown",
   "metadata": {},
   "source": [
    "<center><h1>Using PCA for more efficient learning and for taking out noise from data</center></h1>\n",
    "***\n"
   ]
  },
  {
   "cell_type": "markdown",
   "metadata": {},
   "source": [
    "Here we will see will PCA helps to make better performance. PCA - Principal Component Analysis - helps to reduce dimensions of the dataset for efficient learning and also for eliminating the noice."
   ]
  },
  {
   "cell_type": "code",
   "execution_count": 5,
   "metadata": {},
   "outputs": [],
   "source": [
    "import pandas as pd\n",
    "import sys\n",
    "sys.path.append(\"../src\")\n",
    "from car_price_prediction.utils import load_or_save_dataset, get_X_and_y\n",
    "from sklearn.decomposition import PCA"
   ]
  },
  {
   "cell_type": "code",
   "execution_count": 2,
   "metadata": {},
   "outputs": [],
   "source": [
    "df = load_or_save_dataset.get_processed_dataset()\n",
    "X_train,X_test,y_train,y_test = get_X_and_y.get_train_test_std(df,test_size=0.2)\n",
    "X_train[\"Год выпуска\"] = X_train[\"Год выпуска\"].astype(int).astype(str)\n",
    "X_test[\"Год выпуска\"] = X_test[\"Год выпуска\"].astype(int).astype(str)\n",
    "X_train,X_test = get_X_and_y.make_dummies_std(X_train,X_test)"
   ]
  },
  {
   "cell_type": "code",
   "execution_count": 73,
   "metadata": {},
   "outputs": [],
   "source": [
    "for dimension in range(X_train.shape[1]):\n",
    "    pca = PCA(n_components=dimension)\n",
    "    pca.fit(X_train)\n",
    "    variance = pca.explained_variance_ratio_.sum()*100.0\n",
    "    if variance>=99:\n",
    "        break"
   ]
  },
  {
   "cell_type": "markdown",
   "metadata": {},
   "source": [
    "We can see that 99 per cent of variance retains if we reduce dimensions via PCA on 82-83 dimension. Which is good, considering my algorithm works a little slow on server. I will use PCA dimensionality reduction when predicting model. "
   ]
  },
  {
   "cell_type": "code",
   "execution_count": 74,
   "metadata": {},
   "outputs": [
    {
     "data": {
      "text/plain": [
       "82"
      ]
     },
     "execution_count": 74,
     "metadata": {},
     "output_type": "execute_result"
    }
   ],
   "source": [
    "dimension"
   ]
  }
 ],
 "metadata": {
  "kernelspec": {
   "display_name": "Python 3",
   "language": "python",
   "name": "python3"
  },
  "language_info": {
   "codemirror_mode": {
    "name": "ipython",
    "version": 3
   },
   "file_extension": ".py",
   "mimetype": "text/x-python",
   "name": "python",
   "nbconvert_exporter": "python",
   "pygments_lexer": "ipython3",
   "version": "3.6.4"
  }
 },
 "nbformat": 4,
 "nbformat_minor": 2
}
