{
 "cells": [
  {
   "cell_type": "markdown",
   "metadata": {},
   "source": [
    "<center><h1>Model Selection</center></h1>\n",
    "***"
   ]
  },
  {
   "cell_type": "markdown",
   "metadata": {},
   "source": [
    "In this notebook we will see, which model will perform better on given dataset. In the last notebook, we saw which dataset is the most unbiased and from now on we will work with it."
   ]
  },
  {
   "cell_type": "code",
   "execution_count": 66,
   "metadata": {},
   "outputs": [],
   "source": [
    "import pandas as pd\n",
    "import sys\n",
    "sys.path.append(\"models\")\n",
    "import set_jupyter_path\n",
    "from src.car_price_prediction.utils import df_utils,dataset_manager\n",
    "from linear_regression_model import LinearRegressionModel\n",
    "from random_forest_model import RandomForestModel\n",
    "from svm_model import SVMModel\n",
    "from bagging_model import BaggingModel\n",
    "from lasso_regression_model import LassoRegressionModel\n",
    "from sklearn.preprocessing import StandardScaler\n",
    "from sklearn.utils import shuffle\n",
    "\n",
    "import warnings\n",
    "warnings.filterwarnings('ignore')"
   ]
  },
  {
   "cell_type": "code",
   "execution_count": 67,
   "metadata": {},
   "outputs": [],
   "source": [
    "df = shuffle(dataset_manager.get_processed_dataset())\n",
    "X,y = df_utils.get_data_and_target(df)\n",
    "X_std = df_utils.scale_train(X)\n",
    "X = pd.get_dummies(X)\n",
    "X_std = pd.get_dummies(X_std)"
   ]
  },
  {
   "cell_type": "code",
   "execution_count": 68,
   "metadata": {},
   "outputs": [
    {
     "data": {
      "text/plain": [
       "'CV MAE score for Linear Regression: -1189114.013'"
      ]
     },
     "execution_count": 68,
     "metadata": {},
     "output_type": "execute_result"
    }
   ],
   "source": [
    "lr = LinearRegressionModel('Linear Regression')\n",
    "lr.cv_score(X,y)"
   ]
  },
  {
   "cell_type": "code",
   "execution_count": 69,
   "metadata": {},
   "outputs": [
    {
     "data": {
      "text/plain": [
       "'CV MAE score for Random Forest: -1783.168'"
      ]
     },
     "execution_count": 69,
     "metadata": {},
     "output_type": "execute_result"
    }
   ],
   "source": [
    "forest = RandomForestModel(\"Random Forest\",n_estimators=10)\n",
    "forest.cv_score(X,y, cv = 5)"
   ]
  },
  {
   "cell_type": "code",
   "execution_count": 70,
   "metadata": {},
   "outputs": [
    {
     "data": {
      "text/plain": [
       "'CV MAE score for Bootstrap Aggregating: -1849.414'"
      ]
     },
     "execution_count": 70,
     "metadata": {},
     "output_type": "execute_result"
    }
   ],
   "source": [
    "bagging = BaggingModel('Bootstrap Aggregating')\n",
    "bagging.cv_score(X,y, cv = 5)"
   ]
  },
  {
   "cell_type": "code",
   "execution_count": 71,
   "metadata": {},
   "outputs": [
    {
     "data": {
      "text/plain": [
       "'CV MAE score for LASSO regression: -5552.096'"
      ]
     },
     "execution_count": 71,
     "metadata": {},
     "output_type": "execute_result"
    }
   ],
   "source": [
    "lasso = LassoRegressionModel(\"LASSO regression\")\n",
    "lasso.cv_score(X_std,y)"
   ]
  },
  {
   "cell_type": "markdown",
   "metadata": {},
   "source": [
    "We can see that the best models are Random Forest Regressor and Bagging Regressor. And there is a very big mistake in Linear Regression, it is due to the overfitting, which we can see Lasso Regression takes care of."
   ]
  },
  {
   "cell_type": "markdown",
   "metadata": {},
   "source": [
    " Looking at the errors of Bagging and Random Forest, I can say, that they probably have same mistakes, it's due to the fact that Random Forest is actually is a subset of Bootstrap Aggregating. And I will probably use Random Forest Regressor, because it tends to perform better than Bagging, due to the random choice of predictors to use in each tree, which makes each tree more different from each other, and hence reduces the bias of the model."
   ]
  }
 ],
 "metadata": {
  "kernelspec": {
   "display_name": "Python 3",
   "language": "python",
   "name": "python3"
  },
  "language_info": {
   "codemirror_mode": {
    "name": "ipython",
    "version": 3
   },
   "file_extension": ".py",
   "mimetype": "text/x-python",
   "name": "python",
   "nbconvert_exporter": "python",
   "pygments_lexer": "ipython3",
   "version": "3.6.5"
  }
 },
 "nbformat": 4,
 "nbformat_minor": 2
}
