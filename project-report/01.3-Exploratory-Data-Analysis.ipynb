{
 "cells": [
  {
   "cell_type": "markdown",
   "metadata": {},
   "source": [
    "<center><h1> Exploratory Data Analysis of cars dataset (Part 3)</h1></center>\n",
    "\n",
    "***\n",
    "\n",
    "<center><h2> Multivariate descriptive statistics </h2></center>"
   ]
  },
  {
   "cell_type": "markdown",
   "metadata": {},
   "source": [
    "Now it's time to see, which features of dataset are important and which are not so. I am going to use RandomForest Regressor module from scklearn library to analyze importance of features. Also, I wll use OneHotEncoder to make categorical features numeric.  \n",
    "I will drop the NaN values for this example, because RandomForestRegressor doesn't take as an input data with missing values.\n",
    "I will replace NaN values in urgency column, cause there is a lot of missing values there.  \n",
    "And also I will drop power column, because of several reasons:\n",
    "* Power column is dependent from capacity column on 87.5 per cent, we can see it above in correlation matrix\n",
    "* Most of the people in KG doesn't care about the power, but do about capacity, that's why there are a lot of NaN values in power column, and a lot of impossible values\n",
    "* Later in notebooks, we will see that power column actually deteriorate prediction accuracy"
   ]
  },
  {
   "cell_type": "code",
   "execution_count": 15,
   "metadata": {
    "scrolled": true
   },
   "outputs": [],
   "source": [
    "from sklearn.ensemble import RandomForestRegressor\n",
    "from sklearn.preprocessing import OneHotEncoder\n",
    "from src.car_price_prediction.utils import df_utils\n",
    "\n",
    "car_data.dropna(inplace=True)\n",
    "car_data.drop(columns = [\"Мощность\"], inplace = True)"
   ]
  },
  {
   "cell_type": "code",
   "execution_count": 16,
   "metadata": {},
   "outputs": [
    {
     "name": "stdout",
     "output_type": "stream",
     "text": [
      "Features sorted by their score:\n",
      "[(0.4218, 'Год выпуска'), (0.3631, 'Объём'), (0.0802, 'Пробег'), (0.0186, 'Марка_porsche'), (0.013, 'Марка_mercedes-benz'), (0.0129, 'КПП_типтроник'), (0.0102, 'Тип кузова_хэтчбек'), (0.0065, 'Марка_lexus'), (0.0053, 'Тип кузова_минивэн / бус'), (0.0052, 'Тип кузова_седан'), (0.0052, 'Тип кузова_кроссовер'), (0.0045, 'Тип кузова_кабриолет'), (0.0044, 'Привод_передний'), (0.0037, 'Тип кузова_внедорожник / пикап'), (0.0035, 'Привод_постоянный полный'), (0.0026, 'Марка_toyota'), (0.0025, 'Цвет_черный'), (0.0025, 'Топливо_газ-бензин'), (0.0024, 'Топливо_дизель'), (0.0022, 'Тип кузова_купе'), (0.0022, 'Марка_уаз'), (0.0022, 'Марка_bmw'), (0.0018, 'КПП_механика'), (0.0016, 'Цвет_белый'), (0.0016, 'Топливо_бензин'), (0.0015, 'КПП_автомат'), (0.0014, 'Марка_cadillac'), (0.0013, 'Цвет_серый'), (0.0013, 'Марка_land rover'), (0.0011, 'Цвет_коричневый'), (0.001, 'Марка_kia'), (0.0009, 'Марка_nissan'), (0.0009, 'Марка_audi'), (0.0008, 'Марка_hyundai'), (0.0008, 'Марка_ford'), (0.0007, 'Привод_задний'), (0.0007, 'Марка_infiniti'), (0.0007, 'КПП_вариатор'), (0.0006, 'Цвет_желтый'), (0.0006, 'Марка_volkswagen'), (0.0005, 'Марка_ваз (lada)'), (0.0005, 'Марка_maserati'), (0.0004, 'Цвет_синий'), (0.0004, 'Цвет_серебряный'), (0.0003, 'Цвет_дипломат'), (0.0003, 'Цвет_белый жемчуг'), (0.0003, 'Марка_opel'), (0.0003, 'Марка_mitsubishi'), (0.0003, 'Марка_daewoo'), (0.0002, 'Цвет_оранжевый'), (0.0002, 'Цвет_мокрый асфальт'), (0.0002, 'Цвет_красный'), (0.0002, 'Привод_полный подключаемый'), (0.0002, 'Марка_honda'), (0.0001, 'Цвет_темно-синий'), (0.0001, 'Цвет_зеленый'), (0.0001, 'Цвет_вишневый'), (0.0001, 'Цвет_бежевый'), (0.0001, 'Тип кузова_универсал'), (0.0001, 'Руль_правый'), (0.0001, 'Руль_левый'), (0.0001, 'Марка_камаз'), (0.0001, 'Марка_subaru'), (0.0001, 'Марка_skoda'), (0.0001, 'Марка_dodge'), (0.0, 'Цвет_фиолетовый'), (0.0, 'Цвет_смарагд'), (0.0, 'Цвет_пурпурный'), (0.0, 'Цвет_морская волна'), (0.0, 'Цвет_золотой'), (0.0, 'Цвет_голубой'), (0.0, 'Цвет_бордовый'), (0.0, 'Цвет_бирюзовый'), (0.0, 'Цвет_баклажан'), (0.0, 'Топливо_газ'), (0.0, 'Марка_газ'), (0.0, 'Марка_suzuki'), (0.0, 'Марка_smart'), (0.0, 'Марка_seat'), (0.0, 'Марка_saturn'), (0.0, 'Марка_samsung'), (0.0, 'Марка_renault'), (0.0, 'Марка_ravon'), (0.0, 'Марка_mini'), (0.0, 'Марка_mazda'), (0.0, 'Марка_jeep'), (0.0, 'Марка_isuzu'), (0.0, 'Марка_hummer'), (0.0, 'Марка_hafei'), (0.0, 'Марка_daihatsu'), (0.0, 'Марка_citroen'), (0.0, 'Марка_chrysler'), (0.0, 'Марка_chevrolet'), (0.0, 'Марка_acura')]\n"
     ]
    }
   ],
   "source": [
    "X,y = df_utils.get_data_and_target(car_data)\n",
    "X_dummies = pd.get_dummies(X)\n",
    "forest = RandomForestRegressor()\n",
    "feat_labels = X_dummies.columns[:-1]\n",
    "forest.fit(X_dummies,y)\n",
    "importances = forest.feature_importances_\n",
    "indices = np.argsort(importances)[::-1]\n",
    "    \n",
    "print(\"Features sorted by their score:\")\n",
    "print(sorted(zip(map(lambda x: round(x, 4), forest.feature_importances_), X_dummies.columns.values), reverse=True))"
   ]
  },
  {
   "cell_type": "markdown",
   "metadata": {},
   "source": [
    "Now we will make use of dimensionality reduction algorithm which is called Principal Component Analysis(PCA). It will allow us to reduce the number of dimensions of a dataset. To visualize data I will reduce the number of dimensions to two. At first we will scale the whole dataset so it will have near to equal sizes. We will scale dataset via StandartScaler module of scikit learn module.From this plot we can see the distribution of data, and outliers as well."
   ]
  },
  {
   "cell_type": "code",
   "execution_count": 17,
   "metadata": {},
   "outputs": [
    {
     "data": {
      "text/plain": [
       "<matplotlib.collections.PathCollection at 0xb86b790>"
      ]
     },
     "execution_count": 17,
     "metadata": {},
     "output_type": "execute_result"
    },
    {
     "data": {
      "image/png": "[encoded data removed]",
      "text/plain": [
       "<matplotlib.figure.Figure at 0xb85cff0>"
      ]
     },
     "metadata": {},
     "output_type": "display_data"
    }
   ],
   "source": [
    "from sklearn.preprocessing import StandardScaler\n",
    "from sklearn.decomposition import PCA\n",
    "import matplotlib.pyplot as plt \n",
    "\n",
    "pca = PCA(n_components=1)\n",
    "scaler = StandardScaler()\n",
    "X_scaled = df_utils.scale_train(X)\n",
    "X_pca = pd.get_dummies(X_scaled)\n",
    "X_pca = pca.fit_transform(X_pca)\n",
    "plt.scatter(X_pca,y,marker = \"o\",lw=0.1)"
   ]
  },
  {
   "cell_type": "code",
   "execution_count": null,
   "metadata": {},
   "outputs": [],
   "source": []
  }
 ],
 "metadata": {
  "kernelspec": {
   "display_name": "Python 3",
   "language": "python",
   "name": "python3"
  },
  "language_info": {
   "codemirror_mode": {
    "name": "ipython",
    "version": 3
   },
   "file_extension": ".py",
   "mimetype": "text/x-python",
   "name": "python",
   "nbconvert_exporter": "python",
   "pygments_lexer": "ipython3",
   "version": "3.7.1"
  }
 },
 "nbformat": 4,
 "nbformat_minor": 2
}
