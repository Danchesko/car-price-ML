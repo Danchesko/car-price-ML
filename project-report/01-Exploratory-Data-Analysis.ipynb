{
 "cells": [
  {
   "cell_type": "markdown",
   "metadata": {},
   "source": [
    "<center><h1> Exploratory Data Analysis of car dataseet "
   ]
  },
  {
   "cell_type": "markdown",
   "metadata": {},
   "source": [
    "In this notebook, I will explore and analyze my data, visuliaze connections between features and do some statistic manipulations to show main characteristics of data. First I will import data, that \"page-scarper.py\" got from [cars.kg](cars.kg) and saved in \"cars_raw_data.csv\". I called raw, because later I will clean the data: fill missing values, detect and maybe eliminate outliers, and rescale data(standartization, normalization)."
   ]
  },
  {
   "cell_type": "markdown",
   "metadata": {},
   "source": [
    "I will import pandas, which is a library for data analysis, and you can see first 5 rows and last five raws of the data."
   ]
  },
  {
   "cell_type": "code",
   "execution_count": 2,
   "metadata": {},
   "outputs": [
    {
     "data": {
      "text/html": [
       "<div>\n",
       "<style scoped>\n",
       "    .dataframe tbody tr th:only-of-type {\n",
       "        vertical-align: middle;\n",
       "    }\n",
       "\n",
       "    .dataframe tbody tr th {\n",
       "        vertical-align: top;\n",
       "    }\n",
       "\n",
       "    .dataframe thead th {\n",
       "        text-align: right;\n",
       "    }\n",
       "</style>\n",
       "<table border=\"1\" class=\"dataframe\">\n",
       "  <thead>\n",
       "    <tr style=\"text-align: right;\">\n",
       "      <th></th>\n",
       "      <th>Год выпуска</th>\n",
       "      <th>КПП</th>\n",
       "      <th>Мощность</th>\n",
       "      <th>Объём</th>\n",
       "      <th>Привод</th>\n",
       "      <th>Пробег</th>\n",
       "      <th>Руль</th>\n",
       "      <th>Тип кузова</th>\n",
       "      <th>Топливо</th>\n",
       "      <th>Цвет</th>\n",
       "      <th>Цена</th>\n",
       "    </tr>\n",
       "  </thead>\n",
       "  <tbody>\n",
       "    <tr>\n",
       "      <th>0</th>\n",
       "      <td>1995.000</td>\n",
       "      <td>механика</td>\n",
       "      <td>150.000</td>\n",
       "      <td>2.000</td>\n",
       "      <td>задний</td>\n",
       "      <td>nan</td>\n",
       "      <td>NaN</td>\n",
       "      <td>седан</td>\n",
       "      <td>бензин</td>\n",
       "      <td>бордовый</td>\n",
       "      <td>4900.000</td>\n",
       "    </tr>\n",
       "    <tr>\n",
       "      <th>1</th>\n",
       "      <td>1993.000</td>\n",
       "      <td>автомат</td>\n",
       "      <td>125.000</td>\n",
       "      <td>2.800</td>\n",
       "      <td>полный подключаемый</td>\n",
       "      <td>268701.000</td>\n",
       "      <td>правый</td>\n",
       "      <td>внедорожник / пикап</td>\n",
       "      <td>дизель</td>\n",
       "      <td>синий</td>\n",
       "      <td>6000.000</td>\n",
       "    </tr>\n",
       "    <tr>\n",
       "      <th>2</th>\n",
       "      <td>1997.000</td>\n",
       "      <td>автомат</td>\n",
       "      <td>190.000</td>\n",
       "      <td>2.000</td>\n",
       "      <td>NaN</td>\n",
       "      <td>220000.000</td>\n",
       "      <td>правый</td>\n",
       "      <td>седан</td>\n",
       "      <td>бензин</td>\n",
       "      <td>серебряный</td>\n",
       "      <td>3100.000</td>\n",
       "    </tr>\n",
       "    <tr>\n",
       "      <th>3</th>\n",
       "      <td>2009.000</td>\n",
       "      <td>механика</td>\n",
       "      <td>298.000</td>\n",
       "      <td>3.000</td>\n",
       "      <td>полный подключаемый</td>\n",
       "      <td>120000.000</td>\n",
       "      <td>левый</td>\n",
       "      <td>универсал</td>\n",
       "      <td>дизель</td>\n",
       "      <td>черный</td>\n",
       "      <td>17000.000</td>\n",
       "    </tr>\n",
       "    <tr>\n",
       "      <th>4</th>\n",
       "      <td>2004.000</td>\n",
       "      <td>механика</td>\n",
       "      <td>160.000</td>\n",
       "      <td>3.000</td>\n",
       "      <td>полный подключаемый</td>\n",
       "      <td>200000.000</td>\n",
       "      <td>левый</td>\n",
       "      <td>внедорожник / пикап</td>\n",
       "      <td>дизель</td>\n",
       "      <td>темно-синий</td>\n",
       "      <td>7000.000</td>\n",
       "    </tr>\n",
       "  </tbody>\n",
       "</table>\n",
       "</div>"
      ],
      "text/plain": [
       "   Год выпуска       КПП  Мощность  Объём               Привод     Пробег  \\\n",
       "0     1995.000  механика   150.000  2.000               задний        nan   \n",
       "1     1993.000   автомат   125.000  2.800  полный подключаемый 268701.000   \n",
       "2     1997.000   автомат   190.000  2.000                  NaN 220000.000   \n",
       "3     2009.000  механика   298.000  3.000  полный подключаемый 120000.000   \n",
       "4     2004.000  механика   160.000  3.000  полный подключаемый 200000.000   \n",
       "\n",
       "     Руль           Тип кузова Топливо         Цвет      Цена  \n",
       "0     NaN                седан  бензин     бордовый  4900.000  \n",
       "1  правый  внедорожник / пикап  дизель        синий  6000.000  \n",
       "2  правый                седан  бензин   серебряный  3100.000  \n",
       "3   левый            универсал  дизель       черный 17000.000  \n",
       "4   левый  внедорожник / пикап  дизель  темно-синий  7000.000  "
      ]
     },
     "execution_count": 2,
     "metadata": {},
     "output_type": "execute_result"
    }
   ],
   "source": [
    "import pandas as pd \n",
    "pd.set_option('float_format', '{:.3f}'.format)\n",
    "car_data = pd.read_csv(\"../data/raw/cars_raw_data.csv\")\n",
    "car_data.head(5)"
   ]
  },
  {
   "cell_type": "code",
   "execution_count": 3,
   "metadata": {},
   "outputs": [
    {
     "data": {
      "text/html": [
       "<div>\n",
       "<style scoped>\n",
       "    .dataframe tbody tr th:only-of-type {\n",
       "        vertical-align: middle;\n",
       "    }\n",
       "\n",
       "    .dataframe tbody tr th {\n",
       "        vertical-align: top;\n",
       "    }\n",
       "\n",
       "    .dataframe thead th {\n",
       "        text-align: right;\n",
       "    }\n",
       "</style>\n",
       "<table border=\"1\" class=\"dataframe\">\n",
       "  <thead>\n",
       "    <tr style=\"text-align: right;\">\n",
       "      <th></th>\n",
       "      <th>Год выпуска</th>\n",
       "      <th>КПП</th>\n",
       "      <th>Мощность</th>\n",
       "      <th>Объём</th>\n",
       "      <th>Привод</th>\n",
       "      <th>Пробег</th>\n",
       "      <th>Руль</th>\n",
       "      <th>Тип кузова</th>\n",
       "      <th>Топливо</th>\n",
       "      <th>Цвет</th>\n",
       "      <th>Цена</th>\n",
       "    </tr>\n",
       "  </thead>\n",
       "  <tbody>\n",
       "    <tr>\n",
       "      <th>7355</th>\n",
       "      <td>2005.000</td>\n",
       "      <td>механика</td>\n",
       "      <td>265.000</td>\n",
       "      <td>2.500</td>\n",
       "      <td>постоянный полный</td>\n",
       "      <td>200000.000</td>\n",
       "      <td>правый</td>\n",
       "      <td>кроссовер</td>\n",
       "      <td>бензин</td>\n",
       "      <td>синий</td>\n",
       "      <td>9000.000</td>\n",
       "    </tr>\n",
       "    <tr>\n",
       "      <th>7356</th>\n",
       "      <td>2002.000</td>\n",
       "      <td>автомат</td>\n",
       "      <td>160.000</td>\n",
       "      <td>2.400</td>\n",
       "      <td>передний</td>\n",
       "      <td>270000.000</td>\n",
       "      <td>правый</td>\n",
       "      <td>минивэн / бус</td>\n",
       "      <td>бензин</td>\n",
       "      <td>белый жемчуг</td>\n",
       "      <td>5000.000</td>\n",
       "    </tr>\n",
       "    <tr>\n",
       "      <th>7357</th>\n",
       "      <td>2002.000</td>\n",
       "      <td>механика</td>\n",
       "      <td>116.000</td>\n",
       "      <td>1.800</td>\n",
       "      <td>передний</td>\n",
       "      <td>nan</td>\n",
       "      <td>левый</td>\n",
       "      <td>универсал</td>\n",
       "      <td>бензин</td>\n",
       "      <td>серый</td>\n",
       "      <td>2700.000</td>\n",
       "    </tr>\n",
       "    <tr>\n",
       "      <th>7358</th>\n",
       "      <td>2005.000</td>\n",
       "      <td>автомат</td>\n",
       "      <td>175.000</td>\n",
       "      <td>2.500</td>\n",
       "      <td>постоянный полный</td>\n",
       "      <td>230000.000</td>\n",
       "      <td>левый</td>\n",
       "      <td>универсал</td>\n",
       "      <td>бензин</td>\n",
       "      <td>синий</td>\n",
       "      <td>7800.000</td>\n",
       "    </tr>\n",
       "    <tr>\n",
       "      <th>7359</th>\n",
       "      <td>2012.000</td>\n",
       "      <td>автомат</td>\n",
       "      <td>nan</td>\n",
       "      <td>2.500</td>\n",
       "      <td>передний</td>\n",
       "      <td>139000.000</td>\n",
       "      <td>левый</td>\n",
       "      <td>седан</td>\n",
       "      <td>бензин</td>\n",
       "      <td>черный</td>\n",
       "      <td>16500.000</td>\n",
       "    </tr>\n",
       "  </tbody>\n",
       "</table>\n",
       "</div>"
      ],
      "text/plain": [
       "      Год выпуска       КПП  Мощность  Объём             Привод     Пробег  \\\n",
       "7355     2005.000  механика   265.000  2.500  постоянный полный 200000.000   \n",
       "7356     2002.000   автомат   160.000  2.400           передний 270000.000   \n",
       "7357     2002.000  механика   116.000  1.800           передний        nan   \n",
       "7358     2005.000   автомат   175.000  2.500  постоянный полный 230000.000   \n",
       "7359     2012.000   автомат       nan  2.500           передний 139000.000   \n",
       "\n",
       "        Руль     Тип кузова Топливо          Цвет      Цена  \n",
       "7355  правый      кроссовер  бензин         синий  9000.000  \n",
       "7356  правый  минивэн / бус  бензин  белый жемчуг  5000.000  \n",
       "7357   левый      универсал  бензин         серый  2700.000  \n",
       "7358   левый      универсал  бензин         синий  7800.000  \n",
       "7359   левый          седан  бензин        черный 16500.000  "
      ]
     },
     "execution_count": 3,
     "metadata": {},
     "output_type": "execute_result"
    }
   ],
   "source": [
    "car_data.tail(5)"
   ]
  },
  {
   "cell_type": "markdown",
   "metadata": {},
   "source": [
    "The very first thing I do, is check the shape of our dataframe. As we saw earlier above we can see that there are 7360 rows (examples) and 11 columns (features). And function below confirms this. "
   ]
  },
  {
   "cell_type": "code",
   "execution_count": 4,
   "metadata": {},
   "outputs": [
    {
     "data": {
      "text/plain": [
       "(7360, 11)"
      ]
     },
     "execution_count": 4,
     "metadata": {},
     "output_type": "execute_result"
    }
   ],
   "source": [
    "car_data.shape"
   ]
  },
  {
   "cell_type": "markdown",
   "metadata": {},
   "source": [
    "Next we can see the quantity of missing values in each of the columns. We can see that some of the features have a lot of missing values, and some not so much. I will go two ways, first I will create a model with a dataset where all the NaN values were dropped, and second I will impute the NaN values and make a model. "
   ]
  },
  {
   "cell_type": "code",
   "execution_count": 5,
   "metadata": {},
   "outputs": [
    {
     "data": {
      "text/plain": [
       "Год выпуска      96\n",
       "КПП             177\n",
       "Мощность       1588\n",
       "Объём           250\n",
       "Привод          622\n",
       "Пробег         2358\n",
       "Руль            404\n",
       "Тип кузова       20\n",
       "Топливо         162\n",
       "Цвет            593\n",
       "Цена              0\n",
       "dtype: int64"
      ]
     },
     "execution_count": 5,
     "metadata": {},
     "output_type": "execute_result"
    }
   ],
   "source": [
    "car_data.isnull().sum()"
   ]
  },
  {
   "cell_type": "markdown",
   "metadata": {},
   "source": [
    "Next I would like to see detailed statistical summary of data. From the summary, we can see that mean of data and standart deviation have extreme values, and looking at max values at dataset, I can suggest that maximum values skewed the mean and std methods, later I will eliminate or impute those extreme values in dataset, also in next summary we can see the datatype of each column that we have."
   ]
  },
  {
   "cell_type": "code",
   "execution_count": 6,
   "metadata": {},
   "outputs": [
    {
     "data": {
      "text/html": [
       "<div>\n",
       "<style scoped>\n",
       "    .dataframe tbody tr th:only-of-type {\n",
       "        vertical-align: middle;\n",
       "    }\n",
       "\n",
       "    .dataframe tbody tr th {\n",
       "        vertical-align: top;\n",
       "    }\n",
       "\n",
       "    .dataframe thead th {\n",
       "        text-align: right;\n",
       "    }\n",
       "</style>\n",
       "<table border=\"1\" class=\"dataframe\">\n",
       "  <thead>\n",
       "    <tr style=\"text-align: right;\">\n",
       "      <th></th>\n",
       "      <th>Год выпуска</th>\n",
       "      <th>Мощность</th>\n",
       "      <th>Объём</th>\n",
       "      <th>Пробег</th>\n",
       "      <th>Цена</th>\n",
       "    </tr>\n",
       "  </thead>\n",
       "  <tbody>\n",
       "    <tr>\n",
       "      <th>count</th>\n",
       "      <td>7264.000</td>\n",
       "      <td>5772.000</td>\n",
       "      <td>7110.000</td>\n",
       "      <td>5002.000</td>\n",
       "      <td>7360.000</td>\n",
       "    </tr>\n",
       "    <tr>\n",
       "      <th>mean</th>\n",
       "      <td>2005.280</td>\n",
       "      <td>1925003420886.620</td>\n",
       "      <td>117997.289</td>\n",
       "      <td>1846469696291872.250</td>\n",
       "      <td>124513.892</td>\n",
       "    </tr>\n",
       "    <tr>\n",
       "      <th>std</th>\n",
       "      <td>7.055</td>\n",
       "      <td>146249479561645.906</td>\n",
       "      <td>8440245.233</td>\n",
       "      <td>130412158247654592.000</td>\n",
       "      <td>9013470.731</td>\n",
       "    </tr>\n",
       "    <tr>\n",
       "      <th>min</th>\n",
       "      <td>1961.000</td>\n",
       "      <td>1.000</td>\n",
       "      <td>0.000</td>\n",
       "      <td>1.000</td>\n",
       "      <td>0.000</td>\n",
       "    </tr>\n",
       "    <tr>\n",
       "      <th>25%</th>\n",
       "      <td>2001.000</td>\n",
       "      <td>136.000</td>\n",
       "      <td>2.000</td>\n",
       "      <td>39885.000</td>\n",
       "      <td>4000.000</td>\n",
       "    </tr>\n",
       "    <tr>\n",
       "      <th>50%</th>\n",
       "      <td>2004.000</td>\n",
       "      <td>180.000</td>\n",
       "      <td>2.400</td>\n",
       "      <td>116339.500</td>\n",
       "      <td>7800.000</td>\n",
       "    </tr>\n",
       "    <tr>\n",
       "      <th>75%</th>\n",
       "      <td>2011.000</td>\n",
       "      <td>250.000</td>\n",
       "      <td>3.200</td>\n",
       "      <td>179000.000</td>\n",
       "      <td>18889.750</td>\n",
       "    </tr>\n",
       "    <tr>\n",
       "      <th>max</th>\n",
       "      <td>2018.000</td>\n",
       "      <td>11111111111111112.000</td>\n",
       "      <td>705435466.000</td>\n",
       "      <td>9223372036854775808.000</td>\n",
       "      <td>773152600.000</td>\n",
       "    </tr>\n",
       "  </tbody>\n",
       "</table>\n",
       "</div>"
      ],
      "text/plain": [
       "       Год выпуска              Мощность         Объём  \\\n",
       "count     7264.000              5772.000      7110.000   \n",
       "mean      2005.280     1925003420886.620    117997.289   \n",
       "std          7.055   146249479561645.906   8440245.233   \n",
       "min       1961.000                 1.000         0.000   \n",
       "25%       2001.000               136.000         2.000   \n",
       "50%       2004.000               180.000         2.400   \n",
       "75%       2011.000               250.000         3.200   \n",
       "max       2018.000 11111111111111112.000 705435466.000   \n",
       "\n",
       "                       Пробег          Цена  \n",
       "count                5002.000      7360.000  \n",
       "mean     1846469696291872.250    124513.892  \n",
       "std    130412158247654592.000   9013470.731  \n",
       "min                     1.000         0.000  \n",
       "25%                 39885.000      4000.000  \n",
       "50%                116339.500      7800.000  \n",
       "75%                179000.000     18889.750  \n",
       "max   9223372036854775808.000 773152600.000  "
      ]
     },
     "execution_count": 6,
     "metadata": {},
     "output_type": "execute_result"
    }
   ],
   "source": [
    "car_data.describe()"
   ]
  },
  {
   "cell_type": "code",
   "execution_count": 7,
   "metadata": {},
   "outputs": [
    {
     "name": "stdout",
     "output_type": "stream",
     "text": [
      "<class 'pandas.core.frame.DataFrame'>\n",
      "RangeIndex: 7360 entries, 0 to 7359\n",
      "Data columns (total 11 columns):\n",
      "Год выпуска    7264 non-null float64\n",
      "КПП            7183 non-null object\n",
      "Мощность       5772 non-null float64\n",
      "Объём          7110 non-null float64\n",
      "Привод         6738 non-null object\n",
      "Пробег         5002 non-null float64\n",
      "Руль           6956 non-null object\n",
      "Тип кузова     7340 non-null object\n",
      "Топливо        7198 non-null object\n",
      "Цвет           6767 non-null object\n",
      "Цена           7360 non-null float64\n",
      "dtypes: float64(5), object(6)\n",
      "memory usage: 460.0+ KB\n"
     ]
    }
   ],
   "source": [
    "car_data.info()"
   ]
  },
  {
   "cell_type": "markdown",
   "metadata": {},
   "source": [
    "Next, I would want to see the correlation matrix between each of the continous(numeric) features. By now looking at summary above, I now that dataset has extreme values in the data, each one of continious variables contains extreme values, which we need to eliminate, or make it NaN and impute, because if we won't, it will make a huge affect on correlations and predictions. In the plot below we can see that correlation between continous variables is very low, it is due to the skewed data. There is no meaining at keeping analysis with this kind of data, at first I will eliminate extreme values just to see important relationships, I will not change dataset, the dataset will be changed and cleaned in \"Cars-Data-Cleaning\" notebook"
   ]
  },
  {
   "cell_type": "code",
   "execution_count": 8,
   "metadata": {},
   "outputs": [
    {
     "data": {
      "text/plain": [
       "<matplotlib.axes._subplots.AxesSubplot at 0x99b0bb0>"
      ]
     },
     "execution_count": 8,
     "metadata": {},
     "output_type": "execute_result"
    },
    {
     "data": {
      "image/png": "[encoded data removed]",
      "text/plain": [
       "<matplotlib.figure.Figure at 0x99b0790>"
      ]
     },
     "metadata": {},
     "output_type": "display_data"
    }
   ],
   "source": [
    "import seaborn as sns\n",
    "import matplotlib.pyplot as plt \n",
    "import numpy as np\n",
    "%matplotlib inline\n",
    "\n",
    "sns.set(style = \"white\")\n",
    "corr = car_data.corr()\n",
    "\n",
    "mask = np.zeros_like(corr, dtype=np.bool)\n",
    "mask[np.triu_indices_from(mask)] = True\n",
    "f, ax = plt.subplots(figsize=(11, 9))\n",
    "cmap = sns.diverging_palette(220, 10, as_cmap=True)\n",
    "\n",
    "# Draw the heatmap with the mask and correct aspect ratio\n",
    "sns.heatmap(corr, mask=mask, cmap=cmap, vmax=.3, center=0,\n",
    "            square=True, linewidths=.5, cbar_kws={\"shrink\": .5})"
   ]
  },
  {
   "cell_type": "markdown",
   "metadata": {},
   "source": [
    "In the dataset categorical features don't have extreme values, and continuous feature \"Год выпуска\" doesn't have extreme values too. I think it is due to the way people could post advertisements. Categorical features and year feature could be inputed via selection, and continous numbers could be of any range. Because some features of data have a lot of outliers, I will manualy drop some values from excel, I could do it from python, but the data is not high quality, and a lot of samplewise adjustments needed"
   ]
  },
  {
   "cell_type": "code",
   "execution_count": 9,
   "metadata": {},
   "outputs": [
    {
     "data": {
      "text/plain": [
       "Год выпуска      96\n",
       "КПП             177\n",
       "Мощность       1588\n",
       "Объём           250\n",
       "Привод          622\n",
       "Пробег         2358\n",
       "Руль            404\n",
       "Тип кузова       20\n",
       "Топливо         162\n",
       "Цвет            593\n",
       "Цена              0\n",
       "dtype: int64"
      ]
     },
     "execution_count": 9,
     "metadata": {},
     "output_type": "execute_result"
    }
   ],
   "source": [
    "car_data.isnull().sum()"
   ]
  },
  {
   "cell_type": "markdown",
   "metadata": {},
   "source": [
    "After adjustment, I will download manually cleaned data, and we can see that number of NaN values increased, I made some extreme values NaN, so later i could impute that data. After, I will drop some non-needed values."
   ]
  },
  {
   "cell_type": "code",
   "execution_count": 29,
   "metadata": {},
   "outputs": [],
   "source": [
    "car_data = pd.read_excel(\"../data/interim/cars_cleaned_outliers.xlsx\")"
   ]
  },
  {
   "cell_type": "code",
   "execution_count": 30,
   "metadata": {},
   "outputs": [
    {
     "data": {
      "text/plain": [
       "Год выпуска      90\n",
       "КПП             159\n",
       "Мощность       1615\n",
       "Объём           407\n",
       "Привод          587\n",
       "Пробег         2308\n",
       "Руль            371\n",
       "Тип кузова       19\n",
       "Топливо         147\n",
       "Цвет            563\n",
       "Цена              0\n",
       "dtype: int64"
      ]
     },
     "execution_count": 30,
     "metadata": {},
     "output_type": "execute_result"
    }
   ],
   "source": [
    "car_data.isnull().sum()"
   ]
  },
  {
   "cell_type": "code",
   "execution_count": 31,
   "metadata": {},
   "outputs": [],
   "source": [
    "car_data.dropna(subset = [\"Цена\"],inplace=True)\n",
    "car_data.dropna(thresh=4,inplace=True)"
   ]
  },
  {
   "cell_type": "markdown",
   "metadata": {},
   "source": [
    "Now we can continue our Exploritary Analysis. And right away we can see, that all statistic summary now makes full sense. And correlation plotting now is a little bit more reassuring."
   ]
  },
  {
   "cell_type": "code",
   "execution_count": 32,
   "metadata": {},
   "outputs": [
    {
     "data": {
      "text/html": [
       "<div>\n",
       "<style scoped>\n",
       "    .dataframe tbody tr th:only-of-type {\n",
       "        vertical-align: middle;\n",
       "    }\n",
       "\n",
       "    .dataframe tbody tr th {\n",
       "        vertical-align: top;\n",
       "    }\n",
       "\n",
       "    .dataframe thead th {\n",
       "        text-align: right;\n",
       "    }\n",
       "</style>\n",
       "<table border=\"1\" class=\"dataframe\">\n",
       "  <thead>\n",
       "    <tr style=\"text-align: right;\">\n",
       "      <th></th>\n",
       "      <th>Год выпуска</th>\n",
       "      <th>Мощность</th>\n",
       "      <th>Объём</th>\n",
       "      <th>Пробег</th>\n",
       "      <th>Цена</th>\n",
       "    </tr>\n",
       "  </thead>\n",
       "  <tbody>\n",
       "    <tr>\n",
       "      <th>count</th>\n",
       "      <td>7052.000</td>\n",
       "      <td>5539.000</td>\n",
       "      <td>6747.000</td>\n",
       "      <td>4846.000</td>\n",
       "      <td>7130.000</td>\n",
       "    </tr>\n",
       "    <tr>\n",
       "      <th>mean</th>\n",
       "      <td>2005.561</td>\n",
       "      <td>202.155</td>\n",
       "      <td>2.700</td>\n",
       "      <td>115579.080</td>\n",
       "      <td>15282.575</td>\n",
       "    </tr>\n",
       "    <tr>\n",
       "      <th>std</th>\n",
       "      <td>6.792</td>\n",
       "      <td>90.435</td>\n",
       "      <td>1.092</td>\n",
       "      <td>89462.658</td>\n",
       "      <td>19871.982</td>\n",
       "    </tr>\n",
       "    <tr>\n",
       "      <th>min</th>\n",
       "      <td>1961.000</td>\n",
       "      <td>51.000</td>\n",
       "      <td>0.800</td>\n",
       "      <td>1.000</td>\n",
       "      <td>1071.000</td>\n",
       "    </tr>\n",
       "    <tr>\n",
       "      <th>25%</th>\n",
       "      <td>2002.000</td>\n",
       "      <td>138.000</td>\n",
       "      <td>2.000</td>\n",
       "      <td>38762.500</td>\n",
       "      <td>4012.500</td>\n",
       "    </tr>\n",
       "    <tr>\n",
       "      <th>50%</th>\n",
       "      <td>2004.000</td>\n",
       "      <td>181.000</td>\n",
       "      <td>2.400</td>\n",
       "      <td>113488.000</td>\n",
       "      <td>7900.000</td>\n",
       "    </tr>\n",
       "    <tr>\n",
       "      <th>75%</th>\n",
       "      <td>2011.000</td>\n",
       "      <td>250.000</td>\n",
       "      <td>3.000</td>\n",
       "      <td>175000.000</td>\n",
       "      <td>18500.000</td>\n",
       "    </tr>\n",
       "    <tr>\n",
       "      <th>max</th>\n",
       "      <td>2018.000</td>\n",
       "      <td>585.000</td>\n",
       "      <td>6.000</td>\n",
       "      <td>756554.000</td>\n",
       "      <td>247569.000</td>\n",
       "    </tr>\n",
       "  </tbody>\n",
       "</table>\n",
       "</div>"
      ],
      "text/plain": [
       "       Год выпуска  Мощность    Объём     Пробег       Цена\n",
       "count     7052.000  5539.000 6747.000   4846.000   7130.000\n",
       "mean      2005.561   202.155    2.700 115579.080  15282.575\n",
       "std          6.792    90.435    1.092  89462.658  19871.982\n",
       "min       1961.000    51.000    0.800      1.000   1071.000\n",
       "25%       2002.000   138.000    2.000  38762.500   4012.500\n",
       "50%       2004.000   181.000    2.400 113488.000   7900.000\n",
       "75%       2011.000   250.000    3.000 175000.000  18500.000\n",
       "max       2018.000   585.000    6.000 756554.000 247569.000"
      ]
     },
     "execution_count": 32,
     "metadata": {},
     "output_type": "execute_result"
    }
   ],
   "source": [
    "car_data.describe()"
   ]
  },
  {
   "cell_type": "code",
   "execution_count": 33,
   "metadata": {},
   "outputs": [
    {
     "data": {
      "text/plain": [
       "<matplotlib.axes._subplots.AxesSubplot at 0x59fad30>"
      ]
     },
     "execution_count": 33,
     "metadata": {},
     "output_type": "execute_result"
    },
    {
     "data": {
      "image/png": "[encoded data removed]",
      "text/plain": [
       "<matplotlib.figure.Figure at 0x59fa050>"
      ]
     },
     "metadata": {},
     "output_type": "display_data"
    }
   ],
   "source": [
    "sns.set(style = \"white\")\n",
    "corr = car_data.corr()\n",
    "\n",
    "mask = np.zeros_like(corr, dtype=np.bool)\n",
    "mask[np.triu_indices_from(mask)] = True\n",
    "f, ax = plt.subplots(figsize=(11, 9))\n",
    "cmap = sns.diverging_palette(220, 10, as_cmap=True)\n",
    "\n",
    "# Draw the heatmap with the mask and correct aspect ratio\n",
    "sns.heatmap(corr, mask=mask, cmap=cmap, vmax=.3, center=0,\n",
    "            square=True, linewidths=.5, cbar_kws={\"shrink\": .5})"
   ]
  },
  {
   "cell_type": "code",
   "execution_count": 34,
   "metadata": {},
   "outputs": [
    {
     "data": {
      "text/html": [
       "<div>\n",
       "<style scoped>\n",
       "    .dataframe tbody tr th:only-of-type {\n",
       "        vertical-align: middle;\n",
       "    }\n",
       "\n",
       "    .dataframe tbody tr th {\n",
       "        vertical-align: top;\n",
       "    }\n",
       "\n",
       "    .dataframe thead th {\n",
       "        text-align: right;\n",
       "    }\n",
       "</style>\n",
       "<table border=\"1\" class=\"dataframe\">\n",
       "  <thead>\n",
       "    <tr style=\"text-align: right;\">\n",
       "      <th></th>\n",
       "      <th>Год выпуска</th>\n",
       "      <th>Мощность</th>\n",
       "      <th>Объём</th>\n",
       "      <th>Пробег</th>\n",
       "      <th>Цена</th>\n",
       "    </tr>\n",
       "  </thead>\n",
       "  <tbody>\n",
       "    <tr>\n",
       "      <th>Год выпуска</th>\n",
       "      <td>1.000</td>\n",
       "      <td>0.316</td>\n",
       "      <td>0.199</td>\n",
       "      <td>-0.507</td>\n",
       "      <td>0.621</td>\n",
       "    </tr>\n",
       "    <tr>\n",
       "      <th>Мощность</th>\n",
       "      <td>0.316</td>\n",
       "      <td>1.000</td>\n",
       "      <td>0.860</td>\n",
       "      <td>-0.116</td>\n",
       "      <td>0.602</td>\n",
       "    </tr>\n",
       "    <tr>\n",
       "      <th>Объём</th>\n",
       "      <td>0.199</td>\n",
       "      <td>0.860</td>\n",
       "      <td>1.000</td>\n",
       "      <td>-0.029</td>\n",
       "      <td>0.457</td>\n",
       "    </tr>\n",
       "    <tr>\n",
       "      <th>Пробег</th>\n",
       "      <td>-0.507</td>\n",
       "      <td>-0.116</td>\n",
       "      <td>-0.029</td>\n",
       "      <td>1.000</td>\n",
       "      <td>-0.375</td>\n",
       "    </tr>\n",
       "    <tr>\n",
       "      <th>Цена</th>\n",
       "      <td>0.621</td>\n",
       "      <td>0.602</td>\n",
       "      <td>0.457</td>\n",
       "      <td>-0.375</td>\n",
       "      <td>1.000</td>\n",
       "    </tr>\n",
       "  </tbody>\n",
       "</table>\n",
       "</div>"
      ],
      "text/plain": [
       "             Год выпуска  Мощность  Объём  Пробег   Цена\n",
       "Год выпуска        1.000     0.316  0.199  -0.507  0.621\n",
       "Мощность           0.316     1.000  0.860  -0.116  0.602\n",
       "Объём              0.199     0.860  1.000  -0.029  0.457\n",
       "Пробег            -0.507    -0.116 -0.029   1.000 -0.375\n",
       "Цена               0.621     0.602  0.457  -0.375  1.000"
      ]
     },
     "execution_count": 34,
     "metadata": {},
     "output_type": "execute_result"
    }
   ],
   "source": [
    "car_data.corr()"
   ]
  },
  {
   "cell_type": "markdown",
   "metadata": {},
   "source": [
    "Now it's time to see, which features of dataset are important and which are not so. I am going to use RandomForest Regressor module from scklearn library to analyze importance of features. Also, I wll use OneHotEncoder to make categorical features numeric. I will drop the NaN values for this exmaple, because RFRegressor doesn't take as an input data with missing values. "
   ]
  },
  {
   "cell_type": "code",
   "execution_count": 39,
   "metadata": {
    "scrolled": true
   },
   "outputs": [
    {
     "name": "stdout",
     "output_type": "stream",
     "text": [
      "Features sorted by their score:\n",
      "[(0.4177, 'Год выпуска'), (0.4031, 'Мощность'), (0.0691, 'Пробег'), (0.0471, 'Объём'), (0.0116, 'Привод_постоянный полный'), (0.0051, 'КПП_автомат'), (0.0045, 'Тип кузова_внедорожник / пикап'), (0.0044, 'Тип кузова_седан'), (0.0032, 'Цвет_коричневый'), (0.0032, 'Тип кузова_кроссовер'), (0.0031, 'КПП_типтроник'), (0.0026, 'Тип кузова_кабриолет'), (0.0024, 'Топливо_дизель'), (0.0024, 'Топливо_бензин'), (0.0023, 'Привод_задний'), (0.0022, 'Цвет_черный'), (0.0021, 'Тип кузова_купе'), (0.0019, 'Цвет_вишневый'), (0.0017, 'Цвет_белый'), (0.0017, 'Тип кузова_хэтчбек'), (0.0016, 'Привод_передний'), (0.0009, 'Цвет_серый'), (0.0009, 'Цвет_голубой'), (0.0007, 'Привод_полный подключаемый'), (0.0007, 'КПП_механика'), (0.0006, 'Цвет_зеленый'), (0.0005, 'Цвет_синий'), (0.0005, 'Топливо_газ-бензин'), (0.0004, 'Цвет_серебряный'), (0.0004, 'Цвет_желтый'), (0.0003, 'Тип кузова_минивэн / бус'), (0.0002, 'Цвет_белый жемчуг'), (0.0002, 'Тип кузова_универсал'), (0.0002, 'КПП_вариатор'), (0.0001, 'Цвет_темно-синий'), (0.0001, 'Цвет_пурпурный'), (0.0001, 'Цвет_оранжевый'), (0.0001, 'Цвет_красный'), (0.0001, 'Цвет_золотой'), (0.0001, 'Цвет_бежевый'), (0.0001, 'Руль_правый'), (0.0001, 'Руль_левый'), (0.0, 'Цвет_фиолетовый'), (0.0, 'Цвет_смарагд'), (0.0, 'Цвет_морская волна'), (0.0, 'Цвет_мокрый асфальт'), (0.0, 'Цвет_дипломат'), (0.0, 'Цвет_бордовый'), (0.0, 'Цвет_бирюзовый'), (0.0, 'Цвет_баклажан'), (0.0, 'Топливо_газ')]\n"
     ]
    }
   ],
   "source": [
    "from sklearn.ensemble import RandomForestRegressor\n",
    "from sklearn.preprocessing import OneHotEncoder\n",
    "car_data.dropna(inplace=True)\n",
    "X,y = car_data.iloc[:,:-1],car_data.iloc[:,-1]\n",
    "X= pd.get_dummies(X)\n",
    "forest = RandomForestRegressor(n_estimators=100,random_state = 0)\n",
    "feat_labels = X.columns[:-1]\n",
    "forest.fit(X,y)\n",
    "importances = forest.feature_importances_\n",
    "indices = np.argsort(importances)[::-1]\n",
    "\n",
    "    \n",
    "print(\"Features sorted by their score:\")\n",
    "print(sorted(zip(map(lambda x: round(x, 4), forest.feature_importances_), X.columns.values), reverse=True))"
   ]
  },
  {
   "cell_type": "markdown",
   "metadata": {},
   "source": [
    "Now we will make use of dimensionality reduction algorithm which is called Principal Component Analysis(PCA). It will allow us to reduce the number of dimensions of a dataset. To visualize data I will reduce the number of dimensions to two. At first we will scale the whole dataset so it will have near to equal sizes. We will scale dataset via StandartScaler module of scikit learn module.From this plot we can see the distribution of data, and outliers as well."
   ]
  },
  {
   "cell_type": "code",
   "execution_count": 36,
   "metadata": {},
   "outputs": [
    {
     "data": {
      "image/png": "[encoded data removed]",
      "text/plain": [
       "<matplotlib.figure.Figure at 0x57daff0>"
      ]
     },
     "metadata": {},
     "output_type": "display_data"
    }
   ],
   "source": [
    "from sklearn.preprocessing import StandardScaler\n",
    "from sklearn.decomposition import PCA\n",
    "import matplotlib.pyplot as plt \n",
    "pca = PCA(n_components=1,random_state=2)\n",
    "ss = StandardScaler()\n",
    "X =ss.fit_transform(X)\n",
    "X = pca.fit_transform(X)\n",
    "plt.scatter(X,y,marker = \"o\")\n",
    "plt.show()"
   ]
  },
  {
   "cell_type": "code",
   "execution_count": 37,
   "metadata": {},
   "outputs": [
    {
     "data": {
      "text/html": [
       "<div>\n",
       "<style scoped>\n",
       "    .dataframe tbody tr th:only-of-type {\n",
       "        vertical-align: middle;\n",
       "    }\n",
       "\n",
       "    .dataframe tbody tr th {\n",
       "        vertical-align: top;\n",
       "    }\n",
       "\n",
       "    .dataframe thead th {\n",
       "        text-align: right;\n",
       "    }\n",
       "</style>\n",
       "<table border=\"1\" class=\"dataframe\">\n",
       "  <thead>\n",
       "    <tr style=\"text-align: right;\">\n",
       "      <th></th>\n",
       "      <th>Год выпуска</th>\n",
       "      <th>КПП</th>\n",
       "      <th>Мощность</th>\n",
       "      <th>Объём</th>\n",
       "      <th>Привод</th>\n",
       "      <th>Пробег</th>\n",
       "      <th>Руль</th>\n",
       "      <th>Тип кузова</th>\n",
       "      <th>Топливо</th>\n",
       "      <th>Цвет</th>\n",
       "      <th>Цена</th>\n",
       "    </tr>\n",
       "  </thead>\n",
       "  <tbody>\n",
       "    <tr>\n",
       "      <th>Год выпуска</th>\n",
       "      <td>1.000</td>\n",
       "      <td>0.041</td>\n",
       "      <td>0.225</td>\n",
       "      <td>0.109</td>\n",
       "      <td>0.271</td>\n",
       "      <td>-0.580</td>\n",
       "      <td>-0.455</td>\n",
       "      <td>-0.247</td>\n",
       "      <td>0.036</td>\n",
       "      <td>0.055</td>\n",
       "      <td>0.813</td>\n",
       "    </tr>\n",
       "    <tr>\n",
       "      <th>КПП</th>\n",
       "      <td>0.041</td>\n",
       "      <td>1.000</td>\n",
       "      <td>-0.451</td>\n",
       "      <td>-0.441</td>\n",
       "      <td>-0.198</td>\n",
       "      <td>-0.114</td>\n",
       "      <td>-0.144</td>\n",
       "      <td>0.226</td>\n",
       "      <td>-0.031</td>\n",
       "      <td>-0.059</td>\n",
       "      <td>-0.212</td>\n",
       "    </tr>\n",
       "    <tr>\n",
       "      <th>Мощность</th>\n",
       "      <td>0.225</td>\n",
       "      <td>-0.451</td>\n",
       "      <td>1.000</td>\n",
       "      <td>0.892</td>\n",
       "      <td>0.434</td>\n",
       "      <td>-0.056</td>\n",
       "      <td>-0.232</td>\n",
       "      <td>-0.472</td>\n",
       "      <td>0.016</td>\n",
       "      <td>0.148</td>\n",
       "      <td>0.622</td>\n",
       "    </tr>\n",
       "    <tr>\n",
       "      <th>Объём</th>\n",
       "      <td>0.109</td>\n",
       "      <td>-0.441</td>\n",
       "      <td>0.892</td>\n",
       "      <td>1.000</td>\n",
       "      <td>0.422</td>\n",
       "      <td>0.025</td>\n",
       "      <td>-0.254</td>\n",
       "      <td>-0.563</td>\n",
       "      <td>0.075</td>\n",
       "      <td>0.149</td>\n",
       "      <td>0.533</td>\n",
       "    </tr>\n",
       "    <tr>\n",
       "      <th>Привод</th>\n",
       "      <td>0.271</td>\n",
       "      <td>-0.198</td>\n",
       "      <td>0.434</td>\n",
       "      <td>0.422</td>\n",
       "      <td>1.000</td>\n",
       "      <td>-0.094</td>\n",
       "      <td>-0.104</td>\n",
       "      <td>-0.569</td>\n",
       "      <td>0.147</td>\n",
       "      <td>0.097</td>\n",
       "      <td>0.475</td>\n",
       "    </tr>\n",
       "    <tr>\n",
       "      <th>Пробег</th>\n",
       "      <td>-0.580</td>\n",
       "      <td>-0.114</td>\n",
       "      <td>-0.056</td>\n",
       "      <td>0.025</td>\n",
       "      <td>-0.094</td>\n",
       "      <td>1.000</td>\n",
       "      <td>0.202</td>\n",
       "      <td>0.094</td>\n",
       "      <td>0.041</td>\n",
       "      <td>0.028</td>\n",
       "      <td>-0.439</td>\n",
       "    </tr>\n",
       "    <tr>\n",
       "      <th>Руль</th>\n",
       "      <td>-0.455</td>\n",
       "      <td>-0.144</td>\n",
       "      <td>-0.232</td>\n",
       "      <td>-0.254</td>\n",
       "      <td>-0.104</td>\n",
       "      <td>0.202</td>\n",
       "      <td>1.000</td>\n",
       "      <td>0.220</td>\n",
       "      <td>-0.109</td>\n",
       "      <td>-0.102</td>\n",
       "      <td>-0.488</td>\n",
       "    </tr>\n",
       "    <tr>\n",
       "      <th>Тип кузова</th>\n",
       "      <td>-0.247</td>\n",
       "      <td>0.226</td>\n",
       "      <td>-0.472</td>\n",
       "      <td>-0.563</td>\n",
       "      <td>-0.569</td>\n",
       "      <td>0.094</td>\n",
       "      <td>0.220</td>\n",
       "      <td>1.000</td>\n",
       "      <td>-0.192</td>\n",
       "      <td>-0.077</td>\n",
       "      <td>-0.516</td>\n",
       "    </tr>\n",
       "    <tr>\n",
       "      <th>Топливо</th>\n",
       "      <td>0.036</td>\n",
       "      <td>-0.031</td>\n",
       "      <td>0.016</td>\n",
       "      <td>0.075</td>\n",
       "      <td>0.147</td>\n",
       "      <td>0.041</td>\n",
       "      <td>-0.109</td>\n",
       "      <td>-0.192</td>\n",
       "      <td>1.000</td>\n",
       "      <td>0.040</td>\n",
       "      <td>0.125</td>\n",
       "    </tr>\n",
       "    <tr>\n",
       "      <th>Цвет</th>\n",
       "      <td>0.055</td>\n",
       "      <td>-0.059</td>\n",
       "      <td>0.148</td>\n",
       "      <td>0.149</td>\n",
       "      <td>0.097</td>\n",
       "      <td>0.028</td>\n",
       "      <td>-0.102</td>\n",
       "      <td>-0.077</td>\n",
       "      <td>0.040</td>\n",
       "      <td>1.000</td>\n",
       "      <td>0.108</td>\n",
       "    </tr>\n",
       "    <tr>\n",
       "      <th>Цена</th>\n",
       "      <td>0.813</td>\n",
       "      <td>-0.212</td>\n",
       "      <td>0.622</td>\n",
       "      <td>0.533</td>\n",
       "      <td>0.475</td>\n",
       "      <td>-0.439</td>\n",
       "      <td>-0.488</td>\n",
       "      <td>-0.516</td>\n",
       "      <td>0.125</td>\n",
       "      <td>0.108</td>\n",
       "      <td>1.000</td>\n",
       "    </tr>\n",
       "  </tbody>\n",
       "</table>\n",
       "</div>"
      ],
      "text/plain": [
       "             Год выпуска    КПП  Мощность  Объём  Привод  Пробег   Руль  \\\n",
       "Год выпуска        1.000  0.041     0.225  0.109   0.271  -0.580 -0.455   \n",
       "КПП                0.041  1.000    -0.451 -0.441  -0.198  -0.114 -0.144   \n",
       "Мощность           0.225 -0.451     1.000  0.892   0.434  -0.056 -0.232   \n",
       "Объём              0.109 -0.441     0.892  1.000   0.422   0.025 -0.254   \n",
       "Привод             0.271 -0.198     0.434  0.422   1.000  -0.094 -0.104   \n",
       "Пробег            -0.580 -0.114    -0.056  0.025  -0.094   1.000  0.202   \n",
       "Руль              -0.455 -0.144    -0.232 -0.254  -0.104   0.202  1.000   \n",
       "Тип кузова        -0.247  0.226    -0.472 -0.563  -0.569   0.094  0.220   \n",
       "Топливо            0.036 -0.031     0.016  0.075   0.147   0.041 -0.109   \n",
       "Цвет               0.055 -0.059     0.148  0.149   0.097   0.028 -0.102   \n",
       "Цена               0.813 -0.212     0.622  0.533   0.475  -0.439 -0.488   \n",
       "\n",
       "             Тип кузова  Топливо   Цвет   Цена  \n",
       "Год выпуска      -0.247    0.036  0.055  0.813  \n",
       "КПП               0.226   -0.031 -0.059 -0.212  \n",
       "Мощность         -0.472    0.016  0.148  0.622  \n",
       "Объём            -0.563    0.075  0.149  0.533  \n",
       "Привод           -0.569    0.147  0.097  0.475  \n",
       "Пробег            0.094    0.041  0.028 -0.439  \n",
       "Руль              0.220   -0.109 -0.102 -0.488  \n",
       "Тип кузова        1.000   -0.192 -0.077 -0.516  \n",
       "Топливо          -0.192    1.000  0.040  0.125  \n",
       "Цвет             -0.077    0.040  1.000  0.108  \n",
       "Цена             -0.516    0.125  0.108  1.000  "
      ]
     },
     "execution_count": 37,
     "metadata": {},
     "output_type": "execute_result"
    }
   ],
   "source": [
    "car_data.rank().corr('spearman')"
   ]
  },
  {
   "cell_type": "markdown",
   "metadata": {},
   "source": [
    "We finished the exlporitary analysis of our data. Next thing I will do is a cleaning the data."
   ]
  }
 ],
 "metadata": {
  "kernelspec": {
   "display_name": "Python 3",
   "language": "python",
   "name": "python3"
  },
  "language_info": {
   "codemirror_mode": {
    "name": "ipython",
    "version": 3
   },
   "file_extension": ".py",
   "mimetype": "text/x-python",
   "name": "python",
   "nbconvert_exporter": "python",
   "pygments_lexer": "ipython3",
   "version": "3.6.4"
  }
 },
 "nbformat": 4,
 "nbformat_minor": 2
}
