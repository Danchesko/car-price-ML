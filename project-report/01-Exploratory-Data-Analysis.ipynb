{
 "cells": [
  {
   "cell_type": "markdown",
   "metadata": {},
   "source": [
    "<center><h1> Exploratory Data Analysis of car dataseet </h1></center>\n",
    "***"
   ]
  },
  {
   "cell_type": "markdown",
   "metadata": {},
   "source": [
    "In this notebook, I will explore and analyze my data, visuliaze connections between features and do some statistic manipulations to show main characteristics of data. First I will import data, that \"page-scarper.py\" got from [cars.kg](cars.kg) and saved in \"cars_raw_data.csv\". I called raw, because later I will clean the data: fill missing values, detect and maybe eliminate outliers, and maybe rescale data(standartization, normalization)."
   ]
  },
  {
   "cell_type": "markdown",
   "metadata": {},
   "source": [
    "I will import pandas, which is a library for data analysis, and you can see first 5 rows and last five raws of the data."
   ]
  },
  {
   "cell_type": "code",
   "execution_count": 1,
   "metadata": {},
   "outputs": [
    {
     "data": {
      "text/html": [
       "<div>\n",
       "<style scoped>\n",
       "    .dataframe tbody tr th:only-of-type {\n",
       "        vertical-align: middle;\n",
       "    }\n",
       "\n",
       "    .dataframe tbody tr th {\n",
       "        vertical-align: top;\n",
       "    }\n",
       "\n",
       "    .dataframe thead th {\n",
       "        text-align: right;\n",
       "    }\n",
       "</style>\n",
       "<table border=\"1\" class=\"dataframe\">\n",
       "  <thead>\n",
       "    <tr style=\"text-align: right;\">\n",
       "      <th></th>\n",
       "      <th>Год выпуска</th>\n",
       "      <th>КПП</th>\n",
       "      <th>Марка</th>\n",
       "      <th>Мощность</th>\n",
       "      <th>Объём</th>\n",
       "      <th>Привод</th>\n",
       "      <th>Пробег</th>\n",
       "      <th>Руль</th>\n",
       "      <th>Спешность</th>\n",
       "      <th>Тип кузова</th>\n",
       "      <th>Топливо</th>\n",
       "      <th>Цвет</th>\n",
       "      <th>Цена</th>\n",
       "    </tr>\n",
       "  </thead>\n",
       "  <tbody>\n",
       "    <tr>\n",
       "      <th>0</th>\n",
       "      <td>2004.000</td>\n",
       "      <td>автомат</td>\n",
       "      <td>mercedes-benz</td>\n",
       "      <td>177.000</td>\n",
       "      <td>2.700</td>\n",
       "      <td>задний</td>\n",
       "      <td></td>\n",
       "      <td>NaN</td>\n",
       "      <td>NaN</td>\n",
       "      <td>универсал</td>\n",
       "      <td>дизель</td>\n",
       "      <td>NaN</td>\n",
       "      <td>8000</td>\n",
       "    </tr>\n",
       "    <tr>\n",
       "      <th>1</th>\n",
       "      <td>2002.000</td>\n",
       "      <td>автомат</td>\n",
       "      <td>bmw</td>\n",
       "      <td>184.000</td>\n",
       "      <td>2.900</td>\n",
       "      <td>постоянный полный</td>\n",
       "      <td></td>\n",
       "      <td>левый</td>\n",
       "      <td>NaN</td>\n",
       "      <td>кроссовер</td>\n",
       "      <td>дизель</td>\n",
       "      <td>серебряный</td>\n",
       "      <td>8000</td>\n",
       "    </tr>\n",
       "    <tr>\n",
       "      <th>2</th>\n",
       "      <td>2001.000</td>\n",
       "      <td>автомат</td>\n",
       "      <td>lexus</td>\n",
       "      <td>nan</td>\n",
       "      <td>200.000</td>\n",
       "      <td>задний</td>\n",
       "      <td></td>\n",
       "      <td>правый</td>\n",
       "      <td>срочно</td>\n",
       "      <td>седан</td>\n",
       "      <td>бензин</td>\n",
       "      <td>мокрый асфальт</td>\n",
       "      <td>4200</td>\n",
       "    </tr>\n",
       "    <tr>\n",
       "      <th>3</th>\n",
       "      <td>2003.000</td>\n",
       "      <td>автомат</td>\n",
       "      <td>subaru</td>\n",
       "      <td>150.000</td>\n",
       "      <td>2.000</td>\n",
       "      <td>постоянный полный</td>\n",
       "      <td></td>\n",
       "      <td>правый</td>\n",
       "      <td>срочно</td>\n",
       "      <td>седан</td>\n",
       "      <td>бензин</td>\n",
       "      <td>серый</td>\n",
       "      <td>3800</td>\n",
       "    </tr>\n",
       "    <tr>\n",
       "      <th>4</th>\n",
       "      <td>2000.000</td>\n",
       "      <td>автомат</td>\n",
       "      <td>honda</td>\n",
       "      <td>213.000</td>\n",
       "      <td>3.000</td>\n",
       "      <td>постоянный полный</td>\n",
       "      <td>10000</td>\n",
       "      <td>правый</td>\n",
       "      <td>срочно</td>\n",
       "      <td>минивэн / бус</td>\n",
       "      <td>бензин</td>\n",
       "      <td>серебряный</td>\n",
       "      <td>3300</td>\n",
       "    </tr>\n",
       "  </tbody>\n",
       "</table>\n",
       "</div>"
      ],
      "text/plain": [
       "   Год выпуска      КПП          Марка  Мощность   Объём             Привод  \\\n",
       "0     2004.000  автомат  mercedes-benz   177.000   2.700             задний   \n",
       "1     2002.000  автомат            bmw   184.000   2.900  постоянный полный   \n",
       "2     2001.000  автомат          lexus       nan 200.000             задний   \n",
       "3     2003.000  автомат         subaru   150.000   2.000  постоянный полный   \n",
       "4     2000.000  автомат          honda   213.000   3.000  постоянный полный   \n",
       "\n",
       "  Пробег    Руль Спешность     Тип кузова Топливо            Цвет  Цена  \n",
       "0            NaN       NaN      универсал  дизель             NaN  8000  \n",
       "1          левый       NaN      кроссовер  дизель      серебряный  8000  \n",
       "2         правый    срочно          седан  бензин  мокрый асфальт  4200  \n",
       "3         правый    срочно          седан  бензин           серый  3800  \n",
       "4  10000  правый    срочно  минивэн / бус  бензин      серебряный  3300  "
      ]
     },
     "execution_count": 1,
     "metadata": {},
     "output_type": "execute_result"
    }
   ],
   "source": [
    "import pandas as pd \n",
    "import sys\n",
    "pd.set_option('float_format', '{:.3f}'.format)\n",
    "sys.path.append(\"../src\")\n",
    "from car_price_prediction.utils import dataset_manager\n",
    "\n",
    "car_data = dataset_manager.get_raw_dataset()\n",
    "car_data.head(5)"
   ]
  },
  {
   "cell_type": "code",
   "execution_count": 2,
   "metadata": {},
   "outputs": [
    {
     "data": {
      "text/html": [
       "<div>\n",
       "<style scoped>\n",
       "    .dataframe tbody tr th:only-of-type {\n",
       "        vertical-align: middle;\n",
       "    }\n",
       "\n",
       "    .dataframe tbody tr th {\n",
       "        vertical-align: top;\n",
       "    }\n",
       "\n",
       "    .dataframe thead th {\n",
       "        text-align: right;\n",
       "    }\n",
       "</style>\n",
       "<table border=\"1\" class=\"dataframe\">\n",
       "  <thead>\n",
       "    <tr style=\"text-align: right;\">\n",
       "      <th></th>\n",
       "      <th>Год выпуска</th>\n",
       "      <th>КПП</th>\n",
       "      <th>Марка</th>\n",
       "      <th>Мощность</th>\n",
       "      <th>Объём</th>\n",
       "      <th>Привод</th>\n",
       "      <th>Пробег</th>\n",
       "      <th>Руль</th>\n",
       "      <th>Спешность</th>\n",
       "      <th>Тип кузова</th>\n",
       "      <th>Топливо</th>\n",
       "      <th>Цвет</th>\n",
       "      <th>Цена</th>\n",
       "    </tr>\n",
       "  </thead>\n",
       "  <tbody>\n",
       "    <tr>\n",
       "      <th>13854</th>\n",
       "      <td>2003.000</td>\n",
       "      <td>автомат</td>\n",
       "      <td>honda</td>\n",
       "      <td>nan</td>\n",
       "      <td>2.000</td>\n",
       "      <td>NaN</td>\n",
       "      <td>130000</td>\n",
       "      <td>правый</td>\n",
       "      <td>срочно</td>\n",
       "      <td>седан</td>\n",
       "      <td>бензин</td>\n",
       "      <td>серый</td>\n",
       "      <td>6200</td>\n",
       "    </tr>\n",
       "    <tr>\n",
       "      <th>13855</th>\n",
       "      <td>2001.000</td>\n",
       "      <td>автомат</td>\n",
       "      <td>subaru</td>\n",
       "      <td>156.000</td>\n",
       "      <td>2.500</td>\n",
       "      <td>постоянный полный</td>\n",
       "      <td></td>\n",
       "      <td>правый</td>\n",
       "      <td>срочно</td>\n",
       "      <td>универсал</td>\n",
       "      <td>бензин</td>\n",
       "      <td>белый</td>\n",
       "      <td>2900</td>\n",
       "    </tr>\n",
       "    <tr>\n",
       "      <th>13856</th>\n",
       "      <td>2003.000</td>\n",
       "      <td>автомат</td>\n",
       "      <td>mazda</td>\n",
       "      <td>150.000</td>\n",
       "      <td>2.000</td>\n",
       "      <td>передний</td>\n",
       "      <td>214500</td>\n",
       "      <td>правый</td>\n",
       "      <td>NaN</td>\n",
       "      <td>хэтчбек</td>\n",
       "      <td>бензин</td>\n",
       "      <td>серый</td>\n",
       "      <td>4500</td>\n",
       "    </tr>\n",
       "    <tr>\n",
       "      <th>13857</th>\n",
       "      <td>2003.000</td>\n",
       "      <td>автомат</td>\n",
       "      <td>toyota</td>\n",
       "      <td>109.000</td>\n",
       "      <td>1.500</td>\n",
       "      <td>передний</td>\n",
       "      <td>126000</td>\n",
       "      <td>правый</td>\n",
       "      <td>срочно</td>\n",
       "      <td>минивэн / бус</td>\n",
       "      <td>бензин</td>\n",
       "      <td>бирюзовый</td>\n",
       "      <td>4800</td>\n",
       "    </tr>\n",
       "    <tr>\n",
       "      <th>13858</th>\n",
       "      <td>2002.000</td>\n",
       "      <td>автомат</td>\n",
       "      <td>nissan</td>\n",
       "      <td>170.000</td>\n",
       "      <td>3.300</td>\n",
       "      <td>полный подключаемый</td>\n",
       "      <td>338000</td>\n",
       "      <td>правый</td>\n",
       "      <td>NaN</td>\n",
       "      <td>внедорожник / пикап</td>\n",
       "      <td>бензин</td>\n",
       "      <td>серебряный</td>\n",
       "      <td>8800</td>\n",
       "    </tr>\n",
       "  </tbody>\n",
       "</table>\n",
       "</div>"
      ],
      "text/plain": [
       "       Год выпуска      КПП   Марка  Мощность  Объём               Привод  \\\n",
       "13854     2003.000  автомат   honda       nan  2.000                  NaN   \n",
       "13855     2001.000  автомат  subaru   156.000  2.500    постоянный полный   \n",
       "13856     2003.000  автомат   mazda   150.000  2.000             передний   \n",
       "13857     2003.000  автомат  toyota   109.000  1.500             передний   \n",
       "13858     2002.000  автомат  nissan   170.000  3.300  полный подключаемый   \n",
       "\n",
       "       Пробег    Руль Спешность           Тип кузова Топливо        Цвет  Цена  \n",
       "13854  130000  правый    срочно                седан  бензин       серый  6200  \n",
       "13855          правый    срочно            универсал  бензин       белый  2900  \n",
       "13856  214500  правый       NaN              хэтчбек  бензин       серый  4500  \n",
       "13857  126000  правый    срочно        минивэн / бус  бензин   бирюзовый  4800  \n",
       "13858  338000  правый       NaN  внедорожник / пикап  бензин  серебряный  8800  "
      ]
     },
     "execution_count": 2,
     "metadata": {},
     "output_type": "execute_result"
    }
   ],
   "source": [
    "car_data.tail(5)"
   ]
  },
  {
   "cell_type": "markdown",
   "metadata": {},
   "source": [
    "The very first thing I do, is check the shape of our dataframe."
   ]
  },
  {
   "cell_type": "code",
   "execution_count": 3,
   "metadata": {},
   "outputs": [
    {
     "data": {
      "text/plain": [
       "(13859, 13)"
      ]
     },
     "execution_count": 3,
     "metadata": {},
     "output_type": "execute_result"
    }
   ],
   "source": [
    "car_data.shape"
   ]
  },
  {
   "cell_type": "markdown",
   "metadata": {},
   "source": [
    "Next we can see the quantity of missing values in each of the columns. We can see that some of the features have a lot of missing values, and some not so much. I will go three ways, first I will create a model with a dataset where all the NaN values were dropped, and second I will impute all the missing NaN values and the third I will try to make maximum unbiased dataset, managing the data as a field expert. All of the three datasets will have different level of bias, I will explore it in 'Choosing-Dataset' notebook.\n"
   ]
  },
  {
   "cell_type": "code",
   "execution_count": 4,
   "metadata": {},
   "outputs": [
    {
     "data": {
      "text/plain": [
       "Год выпуска     196\n",
       "КПП             303\n",
       "Марка             0\n",
       "Мощность       2856\n",
       "Объём           465\n",
       "Привод         1061\n",
       "Пробег            0\n",
       "Руль            724\n",
       "Спешность      9336\n",
       "Тип кузова       48\n",
       "Топливо         294\n",
       "Цвет           1094\n",
       "Цена              0\n",
       "dtype: int64"
      ]
     },
     "execution_count": 4,
     "metadata": {},
     "output_type": "execute_result"
    }
   ],
   "source": [
    "car_data.isnull().sum()"
   ]
  },
  {
   "cell_type": "markdown",
   "metadata": {},
   "source": [
    "Next I would like to see detailed statistical summary of data. From the summary, we can see that mean of data and standard deviation have extreme values, and looking at max values at dataset, I can suggest that maximum values skewed the mean and std methods, later I will eliminate or impute those extreme values in dataset, also in next summary we can see the datatype of each column that we have."
   ]
  },
  {
   "cell_type": "code",
   "execution_count": 5,
   "metadata": {},
   "outputs": [
    {
     "data": {
      "text/html": [
       "<div>\n",
       "<style scoped>\n",
       "    .dataframe tbody tr th:only-of-type {\n",
       "        vertical-align: middle;\n",
       "    }\n",
       "\n",
       "    .dataframe tbody tr th {\n",
       "        vertical-align: top;\n",
       "    }\n",
       "\n",
       "    .dataframe thead th {\n",
       "        text-align: right;\n",
       "    }\n",
       "</style>\n",
       "<table border=\"1\" class=\"dataframe\">\n",
       "  <thead>\n",
       "    <tr style=\"text-align: right;\">\n",
       "      <th></th>\n",
       "      <th>Год выпуска</th>\n",
       "      <th>Мощность</th>\n",
       "      <th>Объём</th>\n",
       "      <th>Цена</th>\n",
       "    </tr>\n",
       "  </thead>\n",
       "  <tbody>\n",
       "    <tr>\n",
       "      <th>count</th>\n",
       "      <td>13663.000</td>\n",
       "      <td>11003.000</td>\n",
       "      <td>13394.000</td>\n",
       "      <td>13859.000</td>\n",
       "    </tr>\n",
       "    <tr>\n",
       "      <th>mean</th>\n",
       "      <td>2005.571</td>\n",
       "      <td>1009826414136.189</td>\n",
       "      <td>62662.992</td>\n",
       "      <td>74037.542</td>\n",
       "    </tr>\n",
       "    <tr>\n",
       "      <th>std</th>\n",
       "      <td>7.040</td>\n",
       "      <td>105925844237632.312</td>\n",
       "      <td>6149506.768</td>\n",
       "      <td>6568532.368</td>\n",
       "    </tr>\n",
       "    <tr>\n",
       "      <th>min</th>\n",
       "      <td>1961.000</td>\n",
       "      <td>1.000</td>\n",
       "      <td>-2.500</td>\n",
       "      <td>0.000</td>\n",
       "    </tr>\n",
       "    <tr>\n",
       "      <th>25%</th>\n",
       "      <td>2002.000</td>\n",
       "      <td>135.000</td>\n",
       "      <td>2.000</td>\n",
       "      <td>4000.000</td>\n",
       "    </tr>\n",
       "    <tr>\n",
       "      <th>50%</th>\n",
       "      <td>2005.000</td>\n",
       "      <td>173.000</td>\n",
       "      <td>2.400</td>\n",
       "      <td>8300.000</td>\n",
       "    </tr>\n",
       "    <tr>\n",
       "      <th>75%</th>\n",
       "      <td>2012.000</td>\n",
       "      <td>249.000</td>\n",
       "      <td>3.200</td>\n",
       "      <td>18676.500</td>\n",
       "    </tr>\n",
       "    <tr>\n",
       "      <th>max</th>\n",
       "      <td>2018.000</td>\n",
       "      <td>11111111111111110.000</td>\n",
       "      <td>705435466.000</td>\n",
       "      <td>773152600.000</td>\n",
       "    </tr>\n",
       "  </tbody>\n",
       "</table>\n",
       "</div>"
      ],
      "text/plain": [
       "       Год выпуска              Мощность         Объём          Цена\n",
       "count    13663.000             11003.000     13394.000     13859.000\n",
       "mean      2005.571     1009826414136.189     62662.992     74037.542\n",
       "std          7.040   105925844237632.312   6149506.768   6568532.368\n",
       "min       1961.000                 1.000        -2.500         0.000\n",
       "25%       2002.000               135.000         2.000      4000.000\n",
       "50%       2005.000               173.000         2.400      8300.000\n",
       "75%       2012.000               249.000         3.200     18676.500\n",
       "max       2018.000 11111111111111110.000 705435466.000 773152600.000"
      ]
     },
     "execution_count": 5,
     "metadata": {},
     "output_type": "execute_result"
    }
   ],
   "source": [
    "car_data.describe()"
   ]
  },
  {
   "cell_type": "code",
   "execution_count": 6,
   "metadata": {},
   "outputs": [
    {
     "name": "stdout",
     "output_type": "stream",
     "text": [
      "<class 'pandas.core.frame.DataFrame'>\n",
      "RangeIndex: 13859 entries, 0 to 13858\n",
      "Data columns (total 13 columns):\n",
      "Год выпуска    13663 non-null float64\n",
      "КПП            13556 non-null object\n",
      "Марка          13859 non-null object\n",
      "Мощность       11003 non-null float64\n",
      "Объём          13394 non-null float64\n",
      "Привод         12798 non-null object\n",
      "Пробег         13859 non-null object\n",
      "Руль           13135 non-null object\n",
      "Спешность      4523 non-null object\n",
      "Тип кузова     13811 non-null object\n",
      "Топливо        13565 non-null object\n",
      "Цвет           12765 non-null object\n",
      "Цена           13859 non-null int64\n",
      "dtypes: float64(3), int64(1), object(9)\n",
      "memory usage: 920.4+ KB\n"
     ]
    }
   ],
   "source": [
    "car_data.info()"
   ]
  },
  {
   "cell_type": "markdown",
   "metadata": {},
   "source": [
    "Next, I would want to see the correlation matrix between each of the continous(numeric) features.  \n",
    "By looking at summary above, I now know that dataset has extreme values in the data, each one of continious variables contains extreme values, which we need to eliminate, or make it NaN and impute, because if we won't, it will make a huge affect on correlations and predictions.  \n",
    "In the plot below we can see that correlation between continous variables is very low, it is due to the skewed data. There is no meaining at keeping analysis with this kind of data, at first I will eliminate extreme values just to see important relationships, I will not change dataset, the dataset will be changed and cleaned in \"Data-Cleaning\" notebook. I will clean data by \"cleaning-outliers.py\" script, by eliminating meaningless data, like: impossible mileage, capacity or engine power."
   ]
  },
  {
   "cell_type": "code",
   "execution_count": 7,
   "metadata": {},
   "outputs": [
    {
     "data": {
      "image/png": "[encoded data removed]",
      "text/plain": [
       "<matplotlib.figure.Figure at 0x9f6b170>"
      ]
     },
     "metadata": {},
     "output_type": "display_data"
    }
   ],
   "source": [
    "import seaborn as sns\n",
    "import matplotlib.pyplot as plt \n",
    "import numpy as np\n",
    "%matplotlib inline\n",
    "\n",
    "def plot_heatmap(data):\n",
    "    sns.set(style = \"white\")\n",
    "    corr = data.corr()\n",
    "    mask = np.zeros_like(corr, dtype=np.bool)\n",
    "    mask[np.triu_indices_from(mask)] = True\n",
    "    f, ax = plt.subplots(figsize=(11, 9))\n",
    "    cmap = sns.diverging_palette(220, 10, as_cmap=True)\n",
    "    sns.heatmap(corr, mask=mask, cmap=cmap, vmax=.3, center=0,\n",
    "            square=True, linewidths=.5, cbar_kws={\"shrink\": .5})\n",
    "    \n",
    "plot_heatmap(car_data)"
   ]
  },
  {
   "cell_type": "markdown",
   "metadata": {},
   "source": [
    "In the dataset categorical features don't have extreme values, and continuous feature \"Год выпуска\" doesn't have extreme values too. I think it is due to the way people could post advertisements. Categorical features and year feature could be inputed via selection, and continous numbers could be of any range."
   ]
  },
  {
   "cell_type": "code",
   "execution_count": 8,
   "metadata": {},
   "outputs": [
    {
     "data": {
      "text/plain": [
       "Год выпуска     196\n",
       "КПП             303\n",
       "Марка             0\n",
       "Мощность       2856\n",
       "Объём           465\n",
       "Привод         1061\n",
       "Пробег            0\n",
       "Руль            724\n",
       "Спешность      9336\n",
       "Тип кузова       48\n",
       "Топливо         294\n",
       "Цвет           1094\n",
       "Цена              0\n",
       "dtype: int64"
      ]
     },
     "execution_count": 8,
     "metadata": {},
     "output_type": "execute_result"
    }
   ],
   "source": [
    "car_data.isnull().sum()"
   ]
  },
  {
   "cell_type": "markdown",
   "metadata": {},
   "source": [
    "Now I will download data cleaned from outliers and impossible values, and we can see that number of NaN values increased, I made some extreme values NaN, so later i could impute that data. After, I will drop some non-needed values."
   ]
  },
  {
   "cell_type": "code",
   "execution_count": 9,
   "metadata": {},
   "outputs": [
    {
     "data": {
      "text/plain": [
       "Год выпуска     185\n",
       "КПП             287\n",
       "Марка             0\n",
       "Мощность       2961\n",
       "Объём           772\n",
       "Привод         1015\n",
       "Пробег         5187\n",
       "Руль            693\n",
       "Спешность      9200\n",
       "Тип кузова       48\n",
       "Топливо         277\n",
       "Цвет           1047\n",
       "Цена              0\n",
       "dtype: int64"
      ]
     },
     "execution_count": 9,
     "metadata": {},
     "output_type": "execute_result"
    }
   ],
   "source": [
    "car_data = dataset_manager.get_cleaned_outliers_dataset()\n",
    "car_data.isnull().sum()"
   ]
  },
  {
   "cell_type": "markdown",
   "metadata": {},
   "source": [
    "Now we can continue our Exploritary Analysis. And right away we can see, that all statistic summary now makes full sense. And correlation plotting now is a little bit more reassuring."
   ]
  },
  {
   "cell_type": "code",
   "execution_count": 10,
   "metadata": {},
   "outputs": [
    {
     "data": {
      "text/html": [
       "<div>\n",
       "<style scoped>\n",
       "    .dataframe tbody tr th:only-of-type {\n",
       "        vertical-align: middle;\n",
       "    }\n",
       "\n",
       "    .dataframe tbody tr th {\n",
       "        vertical-align: top;\n",
       "    }\n",
       "\n",
       "    .dataframe thead th {\n",
       "        text-align: right;\n",
       "    }\n",
       "</style>\n",
       "<table border=\"1\" class=\"dataframe\">\n",
       "  <thead>\n",
       "    <tr style=\"text-align: right;\">\n",
       "      <th></th>\n",
       "      <th>Год выпуска</th>\n",
       "      <th>Мощность</th>\n",
       "      <th>Объём</th>\n",
       "      <th>Пробег</th>\n",
       "      <th>Цена</th>\n",
       "    </tr>\n",
       "  </thead>\n",
       "  <tbody>\n",
       "    <tr>\n",
       "      <th>count</th>\n",
       "      <td>13387.000</td>\n",
       "      <td>10611.000</td>\n",
       "      <td>12800.000</td>\n",
       "      <td>8385.000</td>\n",
       "      <td>13572.000</td>\n",
       "    </tr>\n",
       "    <tr>\n",
       "      <th>mean</th>\n",
       "      <td>2005.733</td>\n",
       "      <td>196.722</td>\n",
       "      <td>2.651</td>\n",
       "      <td>129075.606</td>\n",
       "      <td>14943.743</td>\n",
       "    </tr>\n",
       "    <tr>\n",
       "      <th>std</th>\n",
       "      <td>6.908</td>\n",
       "      <td>86.915</td>\n",
       "      <td>1.091</td>\n",
       "      <td>83745.988</td>\n",
       "      <td>18996.475</td>\n",
       "    </tr>\n",
       "    <tr>\n",
       "      <th>min</th>\n",
       "      <td>1961.000</td>\n",
       "      <td>51.000</td>\n",
       "      <td>0.700</td>\n",
       "      <td>1.000</td>\n",
       "      <td>520.000</td>\n",
       "    </tr>\n",
       "    <tr>\n",
       "      <th>25%</th>\n",
       "      <td>2002.000</td>\n",
       "      <td>136.000</td>\n",
       "      <td>2.000</td>\n",
       "      <td>71500.000</td>\n",
       "      <td>4100.000</td>\n",
       "    </tr>\n",
       "    <tr>\n",
       "      <th>50%</th>\n",
       "      <td>2005.000</td>\n",
       "      <td>173.000</td>\n",
       "      <td>2.400</td>\n",
       "      <td>123456.000</td>\n",
       "      <td>8200.000</td>\n",
       "    </tr>\n",
       "    <tr>\n",
       "      <th>75%</th>\n",
       "      <td>2012.000</td>\n",
       "      <td>249.000</td>\n",
       "      <td>3.000</td>\n",
       "      <td>179382.000</td>\n",
       "      <td>18267.250</td>\n",
       "    </tr>\n",
       "    <tr>\n",
       "      <th>max</th>\n",
       "      <td>2018.000</td>\n",
       "      <td>585.000</td>\n",
       "      <td>6.300</td>\n",
       "      <td>800000.000</td>\n",
       "      <td>284000.000</td>\n",
       "    </tr>\n",
       "  </tbody>\n",
       "</table>\n",
       "</div>"
      ],
      "text/plain": [
       "       Год выпуска  Мощность     Объём     Пробег       Цена\n",
       "count    13387.000 10611.000 12800.000   8385.000  13572.000\n",
       "mean      2005.733   196.722     2.651 129075.606  14943.743\n",
       "std          6.908    86.915     1.091  83745.988  18996.475\n",
       "min       1961.000    51.000     0.700      1.000    520.000\n",
       "25%       2002.000   136.000     2.000  71500.000   4100.000\n",
       "50%       2005.000   173.000     2.400 123456.000   8200.000\n",
       "75%       2012.000   249.000     3.000 179382.000  18267.250\n",
       "max       2018.000   585.000     6.300 800000.000 284000.000"
      ]
     },
     "execution_count": 10,
     "metadata": {},
     "output_type": "execute_result"
    }
   ],
   "source": [
    "car_data.describe()"
   ]
  },
  {
   "cell_type": "code",
   "execution_count": 11,
   "metadata": {},
   "outputs": [
    {
     "data": {
      "image/png": "[encoded data removed]",
      "text/plain": [
       "<matplotlib.figure.Figure at 0x7f85710>"
      ]
     },
     "metadata": {},
     "output_type": "display_data"
    }
   ],
   "source": [
    "plot_heatmap(car_data)"
   ]
  },
  {
   "cell_type": "code",
   "execution_count": 12,
   "metadata": {},
   "outputs": [
    {
     "data": {
      "text/html": [
       "<div>\n",
       "<style scoped>\n",
       "    .dataframe tbody tr th:only-of-type {\n",
       "        vertical-align: middle;\n",
       "    }\n",
       "\n",
       "    .dataframe tbody tr th {\n",
       "        vertical-align: top;\n",
       "    }\n",
       "\n",
       "    .dataframe thead th {\n",
       "        text-align: right;\n",
       "    }\n",
       "</style>\n",
       "<table border=\"1\" class=\"dataframe\">\n",
       "  <thead>\n",
       "    <tr style=\"text-align: right;\">\n",
       "      <th></th>\n",
       "      <th>Год выпуска</th>\n",
       "      <th>Мощность</th>\n",
       "      <th>Объём</th>\n",
       "      <th>Пробег</th>\n",
       "      <th>Цена</th>\n",
       "    </tr>\n",
       "  </thead>\n",
       "  <tbody>\n",
       "    <tr>\n",
       "      <th>Год выпуска</th>\n",
       "      <td>1.000</td>\n",
       "      <td>0.289</td>\n",
       "      <td>0.184</td>\n",
       "      <td>-0.751</td>\n",
       "      <td>0.612</td>\n",
       "    </tr>\n",
       "    <tr>\n",
       "      <th>Мощность</th>\n",
       "      <td>0.289</td>\n",
       "      <td>1.000</td>\n",
       "      <td>0.875</td>\n",
       "      <td>-0.156</td>\n",
       "      <td>0.580</td>\n",
       "    </tr>\n",
       "    <tr>\n",
       "      <th>Объём</th>\n",
       "      <td>0.184</td>\n",
       "      <td>0.875</td>\n",
       "      <td>1.000</td>\n",
       "      <td>-0.064</td>\n",
       "      <td>0.491</td>\n",
       "    </tr>\n",
       "    <tr>\n",
       "      <th>Пробег</th>\n",
       "      <td>-0.751</td>\n",
       "      <td>-0.156</td>\n",
       "      <td>-0.064</td>\n",
       "      <td>1.000</td>\n",
       "      <td>-0.503</td>\n",
       "    </tr>\n",
       "    <tr>\n",
       "      <th>Цена</th>\n",
       "      <td>0.612</td>\n",
       "      <td>0.580</td>\n",
       "      <td>0.491</td>\n",
       "      <td>-0.503</td>\n",
       "      <td>1.000</td>\n",
       "    </tr>\n",
       "  </tbody>\n",
       "</table>\n",
       "</div>"
      ],
      "text/plain": [
       "             Год выпуска  Мощность  Объём  Пробег   Цена\n",
       "Год выпуска        1.000     0.289  0.184  -0.751  0.612\n",
       "Мощность           0.289     1.000  0.875  -0.156  0.580\n",
       "Объём              0.184     0.875  1.000  -0.064  0.491\n",
       "Пробег            -0.751    -0.156 -0.064   1.000 -0.503\n",
       "Цена               0.612     0.580  0.491  -0.503  1.000"
      ]
     },
     "execution_count": 12,
     "metadata": {},
     "output_type": "execute_result"
    }
   ],
   "source": [
    "car_data.corr()"
   ]
  },
  {
   "cell_type": "markdown",
   "metadata": {},
   "source": [
    "Now it's time to see, which features of dataset are important and which are not so. I am going to use RandomForest Regressor module from scklearn library to analyze importance of features. Also, I wll use OneHotEncoder to make categorical features numeric.  \n",
    "I will drop the NaN values for this example, because RandomForestRegressor doesn't take as an input data with missing values.\n",
    "I will replace NaN values in urgency column, cause there is a lot of missing values there.  \n",
    "And also I will drop power column, because of several reasons:\n",
    "* Power column is dependent from capacity column on 87.5 per cent, we can see it above in correlation matrix\n",
    "* Most of the people in KG doesn't care about the power, but do about capacity, that's why there are a lot of NaN values in power column, and a lot of impossible values\n",
    "* Later in notebooks, we will see that power column actually deteriorate prediction accuracy"
   ]
  },
  {
   "cell_type": "code",
   "execution_count": 13,
   "metadata": {
    "scrolled": true
   },
   "outputs": [],
   "source": [
    "from sklearn.ensemble import RandomForestRegressor\n",
    "from sklearn.preprocessing import OneHotEncoder\n",
    "from car_price_prediction.utils import df_utils\n",
    "\n",
    "car_data[\"Спешность\"] = car_data[\"Спешность\"].fillna(\"другое\")\n",
    "car_data.dropna(inplace=True)\n",
    "car_data.drop(columns = [\"Мощность\"], inplace = True)"
   ]
  },
  {
   "cell_type": "code",
   "execution_count": 14,
   "metadata": {},
   "outputs": [
    {
     "name": "stdout",
     "output_type": "stream",
     "text": [
      "Features sorted by their score:\n",
      "[(0.4184, 'Год выпуска'), (0.343, 'Объём'), (0.0855, 'Пробег'), (0.0257, 'Марка_porsche'), (0.0206, 'КПП_типтроник'), (0.0129, 'Марка_mercedes-benz'), (0.0105, 'Тип кузова_кроссовер'), (0.0082, 'Марка_cadillac'), (0.007, 'Тип кузова_минивэн / бус'), (0.0067, 'Марка_lexus'), (0.0061, 'Тип кузова_хэтчбек'), (0.0049, 'Тип кузова_седан'), (0.0042, 'Тип кузова_внедорожник / пикап'), (0.003, 'Марка_bmw'), (0.0029, 'Топливо_дизель'), (0.0028, 'Привод_передний'), (0.0027, 'Марка_уаз'), (0.0023, 'Привод_постоянный полный'), (0.0021, 'Тип кузова_кабриолет'), (0.0021, 'Марка_toyota'), (0.0019, 'КПП_механика'), (0.0018, 'Цвет_черный'), (0.0017, 'Топливо_газ-бензин'), (0.0017, 'Марка_land rover'), (0.0015, 'Цвет_белый'), (0.0015, 'Топливо_бензин'), (0.0012, 'Цвет_серый'), (0.001, 'Цвет_мокрый асфальт'), (0.0009, 'Цвет_коричневый'), (0.0009, 'Тип кузова_купе'), (0.0009, 'Марка_hyundai'), (0.0008, 'Марка_kia'), (0.0008, 'Марка_audi'), (0.0008, 'КПП_автомат'), (0.0007, 'Привод_задний'), (0.0007, 'Марка_ваз (lada)'), (0.0007, 'Марка_nissan'), (0.0007, 'КПП_вариатор'), (0.0006, 'Спешность_срочно'), (0.0006, 'Спешность_другое'), (0.0006, 'Марка_volkswagen'), (0.0006, 'Марка_maserati'), (0.0006, 'Марка_infiniti'), (0.0005, 'Цвет_синий'), (0.0005, 'Цвет_серебряный'), (0.0005, 'Цвет_желтый'), (0.0003, 'Цвет_белый жемчуг'), (0.0003, 'Привод_полный подключаемый'), (0.0003, 'Марка_mitsubishi'), (0.0003, 'Марка_daewoo'), (0.0002, 'Цвет_темно-синий'), (0.0002, 'Цвет_дипломат'), (0.0002, 'Цвет_голубой'), (0.0002, 'Марка_subaru'), (0.0002, 'Марка_opel'), (0.0002, 'Марка_honda'), (0.0002, 'Марка_ford'), (0.0001, 'Цвет_оранжевый'), (0.0001, 'Цвет_красный'), (0.0001, 'Цвет_зеленый'), (0.0001, 'Цвет_вишневый'), (0.0001, 'Цвет_бежевый'), (0.0001, 'Тип кузова_универсал'), (0.0001, 'Руль_правый'), (0.0001, 'Руль_левый'), (0.0001, 'Марка_skoda'), (0.0001, 'Марка_mazda'), (0.0001, 'Марка_dodge'), (0.0, 'Цвет_фиолетовый'), (0.0, 'Цвет_смарагд'), (0.0, 'Цвет_пурпурный'), (0.0, 'Цвет_морская волна'), (0.0, 'Цвет_золотой'), (0.0, 'Цвет_бордовый'), (0.0, 'Цвет_бирюзовый'), (0.0, 'Цвет_баклажан'), (0.0, 'Топливо_газ'), (0.0, 'Спешность_аварийная'), (0.0, 'Марка_камаз'), (0.0, 'Марка_газ'), (0.0, 'Марка_suzuki'), (0.0, 'Марка_smart'), (0.0, 'Марка_seat'), (0.0, 'Марка_saturn'), (0.0, 'Марка_samsung'), (0.0, 'Марка_renault'), (0.0, 'Марка_ravon'), (0.0, 'Марка_mini'), (0.0, 'Марка_jeep'), (0.0, 'Марка_isuzu'), (0.0, 'Марка_hummer'), (0.0, 'Марка_hafei'), (0.0, 'Марка_daihatsu'), (0.0, 'Марка_citroen'), (0.0, 'Марка_chrysler'), (0.0, 'Марка_chevrolet'), (0.0, 'Марка_acura')]\n"
     ]
    }
   ],
   "source": [
    "X,y = df_utils.get_data_and_target(car_data)\n",
    "X_dummies = pd.get_dummies(X)\n",
    "forest = RandomForestRegressor()\n",
    "feat_labels = X_dummies.columns[:-1]\n",
    "forest.fit(X_dummies,y)\n",
    "importances = forest.feature_importances_\n",
    "indices = np.argsort(importances)[::-1]\n",
    "    \n",
    "print(\"Features sorted by their score:\")\n",
    "print(sorted(zip(map(lambda x: round(x, 4), forest.feature_importances_), X_dummies.columns.values), reverse=True))"
   ]
  },
  {
   "cell_type": "markdown",
   "metadata": {},
   "source": [
    "Now we will make use of dimensionality reduction algorithm which is called Principal Component Analysis(PCA). It will allow us to reduce the number of dimensions of a dataset. To visualize data I will reduce the number of dimensions to two. At first we will scale the whole dataset so it will have near to equal sizes. We will scale dataset via StandartScaler module of scikit learn module.From this plot we can see the distribution of data, and outliers as well."
   ]
  },
  {
   "cell_type": "code",
   "execution_count": 15,
   "metadata": {},
   "outputs": [
    {
     "data": {
      "text/plain": [
       "<matplotlib.collections.PathCollection at 0xb7ace50>"
      ]
     },
     "execution_count": 15,
     "metadata": {},
     "output_type": "execute_result"
    },
    {
     "data": {
      "image/png": "[encoded data removed]",
      "text/plain": [
       "<matplotlib.figure.Figure at 0xb423e90>"
      ]
     },
     "metadata": {},
     "output_type": "display_data"
    }
   ],
   "source": [
    "from sklearn.preprocessing import StandardScaler\n",
    "from sklearn.decomposition import PCA\n",
    "import matplotlib.pyplot as plt \n",
    "\n",
    "pca = PCA(n_components=1)\n",
    "scaler = StandardScaler()\n",
    "X_scaled = df_utils.scale_train(X)\n",
    "X_pca = pd.get_dummies(X_scaled)\n",
    "X_pca = pca.fit_transform(X_pca)\n",
    "plt.scatter(X_pca,y,marker = \"o\",lw=0.1)"
   ]
  },
  {
   "cell_type": "code",
   "execution_count": 16,
   "metadata": {},
   "outputs": [
    {
     "data": {
      "text/html": [
       "<div>\n",
       "<style scoped>\n",
       "    .dataframe tbody tr th:only-of-type {\n",
       "        vertical-align: middle;\n",
       "    }\n",
       "\n",
       "    .dataframe tbody tr th {\n",
       "        vertical-align: top;\n",
       "    }\n",
       "\n",
       "    .dataframe thead th {\n",
       "        text-align: right;\n",
       "    }\n",
       "</style>\n",
       "<table border=\"1\" class=\"dataframe\">\n",
       "  <thead>\n",
       "    <tr style=\"text-align: right;\">\n",
       "      <th></th>\n",
       "      <th>Год выпуска</th>\n",
       "      <th>КПП</th>\n",
       "      <th>Марка</th>\n",
       "      <th>Объём</th>\n",
       "      <th>Привод</th>\n",
       "      <th>Пробег</th>\n",
       "      <th>Руль</th>\n",
       "      <th>Спешность</th>\n",
       "      <th>Тип кузова</th>\n",
       "      <th>Топливо</th>\n",
       "      <th>Цвет</th>\n",
       "      <th>Цена</th>\n",
       "    </tr>\n",
       "  </thead>\n",
       "  <tbody>\n",
       "    <tr>\n",
       "      <th>Год выпуска</th>\n",
       "      <td>1.000</td>\n",
       "      <td>0.003</td>\n",
       "      <td>-0.002</td>\n",
       "      <td>0.061</td>\n",
       "      <td>0.252</td>\n",
       "      <td>-0.819</td>\n",
       "      <td>-0.455</td>\n",
       "      <td>-0.462</td>\n",
       "      <td>-0.246</td>\n",
       "      <td>0.052</td>\n",
       "      <td>0.034</td>\n",
       "      <td>0.784</td>\n",
       "    </tr>\n",
       "    <tr>\n",
       "      <th>КПП</th>\n",
       "      <td>0.003</td>\n",
       "      <td>1.000</td>\n",
       "      <td>0.142</td>\n",
       "      <td>-0.444</td>\n",
       "      <td>-0.186</td>\n",
       "      <td>-0.029</td>\n",
       "      <td>-0.127</td>\n",
       "      <td>-0.011</td>\n",
       "      <td>0.198</td>\n",
       "      <td>-0.064</td>\n",
       "      <td>-0.045</td>\n",
       "      <td>-0.253</td>\n",
       "    </tr>\n",
       "    <tr>\n",
       "      <th>Марка</th>\n",
       "      <td>-0.002</td>\n",
       "      <td>0.142</td>\n",
       "      <td>1.000</td>\n",
       "      <td>-0.066</td>\n",
       "      <td>-0.044</td>\n",
       "      <td>-0.016</td>\n",
       "      <td>0.058</td>\n",
       "      <td>0.018</td>\n",
       "      <td>0.010</td>\n",
       "      <td>-0.097</td>\n",
       "      <td>-0.037</td>\n",
       "      <td>-0.085</td>\n",
       "    </tr>\n",
       "    <tr>\n",
       "      <th>Объём</th>\n",
       "      <td>0.061</td>\n",
       "      <td>-0.444</td>\n",
       "      <td>-0.066</td>\n",
       "      <td>1.000</td>\n",
       "      <td>0.437</td>\n",
       "      <td>0.011</td>\n",
       "      <td>-0.180</td>\n",
       "      <td>-0.059</td>\n",
       "      <td>-0.534</td>\n",
       "      <td>0.089</td>\n",
       "      <td>0.126</td>\n",
       "      <td>0.529</td>\n",
       "    </tr>\n",
       "    <tr>\n",
       "      <th>Привод</th>\n",
       "      <td>0.252</td>\n",
       "      <td>-0.186</td>\n",
       "      <td>-0.044</td>\n",
       "      <td>0.437</td>\n",
       "      <td>1.000</td>\n",
       "      <td>-0.164</td>\n",
       "      <td>-0.122</td>\n",
       "      <td>-0.174</td>\n",
       "      <td>-0.604</td>\n",
       "      <td>0.182</td>\n",
       "      <td>0.071</td>\n",
       "      <td>0.497</td>\n",
       "    </tr>\n",
       "    <tr>\n",
       "      <th>Пробег</th>\n",
       "      <td>-0.819</td>\n",
       "      <td>-0.029</td>\n",
       "      <td>-0.016</td>\n",
       "      <td>0.011</td>\n",
       "      <td>-0.164</td>\n",
       "      <td>1.000</td>\n",
       "      <td>0.326</td>\n",
       "      <td>0.341</td>\n",
       "      <td>0.152</td>\n",
       "      <td>0.044</td>\n",
       "      <td>0.018</td>\n",
       "      <td>-0.631</td>\n",
       "    </tr>\n",
       "    <tr>\n",
       "      <th>Руль</th>\n",
       "      <td>-0.455</td>\n",
       "      <td>-0.127</td>\n",
       "      <td>0.058</td>\n",
       "      <td>-0.180</td>\n",
       "      <td>-0.122</td>\n",
       "      <td>0.326</td>\n",
       "      <td>1.000</td>\n",
       "      <td>0.324</td>\n",
       "      <td>0.217</td>\n",
       "      <td>-0.085</td>\n",
       "      <td>-0.099</td>\n",
       "      <td>-0.469</td>\n",
       "    </tr>\n",
       "    <tr>\n",
       "      <th>Спешность</th>\n",
       "      <td>-0.462</td>\n",
       "      <td>-0.011</td>\n",
       "      <td>0.018</td>\n",
       "      <td>-0.059</td>\n",
       "      <td>-0.174</td>\n",
       "      <td>0.341</td>\n",
       "      <td>0.324</td>\n",
       "      <td>1.000</td>\n",
       "      <td>0.175</td>\n",
       "      <td>-0.084</td>\n",
       "      <td>-0.040</td>\n",
       "      <td>-0.419</td>\n",
       "    </tr>\n",
       "    <tr>\n",
       "      <th>Тип кузова</th>\n",
       "      <td>-0.246</td>\n",
       "      <td>0.198</td>\n",
       "      <td>0.010</td>\n",
       "      <td>-0.534</td>\n",
       "      <td>-0.604</td>\n",
       "      <td>0.152</td>\n",
       "      <td>0.217</td>\n",
       "      <td>0.175</td>\n",
       "      <td>1.000</td>\n",
       "      <td>-0.234</td>\n",
       "      <td>-0.046</td>\n",
       "      <td>-0.524</td>\n",
       "    </tr>\n",
       "    <tr>\n",
       "      <th>Топливо</th>\n",
       "      <td>0.052</td>\n",
       "      <td>-0.064</td>\n",
       "      <td>-0.097</td>\n",
       "      <td>0.089</td>\n",
       "      <td>0.182</td>\n",
       "      <td>0.044</td>\n",
       "      <td>-0.085</td>\n",
       "      <td>-0.084</td>\n",
       "      <td>-0.234</td>\n",
       "      <td>1.000</td>\n",
       "      <td>0.021</td>\n",
       "      <td>0.148</td>\n",
       "    </tr>\n",
       "    <tr>\n",
       "      <th>Цвет</th>\n",
       "      <td>0.034</td>\n",
       "      <td>-0.045</td>\n",
       "      <td>-0.037</td>\n",
       "      <td>0.126</td>\n",
       "      <td>0.071</td>\n",
       "      <td>0.018</td>\n",
       "      <td>-0.099</td>\n",
       "      <td>-0.040</td>\n",
       "      <td>-0.046</td>\n",
       "      <td>0.021</td>\n",
       "      <td>1.000</td>\n",
       "      <td>0.090</td>\n",
       "    </tr>\n",
       "    <tr>\n",
       "      <th>Цена</th>\n",
       "      <td>0.784</td>\n",
       "      <td>-0.253</td>\n",
       "      <td>-0.085</td>\n",
       "      <td>0.529</td>\n",
       "      <td>0.497</td>\n",
       "      <td>-0.631</td>\n",
       "      <td>-0.469</td>\n",
       "      <td>-0.419</td>\n",
       "      <td>-0.524</td>\n",
       "      <td>0.148</td>\n",
       "      <td>0.090</td>\n",
       "      <td>1.000</td>\n",
       "    </tr>\n",
       "  </tbody>\n",
       "</table>\n",
       "</div>"
      ],
      "text/plain": [
       "             Год выпуска    КПП  Марка  Объём  Привод  Пробег   Руль  \\\n",
       "Год выпуска        1.000  0.003 -0.002  0.061   0.252  -0.819 -0.455   \n",
       "КПП                0.003  1.000  0.142 -0.444  -0.186  -0.029 -0.127   \n",
       "Марка             -0.002  0.142  1.000 -0.066  -0.044  -0.016  0.058   \n",
       "Объём              0.061 -0.444 -0.066  1.000   0.437   0.011 -0.180   \n",
       "Привод             0.252 -0.186 -0.044  0.437   1.000  -0.164 -0.122   \n",
       "Пробег            -0.819 -0.029 -0.016  0.011  -0.164   1.000  0.326   \n",
       "Руль              -0.455 -0.127  0.058 -0.180  -0.122   0.326  1.000   \n",
       "Спешность         -0.462 -0.011  0.018 -0.059  -0.174   0.341  0.324   \n",
       "Тип кузова        -0.246  0.198  0.010 -0.534  -0.604   0.152  0.217   \n",
       "Топливо            0.052 -0.064 -0.097  0.089   0.182   0.044 -0.085   \n",
       "Цвет               0.034 -0.045 -0.037  0.126   0.071   0.018 -0.099   \n",
       "Цена               0.784 -0.253 -0.085  0.529   0.497  -0.631 -0.469   \n",
       "\n",
       "             Спешность  Тип кузова  Топливо   Цвет   Цена  \n",
       "Год выпуска     -0.462      -0.246    0.052  0.034  0.784  \n",
       "КПП             -0.011       0.198   -0.064 -0.045 -0.253  \n",
       "Марка            0.018       0.010   -0.097 -0.037 -0.085  \n",
       "Объём           -0.059      -0.534    0.089  0.126  0.529  \n",
       "Привод          -0.174      -0.604    0.182  0.071  0.497  \n",
       "Пробег           0.341       0.152    0.044  0.018 -0.631  \n",
       "Руль             0.324       0.217   -0.085 -0.099 -0.469  \n",
       "Спешность        1.000       0.175   -0.084 -0.040 -0.419  \n",
       "Тип кузова       0.175       1.000   -0.234 -0.046 -0.524  \n",
       "Топливо         -0.084      -0.234    1.000  0.021  0.148  \n",
       "Цвет            -0.040      -0.046    0.021  1.000  0.090  \n",
       "Цена            -0.419      -0.524    0.148  0.090  1.000  "
      ]
     },
     "execution_count": 16,
     "metadata": {},
     "output_type": "execute_result"
    }
   ],
   "source": [
    "car_data.rank().corr('spearman')"
   ]
  },
  {
   "cell_type": "markdown",
   "metadata": {},
   "source": [
    "We finished the exlporitary analysis of our data. Next thing I will do is a cleaning the data."
   ]
  }
 ],
 "metadata": {
  "kernelspec": {
   "display_name": "Python 3",
   "language": "python",
   "name": "python3"
  },
  "language_info": {
   "codemirror_mode": {
    "name": "ipython",
    "version": 3
   },
   "file_extension": ".py",
   "mimetype": "text/x-python",
   "name": "python",
   "nbconvert_exporter": "python",
   "pygments_lexer": "ipython3",
   "version": "3.6.4"
  }
 },
 "nbformat": 4,
 "nbformat_minor": 2
}
