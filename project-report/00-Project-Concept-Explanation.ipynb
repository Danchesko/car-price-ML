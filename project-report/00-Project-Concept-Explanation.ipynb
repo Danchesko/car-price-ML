{
 "cells": [
  {
   "cell_type": "markdown",
   "metadata": {},
   "source": [
    "<h1 style = \"{dispay:inline}\"><center> Project Concept Explanation</center></h1>\n",
    "***\n",
    "<h3 align = \"right\"> by Daniiar Berdikulov</h3>\n",
    "<br>\n",
    "The idea of the project was to create a program, that works on machine learning algorithm: it takes data of cars' features and the price of the car and learns how to predict a car's price with given features.\n",
    "\n",
    "Tools I am going to use: \n",
    "\n",
    "* Python programming language - most popular programming language for data science by now\n",
    "* Anaconda - distribution of python for data science\n",
    "* Jupyter Notebooks - for presenting my project, and showing how it works\n",
    "* Spyder - IDE for data science\n",
    " \n",
    "\n",
    "After surfing Internet I couldn't find any open source data for cars under sale in Bishkek, so I decided to collect the data by myself. The most used webpages like [diesel.kg](diesel.kg) and [mashina.kg](mashina.kg), couldn't be used as a source of information, because these webpages were impossible to scrape due to randomness of creating web link. Luckily, I found a webpage [cars.kg](cars.kg), which had a pattern in creating web links to each of the car's advertisements and had a decent structure of html, so I was able to scrape data from this webpage.\n",
    "\n",
    "\n",
    "You can see scraping algorithm in \"/src/data-scraping/page-scraper.py\".  \n",
    "\n",
    "The iterator was run for 16000 iterations, and from 16000 about 7400 pages existed, which gave me a pretty good dataset for analysis and prediction.\n",
    "\n",
    "**Which features of car I used to feed the machine learning algorithm?**  \n",
    "I used all of the features that webpage could provide me, that were:\n",
    "\n",
    "* Год выпуска\n",
    "* КПП\n",
    "* Марка\n",
    "* Мощность\n",
    "* Объём\n",
    "* Привод\n",
    "* Пробег\n",
    "* Руль\n",
    "* Срочность\n",
    "* Тип кузова\n",
    "* Топливо\n",
    "* Цвет\n",
    "* Цена\n",
    "\n",
    "Some of the features may seem not connected with price (like color of the car), and some features may seem redundant - linearly dependable (like power of the engine and its capacity), but in next notebook \"Explaratory Data Analysis\" I will show which of the features are important, which are redundant - by [Statistical analysis of data](https://en.wikipedia.org/wiki/Data_analysis)."
   ]
  },
  {
   "cell_type": "code",
   "execution_count": null,
   "metadata": {},
   "outputs": [],
   "source": []
  }
 ],
 "metadata": {
  "kernelspec": {
   "display_name": "Python 3",
   "language": "python",
   "name": "python3"
  },
  "language_info": {
   "codemirror_mode": {
    "name": "ipython",
    "version": 3
   },
   "file_extension": ".py",
   "mimetype": "text/x-python",
   "name": "python",
   "nbconvert_exporter": "python",
   "pygments_lexer": "ipython3",
   "version": "3.6.4"
  }
 },
 "nbformat": 4,
 "nbformat_minor": 2
}
