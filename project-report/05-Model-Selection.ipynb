{
 "cells": [
  {
   "cell_type": "markdown",
   "metadata": {},
   "source": [
    "<center><h1>Model Selection</center></h1><br>"
   ]
  },
  {
   "cell_type": "markdown",
   "metadata": {},
   "source": [
    "In this notebook we will see, which model will perform better on given dataset. In the last notebook, we saw which dataset is the most unbiased and from now on we will work with it. I already wrote a script that will get us train and test for our X and y"
   ]
  },
  {
   "cell_type": "code",
   "execution_count": 1,
   "metadata": {},
   "outputs": [],
   "source": [
    "import pandas as pd\n",
    "import sys\n",
    "sys.path.append(\"../src/model_selection\")\n",
    "import get_X_and_y\n",
    "from linear_regression_model import LinearRegressionModel\n",
    "from random_forest_model import RandomForestModel\n",
    "from svm_model import SVMModel\n",
    "from bagging_model import BaggingModel\n",
    "from lasso_regression_model import LassoRegressionModel\n",
    "path_to_dataset = \"../data/processed/cars_max_unbiased.xlsx\""
   ]
  },
  {
   "cell_type": "code",
   "execution_count": 2,
   "metadata": {},
   "outputs": [],
   "source": [
    "X_train,X_test,y_train,y_test = get_X_and_y.get_train_test(path_to_dataset,test_size=0.2)\n",
    "X_train_std, X_test_std, y_train_std,y_test_std = get_X_and_y.get_train_test_std(path_to_dataset,test_size=0.2)\n",
    "X_train = pd.get_dummies(X_train)\n",
    "X_test = pd.get_dummies(X_test)\n",
    "X_train_std = pd.get_dummies(X_train_std)\n",
    "X_test_std = pd.get_dummies(X_test_std)\n",
    "missing_columns = set(X_train.columns)-set(X_test.columns)\n",
    "for column in missing_columns:\n",
    "    X_test[column] = 0\n",
    "    X_test_std[column] = 0\n",
    "X_test = X_test[X_train.columns] \n",
    "X_test_std = X_test_std[X_train_std.columns]"
   ]
  },
  {
   "cell_type": "code",
   "execution_count": 3,
   "metadata": {},
   "outputs": [
    {
     "data": {
      "text/plain": [
       "'CV MAE score for Linear Regression: -7693.647'"
      ]
     },
     "execution_count": 3,
     "metadata": {},
     "output_type": "execute_result"
    }
   ],
   "source": [
    "lr = LinearRegressionModel(\"Linear Regression\")\n",
    "lr.cv_score(X_train_std,y_train_std)"
   ]
  },
  {
   "cell_type": "code",
   "execution_count": 4,
   "metadata": {},
   "outputs": [
    {
     "data": {
      "text/plain": [
       "'CV MAE score for Random Forest: -2858.223'"
      ]
     },
     "execution_count": 4,
     "metadata": {},
     "output_type": "execute_result"
    }
   ],
   "source": [
    "forest = RandomForestModel(\"Random Forest\")\n",
    "forest.cv_score(X_train,y_train)"
   ]
  },
  {
   "cell_type": "code",
   "execution_count": 5,
   "metadata": {},
   "outputs": [
    {
     "data": {
      "text/plain": [
       "'CV MAE score for Gaussian Kernel: -11235.196'"
      ]
     },
     "execution_count": 5,
     "metadata": {},
     "output_type": "execute_result"
    }
   ],
   "source": [
    "gaussianSVM = SVMModel(\"Gaussian Kernel\",kernel = 'rbf')\n",
    "gaussianSVM.cv_score(X_train_std,y_train_std)"
   ]
  },
  {
   "cell_type": "code",
   "execution_count": 6,
   "metadata": {},
   "outputs": [
    {
     "data": {
      "text/plain": [
       "'CV MAE score for Linear Kernel: -7426.738'"
      ]
     },
     "execution_count": 6,
     "metadata": {},
     "output_type": "execute_result"
    }
   ],
   "source": [
    "linearSVM = SVMModel(\"Linear Kernel\",kernel = 'linear')\n",
    "linearSVM.cv_score(X_train_std,y_train_std)"
   ]
  },
  {
   "cell_type": "code",
   "execution_count": 7,
   "metadata": {},
   "outputs": [
    {
     "data": {
      "text/plain": [
       "'CV MAE score for Bootstrap Aggregating: -2874.199'"
      ]
     },
     "execution_count": 7,
     "metadata": {},
     "output_type": "execute_result"
    }
   ],
   "source": [
    "bagging = BaggingModel('Bootstrap Aggregating')\n",
    "bagging.cv_score(X_train_std,y_train_std)"
   ]
  },
  {
   "cell_type": "code",
   "execution_count": 8,
   "metadata": {},
   "outputs": [
    {
     "name": "stderr",
     "output_type": "stream",
     "text": [
      "C:\\Users\\AsusInside\\Anaconda3\\lib\\site-packages\\sklearn\\linear_model\\coordinate_descent.py:491: ConvergenceWarning: Objective did not converge. You might want to increase the number of iterations. Fitting data with very small alpha may cause precision problems.\n",
      "  ConvergenceWarning)\n",
      "C:\\Users\\AsusInside\\Anaconda3\\lib\\site-packages\\sklearn\\linear_model\\coordinate_descent.py:491: ConvergenceWarning: Objective did not converge. You might want to increase the number of iterations. Fitting data with very small alpha may cause precision problems.\n",
      "  ConvergenceWarning)\n",
      "C:\\Users\\AsusInside\\Anaconda3\\lib\\site-packages\\sklearn\\linear_model\\coordinate_descent.py:491: ConvergenceWarning: Objective did not converge. You might want to increase the number of iterations. Fitting data with very small alpha may cause precision problems.\n",
      "  ConvergenceWarning)\n"
     ]
    },
    {
     "data": {
      "text/plain": [
       "'CV MAE score for LASSO regression: -7693.634'"
      ]
     },
     "execution_count": 8,
     "metadata": {},
     "output_type": "execute_result"
    }
   ],
   "source": [
    "lasso = LassoRegressionModel(\"LASSO regression\")\n",
    "lasso.cv_score(X_train_std,y_train_std)"
   ]
  }
 ],
 "metadata": {
  "kernelspec": {
   "display_name": "Python 3",
   "language": "python",
   "name": "python3"
  },
  "language_info": {
   "codemirror_mode": {
    "name": "ipython",
    "version": 3
   },
   "file_extension": ".py",
   "mimetype": "text/x-python",
   "name": "python",
   "nbconvert_exporter": "python",
   "pygments_lexer": "ipython3",
   "version": "3.6.4"
  }
 },
 "nbformat": 4,
 "nbformat_minor": 2
}
