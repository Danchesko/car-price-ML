{
 "cells": [
  {
   "cell_type": "markdown",
   "metadata": {},
   "source": [
    "<center><h1> Cleaning Data</h1></center>\n",
    "***\n",
    "\n",
    "Missing data can be of different types:\n",
    "\n",
    "* **Missing Completely at Random (MCAR)** - the propensity for a data point to be missing is completely random.\n",
    "* **Missing at Random (MAR)** - means  the propensity for a data point to be missing is not related to the missing data, but it is related to some of the observed data.\n",
    "* **Missing Not at Random (MNAR)** - when the missing values on a variable are related to the values of that variable itself, even after controlling for other variable\n",
    "\n",
    "In our dataset we don't have any Missing Completely at Random variables, the color of the car could be MCAR value, but after our Exploratory Analysis we saw that some of the colors are important features of the car. MCAR variables would be the easiest ones to impute in our dataset, MCAR variables are not connected with any other variable in dataset, so I just could impute mean, median or mode values.\n",
    "\n",
    "Most of the variables are Missing at Random, we can impute them via Linear Regression impute, KNN impute, multiple imputation or Maximum likelihood imputation, this values can be predicted by other values. And as we see, we have some feature that is Missing Not at random, it is the worst case scenario, but luckily we can impute this variable too. So, this variable is \"Пробег\".\n",
    "I will show in data itself and plot it to ensure that, this feature, indeed, is MNAR. At first, I will import everything I need. First we read the file, than drop raws with missing target values, because we will not need them. "
   ]
  },
  {
   "cell_type": "code",
   "execution_count": 1,
   "metadata": {},
   "outputs": [],
   "source": [
    "import pandas as pd\n",
    "import matplotlib.pyplot as plt\n",
    "import numpy as np\n",
    "import sys\n",
    "sys.path.append('../src')\n",
    "from car_price_prediction.utils import dataset_manager, df_utils"
   ]
  },
  {
   "cell_type": "code",
   "execution_count": 2,
   "metadata": {},
   "outputs": [],
   "source": [
    "data = dataset_manager.get_cleaned_outliers_dataset()"
   ]
  },
  {
   "cell_type": "markdown",
   "metadata": {},
   "source": [
    "And what I do right away is, I create a new dataset, where all the samples have NaN in \"Пробег\" column. And from old and new dataset, I take the year column, in order to get number of cars with a certain year where \"Пробег\" is NaN and total number of cars. And next, I create a dataset, where first columns is quantity total number of cars each year and second column is quantity of Nan values in \"Пробег\" column in each year, and third column is percentage, of how many cars from total amount have blank information in \"Пробег\" column."
   ]
  },
  {
   "cell_type": "code",
   "execution_count": 3,
   "metadata": {},
   "outputs": [],
   "source": [
    "nulldataset= data[~data[\"Пробег\"].notnull()][\"Год выпуска\"]\n",
    "totaldataset = data[\"Год выпуска\"]"
   ]
  },
  {
   "cell_type": "code",
   "execution_count": 4,
   "metadata": {},
   "outputs": [
    {
     "data": {
      "text/html": [
       "<div>\n",
       "<style scoped>\n",
       "    .dataframe tbody tr th:only-of-type {\n",
       "        vertical-align: middle;\n",
       "    }\n",
       "\n",
       "    .dataframe tbody tr th {\n",
       "        vertical-align: top;\n",
       "    }\n",
       "\n",
       "    .dataframe thead th {\n",
       "        text-align: right;\n",
       "    }\n",
       "</style>\n",
       "<table border=\"1\" class=\"dataframe\">\n",
       "  <thead>\n",
       "    <tr style=\"text-align: right;\">\n",
       "      <th></th>\n",
       "      <th>All cars</th>\n",
       "      <th>Cars with NaN</th>\n",
       "      <th>percentage</th>\n",
       "    </tr>\n",
       "  </thead>\n",
       "  <tbody>\n",
       "    <tr>\n",
       "      <th>1961.0</th>\n",
       "      <td>1</td>\n",
       "      <td>1</td>\n",
       "      <td>100.000000</td>\n",
       "    </tr>\n",
       "    <tr>\n",
       "      <th>1964.0</th>\n",
       "      <td>1</td>\n",
       "      <td>1</td>\n",
       "      <td>100.000000</td>\n",
       "    </tr>\n",
       "    <tr>\n",
       "      <th>1966.0</th>\n",
       "      <td>1</td>\n",
       "      <td>1</td>\n",
       "      <td>100.000000</td>\n",
       "    </tr>\n",
       "    <tr>\n",
       "      <th>1968.0</th>\n",
       "      <td>1</td>\n",
       "      <td>1</td>\n",
       "      <td>100.000000</td>\n",
       "    </tr>\n",
       "    <tr>\n",
       "      <th>1970.0</th>\n",
       "      <td>2</td>\n",
       "      <td>2</td>\n",
       "      <td>100.000000</td>\n",
       "    </tr>\n",
       "    <tr>\n",
       "      <th>1971.0</th>\n",
       "      <td>1</td>\n",
       "      <td>1</td>\n",
       "      <td>100.000000</td>\n",
       "    </tr>\n",
       "    <tr>\n",
       "      <th>1976.0</th>\n",
       "      <td>1</td>\n",
       "      <td>1</td>\n",
       "      <td>100.000000</td>\n",
       "    </tr>\n",
       "    <tr>\n",
       "      <th>1980.0</th>\n",
       "      <td>4</td>\n",
       "      <td>4</td>\n",
       "      <td>100.000000</td>\n",
       "    </tr>\n",
       "    <tr>\n",
       "      <th>1981.0</th>\n",
       "      <td>1</td>\n",
       "      <td>1</td>\n",
       "      <td>100.000000</td>\n",
       "    </tr>\n",
       "    <tr>\n",
       "      <th>1982.0</th>\n",
       "      <td>3</td>\n",
       "      <td>2</td>\n",
       "      <td>66.666667</td>\n",
       "    </tr>\n",
       "    <tr>\n",
       "      <th>1983.0</th>\n",
       "      <td>7</td>\n",
       "      <td>6</td>\n",
       "      <td>85.714286</td>\n",
       "    </tr>\n",
       "    <tr>\n",
       "      <th>1984.0</th>\n",
       "      <td>3</td>\n",
       "      <td>3</td>\n",
       "      <td>100.000000</td>\n",
       "    </tr>\n",
       "    <tr>\n",
       "      <th>1985.0</th>\n",
       "      <td>19</td>\n",
       "      <td>17</td>\n",
       "      <td>89.473684</td>\n",
       "    </tr>\n",
       "    <tr>\n",
       "      <th>1986.0</th>\n",
       "      <td>22</td>\n",
       "      <td>16</td>\n",
       "      <td>72.727273</td>\n",
       "    </tr>\n",
       "    <tr>\n",
       "      <th>1987.0</th>\n",
       "      <td>36</td>\n",
       "      <td>27</td>\n",
       "      <td>75.000000</td>\n",
       "    </tr>\n",
       "    <tr>\n",
       "      <th>1988.0</th>\n",
       "      <td>57</td>\n",
       "      <td>46</td>\n",
       "      <td>80.701754</td>\n",
       "    </tr>\n",
       "    <tr>\n",
       "      <th>1989.0</th>\n",
       "      <td>71</td>\n",
       "      <td>51</td>\n",
       "      <td>71.830986</td>\n",
       "    </tr>\n",
       "    <tr>\n",
       "      <th>1990.0</th>\n",
       "      <td>69</td>\n",
       "      <td>52</td>\n",
       "      <td>75.362319</td>\n",
       "    </tr>\n",
       "    <tr>\n",
       "      <th>1991.0</th>\n",
       "      <td>96</td>\n",
       "      <td>68</td>\n",
       "      <td>70.833333</td>\n",
       "    </tr>\n",
       "    <tr>\n",
       "      <th>1992.0</th>\n",
       "      <td>137</td>\n",
       "      <td>97</td>\n",
       "      <td>70.802920</td>\n",
       "    </tr>\n",
       "    <tr>\n",
       "      <th>1993.0</th>\n",
       "      <td>140</td>\n",
       "      <td>103</td>\n",
       "      <td>73.571429</td>\n",
       "    </tr>\n",
       "    <tr>\n",
       "      <th>1994.0</th>\n",
       "      <td>160</td>\n",
       "      <td>110</td>\n",
       "      <td>68.750000</td>\n",
       "    </tr>\n",
       "    <tr>\n",
       "      <th>1995.0</th>\n",
       "      <td>204</td>\n",
       "      <td>136</td>\n",
       "      <td>66.666667</td>\n",
       "    </tr>\n",
       "    <tr>\n",
       "      <th>1996.0</th>\n",
       "      <td>159</td>\n",
       "      <td>109</td>\n",
       "      <td>68.553459</td>\n",
       "    </tr>\n",
       "    <tr>\n",
       "      <th>1997.0</th>\n",
       "      <td>160</td>\n",
       "      <td>112</td>\n",
       "      <td>70.000000</td>\n",
       "    </tr>\n",
       "    <tr>\n",
       "      <th>1998.0</th>\n",
       "      <td>232</td>\n",
       "      <td>160</td>\n",
       "      <td>68.965517</td>\n",
       "    </tr>\n",
       "    <tr>\n",
       "      <th>1999.0</th>\n",
       "      <td>273</td>\n",
       "      <td>168</td>\n",
       "      <td>61.538462</td>\n",
       "    </tr>\n",
       "    <tr>\n",
       "      <th>2000.0</th>\n",
       "      <td>529</td>\n",
       "      <td>306</td>\n",
       "      <td>57.844991</td>\n",
       "    </tr>\n",
       "    <tr>\n",
       "      <th>2001.0</th>\n",
       "      <td>737</td>\n",
       "      <td>472</td>\n",
       "      <td>64.043419</td>\n",
       "    </tr>\n",
       "    <tr>\n",
       "      <th>2002.0</th>\n",
       "      <td>1071</td>\n",
       "      <td>614</td>\n",
       "      <td>57.329599</td>\n",
       "    </tr>\n",
       "    <tr>\n",
       "      <th>2003.0</th>\n",
       "      <td>1412</td>\n",
       "      <td>761</td>\n",
       "      <td>53.895184</td>\n",
       "    </tr>\n",
       "    <tr>\n",
       "      <th>2004.0</th>\n",
       "      <td>945</td>\n",
       "      <td>510</td>\n",
       "      <td>53.968254</td>\n",
       "    </tr>\n",
       "    <tr>\n",
       "      <th>2005.0</th>\n",
       "      <td>664</td>\n",
       "      <td>325</td>\n",
       "      <td>48.945783</td>\n",
       "    </tr>\n",
       "    <tr>\n",
       "      <th>2006.0</th>\n",
       "      <td>428</td>\n",
       "      <td>205</td>\n",
       "      <td>47.897196</td>\n",
       "    </tr>\n",
       "    <tr>\n",
       "      <th>2007.0</th>\n",
       "      <td>407</td>\n",
       "      <td>187</td>\n",
       "      <td>45.945946</td>\n",
       "    </tr>\n",
       "    <tr>\n",
       "      <th>2008.0</th>\n",
       "      <td>577</td>\n",
       "      <td>139</td>\n",
       "      <td>24.090121</td>\n",
       "    </tr>\n",
       "    <tr>\n",
       "      <th>2009.0</th>\n",
       "      <td>249</td>\n",
       "      <td>55</td>\n",
       "      <td>22.088353</td>\n",
       "    </tr>\n",
       "    <tr>\n",
       "      <th>2010.0</th>\n",
       "      <td>446</td>\n",
       "      <td>55</td>\n",
       "      <td>12.331839</td>\n",
       "    </tr>\n",
       "    <tr>\n",
       "      <th>2011.0</th>\n",
       "      <td>598</td>\n",
       "      <td>38</td>\n",
       "      <td>6.354515</td>\n",
       "    </tr>\n",
       "    <tr>\n",
       "      <th>2012.0</th>\n",
       "      <td>758</td>\n",
       "      <td>26</td>\n",
       "      <td>3.430079</td>\n",
       "    </tr>\n",
       "    <tr>\n",
       "      <th>2013.0</th>\n",
       "      <td>644</td>\n",
       "      <td>22</td>\n",
       "      <td>3.416149</td>\n",
       "    </tr>\n",
       "    <tr>\n",
       "      <th>2014.0</th>\n",
       "      <td>520</td>\n",
       "      <td>20</td>\n",
       "      <td>3.846154</td>\n",
       "    </tr>\n",
       "    <tr>\n",
       "      <th>2015.0</th>\n",
       "      <td>476</td>\n",
       "      <td>5</td>\n",
       "      <td>1.050420</td>\n",
       "    </tr>\n",
       "    <tr>\n",
       "      <th>2016.0</th>\n",
       "      <td>435</td>\n",
       "      <td>11</td>\n",
       "      <td>2.528736</td>\n",
       "    </tr>\n",
       "    <tr>\n",
       "      <th>2017.0</th>\n",
       "      <td>408</td>\n",
       "      <td>5</td>\n",
       "      <td>1.225490</td>\n",
       "    </tr>\n",
       "    <tr>\n",
       "      <th>2018.0</th>\n",
       "      <td>222</td>\n",
       "      <td>9</td>\n",
       "      <td>4.054054</td>\n",
       "    </tr>\n",
       "  </tbody>\n",
       "</table>\n",
       "</div>"
      ],
      "text/plain": [
       "        All cars  Cars with NaN  percentage\n",
       "1961.0         1              1  100.000000\n",
       "1964.0         1              1  100.000000\n",
       "1966.0         1              1  100.000000\n",
       "1968.0         1              1  100.000000\n",
       "1970.0         2              2  100.000000\n",
       "1971.0         1              1  100.000000\n",
       "1976.0         1              1  100.000000\n",
       "1980.0         4              4  100.000000\n",
       "1981.0         1              1  100.000000\n",
       "1982.0         3              2   66.666667\n",
       "1983.0         7              6   85.714286\n",
       "1984.0         3              3  100.000000\n",
       "1985.0        19             17   89.473684\n",
       "1986.0        22             16   72.727273\n",
       "1987.0        36             27   75.000000\n",
       "1988.0        57             46   80.701754\n",
       "1989.0        71             51   71.830986\n",
       "1990.0        69             52   75.362319\n",
       "1991.0        96             68   70.833333\n",
       "1992.0       137             97   70.802920\n",
       "1993.0       140            103   73.571429\n",
       "1994.0       160            110   68.750000\n",
       "1995.0       204            136   66.666667\n",
       "1996.0       159            109   68.553459\n",
       "1997.0       160            112   70.000000\n",
       "1998.0       232            160   68.965517\n",
       "1999.0       273            168   61.538462\n",
       "2000.0       529            306   57.844991\n",
       "2001.0       737            472   64.043419\n",
       "2002.0      1071            614   57.329599\n",
       "2003.0      1412            761   53.895184\n",
       "2004.0       945            510   53.968254\n",
       "2005.0       664            325   48.945783\n",
       "2006.0       428            205   47.897196\n",
       "2007.0       407            187   45.945946\n",
       "2008.0       577            139   24.090121\n",
       "2009.0       249             55   22.088353\n",
       "2010.0       446             55   12.331839\n",
       "2011.0       598             38    6.354515\n",
       "2012.0       758             26    3.430079\n",
       "2013.0       644             22    3.416149\n",
       "2014.0       520             20    3.846154\n",
       "2015.0       476              5    1.050420\n",
       "2016.0       435             11    2.528736\n",
       "2017.0       408              5    1.225490\n",
       "2018.0       222              9    4.054054"
      ]
     },
     "execution_count": 4,
     "metadata": {},
     "output_type": "execute_result"
    }
   ],
   "source": [
    "nullval = nulldataset.value_counts()\n",
    "totalval = totaldataset.value_counts()\n",
    "\n",
    "percentage = 100.0/totalval*nullval\n",
    "\n",
    "df =  pd.DataFrame({\"All cars\":totalval,\"Cars with NaN\":nullval,\"percentage\":percentage})\n",
    "df"
   ]
  },
  {
   "cell_type": "markdown",
   "metadata": {},
   "source": [
    "You can see yourself that people tend to not specify the mileage of the car, when the car is older. I can plot it. X is the percentage of cars with unindicated mileage as opposed to year of the car."
   ]
  },
  {
   "cell_type": "code",
   "execution_count": 5,
   "metadata": {},
   "outputs": [
    {
     "data": {
      "text/plain": [
       "Text(0,0.5,'Percentage')"
      ]
     },
     "execution_count": 5,
     "metadata": {},
     "output_type": "execute_result"
    },
    {
     "data": {
      "image/png": "[encoded data removed]",
      "text/plain": [
       "<matplotlib.figure.Figure at 0xb1d8650>"
      ]
     },
     "metadata": {},
     "output_type": "display_data"
    }
   ],
   "source": [
    "plt.scatter(df.index,percentage,marker=\"o\",linewidths=2)\n",
    "plt.xlabel(\"Year\")\n",
    "plt.ylabel(\"Percentage\")"
   ]
  },
  {
   "cell_type": "markdown",
   "metadata": {},
   "source": [
    "So here is the problem, I can not impute any of the missing values in the dataset by median, mean or mode, because it will definetely create bias in the model. So, I need to use more sophisticated ways of imputing, but unfortunately in scikit there is no convinient library for doing so, there is a library called \"fancyimputer\", but since pipinstall shows a lot of dependencies when downloading the library, I couldn't import it, because it was dependent from tensorflow library, which I couldn't download, cause it was incompetable with my system.  \n",
    "So, the solution will be to manually impute the values. Which I will do in notebook-helper function folder **imputting.py**. \n",
    "In this module, I did next manipulations:\n",
    "\n",
    "* Dropped rows with missing target values, because anyway they wouldn't really help us\n",
    "* Dropped row \"Тип кузова\" because there was not a lot of missing rows with Nan in this row, so it didn't create any bias or it didn't reduce variance of model\n",
    "* Drop year row because of the same reason, but also year is one of the most needed features, so I didn't risk to create bias, imputing this feature\n",
    "* Imputed color feature, by making all of the unspecified samples - another class. It helps to reduce bias\n",
    "* I did the same with fuel feature, because I was not sure if the unspecified fuel type was just unspecified, or because there were some different type of cars(electro for example), which users of webpage couldn't specify.\n",
    "* I imputed wheel type by KNN imputation, I chose most important features for predicting the type of wheel, those features were[\"Цена\",\"Тип кузова\"], and I predicted the side of wheel in the car\n",
    "* I as well imputed - [\"Привод\"],[\"КПП\"],[\"Объём\"],[\"Мощность\"],['Пробег'] features by predicting their values by KNN machine learning algorithm, using most linearly correlated features of theirs.\n",
    "\n",
    "So now, you can see number of missing data from not imputed data, and you can see number of missing data from imputed data"
   ]
  },
  {
   "cell_type": "code",
   "execution_count": 6,
   "metadata": {},
   "outputs": [
    {
     "data": {
      "text/plain": [
       "Год выпуска     185\n",
       "КПП             287\n",
       "Марка             0\n",
       "Мощность       2961\n",
       "Объём           772\n",
       "Привод         1015\n",
       "Пробег         5187\n",
       "Руль            693\n",
       "Тип кузова       48\n",
       "Топливо         277\n",
       "Цвет           1047\n",
       "Цена              0\n",
       "dtype: int64"
      ]
     },
     "execution_count": 6,
     "metadata": {},
     "output_type": "execute_result"
    }
   ],
   "source": [
    "data.isnull().sum()"
   ]
  },
  {
   "cell_type": "code",
   "execution_count": 7,
   "metadata": {},
   "outputs": [],
   "source": [
    "from notebook_helper_functions import data_impute\n",
    "import warnings\n",
    "#ignoring warnings, erroneously raised by imported library\n",
    "with warnings.catch_warnings():\n",
    "    warnings.simplefilter(\"ignore\")\n",
    "    imputed_data = data_impute.get_imputed_dataset(data)"
   ]
  },
  {
   "cell_type": "code",
   "execution_count": 8,
   "metadata": {},
   "outputs": [
    {
     "data": {
      "text/plain": [
       "Год выпуска    0\n",
       "КПП            0\n",
       "Марка          0\n",
       "Мощность       0\n",
       "Объём          0\n",
       "Привод         0\n",
       "Пробег         0\n",
       "Руль           0\n",
       "Тип кузова     0\n",
       "Топливо        0\n",
       "Цвет           0\n",
       "Цена           0\n",
       "dtype: int64"
      ]
     },
     "execution_count": 8,
     "metadata": {},
     "output_type": "execute_result"
    }
   ],
   "source": [
    "imputed_data.isnull().sum()"
   ]
  },
  {
   "cell_type": "markdown",
   "metadata": {},
   "source": [
    "Now you can see, that no missing data left, that makes for us possible using machine learning algorithms. Next thing I will do, I will create a dataset, dropping every row with missing data, from old raw data. Thus, I will see, were my hypothesis right, about biasing my dataset, and we will see which model will be more accurate."
   ]
  },
  {
   "cell_type": "markdown",
   "metadata": {},
   "source": [
    "Now you will see differences between imputed and dropped data."
   ]
  },
  {
   "cell_type": "code",
   "execution_count": 9,
   "metadata": {},
   "outputs": [
    {
     "data": {
      "text/plain": [
       "Год выпуска    0\n",
       "КПП            0\n",
       "Марка          0\n",
       "Мощность       0\n",
       "Объём          0\n",
       "Привод         0\n",
       "Пробег         0\n",
       "Руль           0\n",
       "Тип кузова     0\n",
       "Топливо        0\n",
       "Цвет           0\n",
       "Цена           0\n",
       "dtype: int64"
      ]
     },
     "execution_count": 9,
     "metadata": {},
     "output_type": "execute_result"
    }
   ],
   "source": [
    "dropped_data = data.copy()\n",
    "dropped_data = data.dropna()\n",
    "dropped_data.isnull().sum()"
   ]
  },
  {
   "cell_type": "markdown",
   "metadata": {},
   "source": [
    "You can see that both of the datasets have no missing values. But the shape as you can see below, is radically different. Dropped dataset two times smaller than imputed dataset. But sometimes it doesn't help, so I hope imputed data will make better in predictions, because imputted I nearly for 6 hours, and dropped values in 30 seconds."
   ]
  },
  {
   "cell_type": "code",
   "execution_count": 10,
   "metadata": {},
   "outputs": [
    {
     "data": {
      "text/plain": [
       "(13572, 12)"
      ]
     },
     "execution_count": 10,
     "metadata": {},
     "output_type": "execute_result"
    }
   ],
   "source": [
    "imputed_data.shape"
   ]
  },
  {
   "cell_type": "code",
   "execution_count": 11,
   "metadata": {},
   "outputs": [
    {
     "data": {
      "text/plain": [
       "(6958, 12)"
      ]
     },
     "execution_count": 11,
     "metadata": {},
     "output_type": "execute_result"
    }
   ],
   "source": [
    "dropped_data.shape"
   ]
  },
  {
   "cell_type": "markdown",
   "metadata": {},
   "source": [
    "Also, I tried to create maximum unbiased dataset, in that dataset I imputed just Missing Not At Random feature. And others I imputed a little differently:\n",
    "* Some columns with missing categorical feauteres, I made as a one different class\n",
    "* Other columns, when there was no meaning in making a different class for missing values, I just dropped\n",
    "* I imputed just Not Missing at Random feature\n",
    "* And other missing continious features, I dropped"
   ]
  },
  {
   "cell_type": "code",
   "execution_count": 12,
   "metadata": {},
   "outputs": [
    {
     "data": {
      "text/plain": [
       "(11165, 11)"
      ]
     },
     "execution_count": 12,
     "metadata": {},
     "output_type": "execute_result"
    }
   ],
   "source": [
    "data_max_unbiased = dataset_manager.get_processed_dataset()\n",
    "data_max_unbiased.shape"
   ]
  },
  {
   "cell_type": "markdown",
   "metadata": {},
   "source": [
    "In next notebook, I will try to choose the dataset, that will have the smallest bias in it"
   ]
  }
 ],
 "metadata": {
  "kernelspec": {
   "display_name": "Python 3",
   "language": "python",
   "name": "python3"
  },
  "language_info": {
   "codemirror_mode": {
    "name": "ipython",
    "version": 3
   },
   "file_extension": ".py",
   "mimetype": "text/x-python",
   "name": "python",
   "nbconvert_exporter": "python",
   "pygments_lexer": "ipython3",
   "version": "3.6.4"
  }
 },
 "nbformat": 4,
 "nbformat_minor": 2
}
