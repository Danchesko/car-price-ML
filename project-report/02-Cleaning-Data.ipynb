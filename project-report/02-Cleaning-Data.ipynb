{
 "cells": [
  {
   "cell_type": "markdown",
   "metadata": {},
   "source": [
    "<center><h1> Cleaning Data</h1></center>\n",
    "***\n",
    "\n",
    "Missing data can be of different types:\n",
    "\n",
    "* **Missing Completely at Random (MCAR)** - the propensity for a data point to be missing is completely random.\n",
    "* **Missing at Random (MAR)** - means  the propensity for a data point to be missing is not related to the missing data, but it is related to some of the observed data.\n",
    "* **Missing Not at Random (MNAR)** - when the missing values on a variable are related to the values of that variable itself, even after controlling for other variable.\n",
    "\n",
    "In our dataset we might have Missing Completely at Random variables and Missing at Random variables, but luckily no Missing Not at Random values. I suppose columns representing color, fuel and model are Missing Completely at Random. So since these variables are categorical, I don't want to drop them, because this will decrease my dataset, so I will fill the NaN values of this columns by value meaning 'other'. I think that some of these missing values might have meant, that there were no approproate choice, so there were not selected.   \n",
    "I will drop values of year, capacity - because these columns are important, and I don't want to introduce bias in my dataset. And also I will drop the NaN values of transmission, carcass, wheel and drive, because these columns don't really have a lot of missing values.  \n",
    "With regard to column that represent mileage, I will show that this column is Missing at Random column, and it can be succefully imputed via imputation techniques."
   ]
  },
  {
   "cell_type": "code",
   "execution_count": 1,
   "metadata": {},
   "outputs": [],
   "source": [
    "import pandas as pd\n",
    "import matplotlib.pyplot as plt\n",
    "import numpy as np\n",
    "import set_jupyter_path\n",
    "from src.car_price_prediction.utils import dataset_manager, df_utils"
   ]
  },
  {
   "cell_type": "code",
   "execution_count": 2,
   "metadata": {},
   "outputs": [],
   "source": [
    "data = dataset_manager.get_cleaned_outliers_dataset()"
   ]
  },
  {
   "cell_type": "markdown",
   "metadata": {},
   "source": [
    "And what I do right away is, I create a new dataset, where I show how many percent of the cars don't have a filled mileage column and I do that grouping cars by their year."
   ]
  },
  {
   "cell_type": "code",
   "execution_count": 3,
   "metadata": {},
   "outputs": [],
   "source": [
    "nulldataset= data[~data.Mileage.notnull()][\"Year\"]\n",
    "totaldataset = data.Year\n",
    "nullval = nulldataset.value_counts()\n",
    "totalval = totaldataset.value_counts()\n",
    "percentage = 100.0/totalval*nullval\n",
    "\n",
    "nan_mileage =  pd.DataFrame({\"All cars\":totalval,\"Cars with NaN\":nullval,\"percentage\":percentage})\n"
   ]
  },
  {
   "cell_type": "markdown",
   "metadata": {},
   "source": [
    "You can see yourself that people tend to not specify the mileage of the car, when the car is older in the plot. There are several outliers, but we can clearly see the trend here."
   ]
  },
  {
   "cell_type": "code",
   "execution_count": 4,
   "metadata": {},
   "outputs": [
    {
     "data": {
      "image/png": "[encoded data removed]",
      "text/plain": [
       "<Figure size 432x288 with 1 Axes>"
      ]
     },
     "metadata": {},
     "output_type": "display_data"
    }
   ],
   "source": [
    "plt.scatter(nan_mileage.index,percentage,marker=\"o\",linewidths=2)\n",
    "plt.xlabel(\"Year\")\n",
    "plt.ylabel(\"Percentage\")\n",
    "plt.show()"
   ]
  },
  {
   "cell_type": "markdown",
   "metadata": {},
   "source": [
    "So here is the problem, I can not impute any of the missing values in the dataset by median, mean or mode, because it will definetely create bias in the model. So, I need to use more sophisticated ways of imputing, but unfortunately in scikit-learn there is no convinient library for doing so, there is a library called \"fancyimpute\", but since this library is immature, it is very hard to implement and even install.\n",
    "So, the solution will be to manually impute the values. "
   ]
  },
  {
   "cell_type": "markdown",
   "metadata": {},
   "source": [
    "I created two datasets, with which I will work in next notebook dropped_data (where I dropped all the values) and maximum unbiased dataset, I tried to create this dataset using my field knowledge. And here is what I did, when trying to create this maximum unbiased dataset:\n",
    "* I filled categorical columns that have NaN with the value meaning 'other'\n",
    "* Other columns, when there was no meaning in making a different class for missing values, I just dropped.\n",
    "* I imputed just mileage column.\n",
    "* And other missing continious features, I dropped."
   ]
  },
  {
   "cell_type": "markdown",
   "metadata": {},
   "source": [
    "So, in the next notebook, I will approximate the error of each dataset and choose which data is most appropriate to work with."
   ]
  }
 ],
 "metadata": {
  "kernelspec": {
   "display_name": "Python 3",
   "language": "python",
   "name": "python3"
  },
  "language_info": {
   "codemirror_mode": {
    "name": "ipython",
    "version": 3
   },
   "file_extension": ".py",
   "mimetype": "text/x-python",
   "name": "python",
   "nbconvert_exporter": "python",
   "pygments_lexer": "ipython3",
   "version": "3.6.5"
  }
 },
 "nbformat": 4,
 "nbformat_minor": 2
}
