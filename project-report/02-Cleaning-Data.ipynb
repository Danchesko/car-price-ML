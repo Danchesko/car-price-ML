{
 "cells": [
  {
   "cell_type": "markdown",
   "metadata": {},
   "source": [
    "<center><h1> Cleaning Data</h1></center><br>\n",
    "Missing data can be of different types: <br>\n",
    "<ul>\n",
    "    <li><b>Missing Completely at Random (MCAR)</b> - the propensity for a data point to be missing is completely random.<br></li>\n",
    "<li><b>Missing at Random (MAR)</b> - means  the propensity for a data point to be missing is not related to the missing data, but it is related to some of the observed data.<br></li>\n",
    "<li><b>Missing Not at Random (MNAR)</b> - when the missing values on a variable are related to the values of that variable itself, even after controlling for other variable</li></ul><br>\n",
    "In our dataset we don't have any Missing Completely at Random variables, the color of the car could be MCAR value, but after our Exploratory Analysis we saw that some of the colors are important features of the car. MCAR variables would be the easiest ones to impute in our dataset, MCAR variables are not connected with any other variable in dataset, so I just could impute mean, median or mode values.\n",
    "<br>Most of the variables are Missing at Random, we can impute them via Linear Regression impute, KNN impute, multiple imputation or Maximum likelihood imputation, this values can be predicted by other values. And as we see, we have some feature that is Missing Not at random, it is the worst case scenario, but luckily we can impute this variable too. So, this variable is \"Пробег\".\n",
    "I will show in data itself and plot it to ensure that, this feature, indeed, is MNAR. At first, I will import everything I need. First we read the file, than drop raws with missing target values, because we will not need them. "
   ]
  },
  {
   "cell_type": "code",
   "execution_count": 1,
   "metadata": {},
   "outputs": [],
   "source": [
    "import pandas as pd\n",
    "import matplotlib.pyplot as plt\n",
    "import numpy as np\n",
    "import sys\n",
    "sys.path.append('../')\n",
    "from src.data_extraction import get_X_and_y, load_or_save_dataset"
   ]
  },
  {
   "cell_type": "code",
   "execution_count": 2,
   "metadata": {},
   "outputs": [],
   "source": [
    "data = load_or_save_dataset.get_cleaned_outliers_dataset()"
   ]
  },
  {
   "cell_type": "markdown",
   "metadata": {},
   "source": [
    "And what I do right away is, I create a new dataset, where all the samples have NaN in \"Пробег\" column. And from old and new dataset, I take the year column, in order to get number of cars with a certain year where \"Пробег\" is NaN and total number of cars. And next, I create a dataset, where first columns is quantity total number of cars each year and second column is quantity of Nan values in \"Пробег\" column in each year, and third column is percentage, of how many cars from total amount have blank information in \"Пробег\" column."
   ]
  },
  {
   "cell_type": "code",
   "execution_count": 3,
   "metadata": {},
   "outputs": [],
   "source": [
    "nulldataset= data[~data[\"Пробег\"].notnull()][\"Год выпуска\"]\n",
    "totaldataset = data[\"Год выпуска\"]"
   ]
  },
  {
   "cell_type": "code",
   "execution_count": 4,
   "metadata": {},
   "outputs": [
    {
     "data": {
      "text/html": [
       "<div>\n",
       "<style scoped>\n",
       "    .dataframe tbody tr th:only-of-type {\n",
       "        vertical-align: middle;\n",
       "    }\n",
       "\n",
       "    .dataframe tbody tr th {\n",
       "        vertical-align: top;\n",
       "    }\n",
       "\n",
       "    .dataframe thead th {\n",
       "        text-align: right;\n",
       "    }\n",
       "</style>\n",
       "<table border=\"1\" class=\"dataframe\">\n",
       "  <thead>\n",
       "    <tr style=\"text-align: right;\">\n",
       "      <th></th>\n",
       "      <th>All cars</th>\n",
       "      <th>Cars with NaN</th>\n",
       "      <th>percentage</th>\n",
       "    </tr>\n",
       "  </thead>\n",
       "  <tbody>\n",
       "    <tr>\n",
       "      <th>1961.0</th>\n",
       "      <td>1</td>\n",
       "      <td>1.0</td>\n",
       "      <td>100.000000</td>\n",
       "    </tr>\n",
       "    <tr>\n",
       "      <th>1964.0</th>\n",
       "      <td>1</td>\n",
       "      <td>1.0</td>\n",
       "      <td>100.000000</td>\n",
       "    </tr>\n",
       "    <tr>\n",
       "      <th>1968.0</th>\n",
       "      <td>1</td>\n",
       "      <td>1.0</td>\n",
       "      <td>100.000000</td>\n",
       "    </tr>\n",
       "    <tr>\n",
       "      <th>1970.0</th>\n",
       "      <td>2</td>\n",
       "      <td>2.0</td>\n",
       "      <td>100.000000</td>\n",
       "    </tr>\n",
       "    <tr>\n",
       "      <th>1971.0</th>\n",
       "      <td>1</td>\n",
       "      <td>1.0</td>\n",
       "      <td>100.000000</td>\n",
       "    </tr>\n",
       "    <tr>\n",
       "      <th>1972.0</th>\n",
       "      <td>1</td>\n",
       "      <td>NaN</td>\n",
       "      <td>NaN</td>\n",
       "    </tr>\n",
       "    <tr>\n",
       "      <th>1976.0</th>\n",
       "      <td>1</td>\n",
       "      <td>1.0</td>\n",
       "      <td>100.000000</td>\n",
       "    </tr>\n",
       "    <tr>\n",
       "      <th>1982.0</th>\n",
       "      <td>2</td>\n",
       "      <td>2.0</td>\n",
       "      <td>100.000000</td>\n",
       "    </tr>\n",
       "    <tr>\n",
       "      <th>1984.0</th>\n",
       "      <td>1</td>\n",
       "      <td>1.0</td>\n",
       "      <td>100.000000</td>\n",
       "    </tr>\n",
       "    <tr>\n",
       "      <th>1985.0</th>\n",
       "      <td>8</td>\n",
       "      <td>7.0</td>\n",
       "      <td>87.500000</td>\n",
       "    </tr>\n",
       "    <tr>\n",
       "      <th>1986.0</th>\n",
       "      <td>8</td>\n",
       "      <td>6.0</td>\n",
       "      <td>75.000000</td>\n",
       "    </tr>\n",
       "    <tr>\n",
       "      <th>1987.0</th>\n",
       "      <td>12</td>\n",
       "      <td>9.0</td>\n",
       "      <td>75.000000</td>\n",
       "    </tr>\n",
       "    <tr>\n",
       "      <th>1988.0</th>\n",
       "      <td>27</td>\n",
       "      <td>18.0</td>\n",
       "      <td>66.666667</td>\n",
       "    </tr>\n",
       "    <tr>\n",
       "      <th>1989.0</th>\n",
       "      <td>36</td>\n",
       "      <td>20.0</td>\n",
       "      <td>55.555556</td>\n",
       "    </tr>\n",
       "    <tr>\n",
       "      <th>1990.0</th>\n",
       "      <td>33</td>\n",
       "      <td>20.0</td>\n",
       "      <td>60.606061</td>\n",
       "    </tr>\n",
       "    <tr>\n",
       "      <th>1991.0</th>\n",
       "      <td>47</td>\n",
       "      <td>27.0</td>\n",
       "      <td>57.446809</td>\n",
       "    </tr>\n",
       "    <tr>\n",
       "      <th>1992.0</th>\n",
       "      <td>63</td>\n",
       "      <td>41.0</td>\n",
       "      <td>65.079365</td>\n",
       "    </tr>\n",
       "    <tr>\n",
       "      <th>1993.0</th>\n",
       "      <td>70</td>\n",
       "      <td>47.0</td>\n",
       "      <td>67.142857</td>\n",
       "    </tr>\n",
       "    <tr>\n",
       "      <th>1994.0</th>\n",
       "      <td>67</td>\n",
       "      <td>36.0</td>\n",
       "      <td>53.731343</td>\n",
       "    </tr>\n",
       "    <tr>\n",
       "      <th>1995.0</th>\n",
       "      <td>112</td>\n",
       "      <td>70.0</td>\n",
       "      <td>62.500000</td>\n",
       "    </tr>\n",
       "    <tr>\n",
       "      <th>1996.0</th>\n",
       "      <td>83</td>\n",
       "      <td>47.0</td>\n",
       "      <td>56.626506</td>\n",
       "    </tr>\n",
       "    <tr>\n",
       "      <th>1997.0</th>\n",
       "      <td>85</td>\n",
       "      <td>43.0</td>\n",
       "      <td>50.588235</td>\n",
       "    </tr>\n",
       "    <tr>\n",
       "      <th>1998.0</th>\n",
       "      <td>139</td>\n",
       "      <td>80.0</td>\n",
       "      <td>57.553957</td>\n",
       "    </tr>\n",
       "    <tr>\n",
       "      <th>1999.0</th>\n",
       "      <td>163</td>\n",
       "      <td>73.0</td>\n",
       "      <td>44.785276</td>\n",
       "    </tr>\n",
       "    <tr>\n",
       "      <th>2000.0</th>\n",
       "      <td>306</td>\n",
       "      <td>144.0</td>\n",
       "      <td>47.058824</td>\n",
       "    </tr>\n",
       "    <tr>\n",
       "      <th>2001.0</th>\n",
       "      <td>408</td>\n",
       "      <td>220.0</td>\n",
       "      <td>53.921569</td>\n",
       "    </tr>\n",
       "    <tr>\n",
       "      <th>2002.0</th>\n",
       "      <td>611</td>\n",
       "      <td>284.0</td>\n",
       "      <td>46.481178</td>\n",
       "    </tr>\n",
       "    <tr>\n",
       "      <th>2003.0</th>\n",
       "      <td>812</td>\n",
       "      <td>328.0</td>\n",
       "      <td>40.394089</td>\n",
       "    </tr>\n",
       "    <tr>\n",
       "      <th>2004.0</th>\n",
       "      <td>528</td>\n",
       "      <td>206.0</td>\n",
       "      <td>39.015152</td>\n",
       "    </tr>\n",
       "    <tr>\n",
       "      <th>2005.0</th>\n",
       "      <td>406</td>\n",
       "      <td>161.0</td>\n",
       "      <td>39.655172</td>\n",
       "    </tr>\n",
       "    <tr>\n",
       "      <th>2006.0</th>\n",
       "      <td>218</td>\n",
       "      <td>69.0</td>\n",
       "      <td>31.651376</td>\n",
       "    </tr>\n",
       "    <tr>\n",
       "      <th>2007.0</th>\n",
       "      <td>233</td>\n",
       "      <td>85.0</td>\n",
       "      <td>36.480687</td>\n",
       "    </tr>\n",
       "    <tr>\n",
       "      <th>2008.0</th>\n",
       "      <td>286</td>\n",
       "      <td>56.0</td>\n",
       "      <td>19.580420</td>\n",
       "    </tr>\n",
       "    <tr>\n",
       "      <th>2009.0</th>\n",
       "      <td>130</td>\n",
       "      <td>23.0</td>\n",
       "      <td>17.692308</td>\n",
       "    </tr>\n",
       "    <tr>\n",
       "      <th>2010.0</th>\n",
       "      <td>223</td>\n",
       "      <td>29.0</td>\n",
       "      <td>13.004484</td>\n",
       "    </tr>\n",
       "    <tr>\n",
       "      <th>2011.0</th>\n",
       "      <td>240</td>\n",
       "      <td>27.0</td>\n",
       "      <td>11.250000</td>\n",
       "    </tr>\n",
       "    <tr>\n",
       "      <th>2012.0</th>\n",
       "      <td>330</td>\n",
       "      <td>16.0</td>\n",
       "      <td>4.848485</td>\n",
       "    </tr>\n",
       "    <tr>\n",
       "      <th>2013.0</th>\n",
       "      <td>256</td>\n",
       "      <td>17.0</td>\n",
       "      <td>6.640625</td>\n",
       "    </tr>\n",
       "    <tr>\n",
       "      <th>2014.0</th>\n",
       "      <td>224</td>\n",
       "      <td>11.0</td>\n",
       "      <td>4.910714</td>\n",
       "    </tr>\n",
       "    <tr>\n",
       "      <th>2015.0</th>\n",
       "      <td>250</td>\n",
       "      <td>3.0</td>\n",
       "      <td>1.200000</td>\n",
       "    </tr>\n",
       "    <tr>\n",
       "      <th>2016.0</th>\n",
       "      <td>253</td>\n",
       "      <td>5.0</td>\n",
       "      <td>1.976285</td>\n",
       "    </tr>\n",
       "    <tr>\n",
       "      <th>2017.0</th>\n",
       "      <td>251</td>\n",
       "      <td>3.0</td>\n",
       "      <td>1.195219</td>\n",
       "    </tr>\n",
       "    <tr>\n",
       "      <th>2018.0</th>\n",
       "      <td>135</td>\n",
       "      <td>4.0</td>\n",
       "      <td>2.962963</td>\n",
       "    </tr>\n",
       "  </tbody>\n",
       "</table>\n",
       "</div>"
      ],
      "text/plain": [
       "        All cars  Cars with NaN  percentage\n",
       "1961.0         1            1.0  100.000000\n",
       "1964.0         1            1.0  100.000000\n",
       "1968.0         1            1.0  100.000000\n",
       "1970.0         2            2.0  100.000000\n",
       "1971.0         1            1.0  100.000000\n",
       "1972.0         1            NaN         NaN\n",
       "1976.0         1            1.0  100.000000\n",
       "1982.0         2            2.0  100.000000\n",
       "1984.0         1            1.0  100.000000\n",
       "1985.0         8            7.0   87.500000\n",
       "1986.0         8            6.0   75.000000\n",
       "1987.0        12            9.0   75.000000\n",
       "1988.0        27           18.0   66.666667\n",
       "1989.0        36           20.0   55.555556\n",
       "1990.0        33           20.0   60.606061\n",
       "1991.0        47           27.0   57.446809\n",
       "1992.0        63           41.0   65.079365\n",
       "1993.0        70           47.0   67.142857\n",
       "1994.0        67           36.0   53.731343\n",
       "1995.0       112           70.0   62.500000\n",
       "1996.0        83           47.0   56.626506\n",
       "1997.0        85           43.0   50.588235\n",
       "1998.0       139           80.0   57.553957\n",
       "1999.0       163           73.0   44.785276\n",
       "2000.0       306          144.0   47.058824\n",
       "2001.0       408          220.0   53.921569\n",
       "2002.0       611          284.0   46.481178\n",
       "2003.0       812          328.0   40.394089\n",
       "2004.0       528          206.0   39.015152\n",
       "2005.0       406          161.0   39.655172\n",
       "2006.0       218           69.0   31.651376\n",
       "2007.0       233           85.0   36.480687\n",
       "2008.0       286           56.0   19.580420\n",
       "2009.0       130           23.0   17.692308\n",
       "2010.0       223           29.0   13.004484\n",
       "2011.0       240           27.0   11.250000\n",
       "2012.0       330           16.0    4.848485\n",
       "2013.0       256           17.0    6.640625\n",
       "2014.0       224           11.0    4.910714\n",
       "2015.0       250            3.0    1.200000\n",
       "2016.0       253            5.0    1.976285\n",
       "2017.0       251            3.0    1.195219\n",
       "2018.0       135            4.0    2.962963"
      ]
     },
     "execution_count": 4,
     "metadata": {},
     "output_type": "execute_result"
    }
   ],
   "source": [
    "nullval = nulldataset.value_counts()\n",
    "totalval = totaldataset.value_counts()\n",
    "\n",
    "percentage = 100.0/totalval*nullval\n",
    "\n",
    "df =  pd.DataFrame({\"All cars\":totalval,\"Cars with NaN\":nullval,\"percentage\":percentage})\n",
    "df"
   ]
  },
  {
   "cell_type": "markdown",
   "metadata": {},
   "source": [
    "You can see yourself that people tend to not specify the mileage of the car, when the car is older. I can plot it. X is the percentage of cars with unindicated mileage as opposed to year of the car."
   ]
  },
  {
   "cell_type": "code",
   "execution_count": 5,
   "metadata": {},
   "outputs": [
    {
     "data": {
      "text/plain": [
       "Text(0,0.5,'Percentage')"
      ]
     },
     "execution_count": 5,
     "metadata": {},
     "output_type": "execute_result"
    },
    {
     "data": {
      "image/png": "[encoded data removed]",
      "text/plain": [
       "<matplotlib.figure.Figure at 0xa9f9030>"
      ]
     },
     "metadata": {},
     "output_type": "display_data"
    }
   ],
   "source": [
    "plt.scatter(df.index,percentage,marker=\"o\",linewidths=2)\n",
    "plt.xlabel(\"Year\")\n",
    "plt.ylabel(\"Percentage\")"
   ]
  },
  {
   "cell_type": "markdown",
   "metadata": {},
   "source": [
    "So here is the problem, I can not impute any of the missing values in the dataset by median, mean or mode, because it will definetely create bias in the model. So, I need to use more sophisticated ways of imputing, but unfortunately in scikit there is no convinient library for doing so, there is a library called \"fancyimputer\", but since pipinstall shows a lot of dependencies when downloading the library, I couldn't import it, because it was dependent from tensorflow library, which I couldn't download, cause it was incompetable with my system<br>\n",
    "So, the solution will be to manually impute the values. Which I will do in clean_data.py. \n",
    "In the clean_data.py, I did next manipulations:\n",
    "<ul>\n",
    "     <li>Dropped rows with missing target values, because anyway they wouldn't really help us</li>\n",
    "     <li>Dropped row \"Тип кузова\" because there was not a lot of missing rows with Nan in this row, so it didn't create any bias or it didn't reduce variance of model</li>\n",
    "     <li>Drop year row because of the same reason, but also year is one of the most needed features, so I didn't risk to create bias, imputing this feature</li>\n",
    "     <li>Imputed color feature, by making all of the unspecified samples - another class. It helps to reduce bias</li>\n",
    "     <li>I did the same with fuel feature, because I was not sure if the unspecified fuel type was just unspecified, or because there were some different type of cars(electro for example), which users of webpage couldn't specify. </li>\n",
    "     <li>I imputed wheel type by KNN imputation, I chose most important features for predicting the type of wheel, those features were[\"Цена\",\"Тип кузова\"], and I predicted the side of wheel in the car</li>\n",
    "     <li>I as well imputed - [\"Привод\"],[\"КПП\"],[\"Объём\"],[\"Мощность\"],['Пробег'] features by predicting their values by KNN machine learning algorithm, using most linearly correlated features of theirs.</li>\n",
    "    <li>And, lastly, I wrote all of imputed data to new .xslx file.\n",
    "</ul>\n",
    "So now, you can see number of missing data from not imputed data, and you can see number of missing data from imputed data"
   ]
  },
  {
   "cell_type": "code",
   "execution_count": 6,
   "metadata": {},
   "outputs": [
    {
     "data": {
      "text/plain": [
       "Год выпуска      90\n",
       "КПП             159\n",
       "Мощность       1615\n",
       "Объём           407\n",
       "Привод          587\n",
       "Пробег         2308\n",
       "Руль            371\n",
       "Тип кузова       19\n",
       "Топливо         147\n",
       "Цвет            563\n",
       "Цена              0\n",
       "dtype: int64"
      ]
     },
     "execution_count": 6,
     "metadata": {},
     "output_type": "execute_result"
    }
   ],
   "source": [
    "data.isnull().sum()"
   ]
  },
  {
   "cell_type": "code",
   "execution_count": 11,
   "metadata": {},
   "outputs": [
    {
     "data": {
      "text/plain": [
       "Год выпуска    0\n",
       "КПП            0\n",
       "Мощность       0\n",
       "Объём          0\n",
       "Привод         0\n",
       "Пробег         0\n",
       "Руль           0\n",
       "Тип кузова     0\n",
       "Топливо        0\n",
       "Цвет           0\n",
       "Цена           0\n",
       "dtype: int64"
      ]
     },
     "execution_count": 11,
     "metadata": {},
     "output_type": "execute_result"
    }
   ],
   "source": [
    "data = load_or_save_dataset.get_imputed_nans_dataset()\n",
    "data.isnull().sum()"
   ]
  },
  {
   "cell_type": "markdown",
   "metadata": {},
   "source": [
    "Now you can see, that no missing data left, that makes for us possible using machine learning algorithms. Next thing I will do, I will create a dataset, dropping every row with missing data, from old raw data. Thus, I will see, were my hypothesis right, about biasing my datase, and we will see which model will be more accurate.\n"
   ]
  },
  {
   "cell_type": "markdown",
   "metadata": {},
   "source": [
    "Now you will see differences between imputed and dropped data."
   ]
  },
  {
   "cell_type": "code",
   "execution_count": 12,
   "metadata": {},
   "outputs": [
    {
     "data": {
      "text/plain": [
       "Год выпуска    0\n",
       "КПП            0\n",
       "Мощность       0\n",
       "Объём          0\n",
       "Привод         0\n",
       "Пробег         0\n",
       "Руль           0\n",
       "Тип кузова     0\n",
       "Топливо        0\n",
       "Цвет           0\n",
       "Цена           0\n",
       "dtype: int64"
      ]
     },
     "execution_count": 12,
     "metadata": {},
     "output_type": "execute_result"
    }
   ],
   "source": [
    "data_dropped = load_or_save_dataset.get_dropped_nans_dataset()\n",
    "data_dropped.isnull().sum()"
   ]
  },
  {
   "cell_type": "markdown",
   "metadata": {},
   "source": [
    "You can see that both of the datasets have no missing values. But the shape as you can see below, is radically different. Dropped dataset two times smaller than imputed dataset. But sometimes it doesn't help, so I hope imputed data will make better in predictions, because imputted I nearly for 6 hours, and dropped values in 30 seconds."
   ]
  },
  {
   "cell_type": "code",
   "execution_count": 9,
   "metadata": {},
   "outputs": [
    {
     "data": {
      "text/plain": [
       "(7115, 11)"
      ]
     },
     "execution_count": 9,
     "metadata": {},
     "output_type": "execute_result"
    }
   ],
   "source": [
    "data.shape"
   ]
  },
  {
   "cell_type": "code",
   "execution_count": 10,
   "metadata": {},
   "outputs": [
    {
     "data": {
      "text/plain": [
       "(3504, 11)"
      ]
     },
     "execution_count": 10,
     "metadata": {},
     "output_type": "execute_result"
    }
   ],
   "source": [
    "data_dropped.shape"
   ]
  },
  {
   "cell_type": "markdown",
   "metadata": {},
   "source": [
    "Also, I tried to create maximum unbiased dataset, in that dataset I imputed just Missing Not At Random feature. And others I imputed a little differently."
   ]
  },
  {
   "cell_type": "code",
   "execution_count": 13,
   "metadata": {},
   "outputs": [],
   "source": [
    "data_max_unbiased = load_or_save_dataset.get_processed_dataset()"
   ]
  },
  {
   "cell_type": "code",
   "execution_count": 15,
   "metadata": {},
   "outputs": [
    {
     "data": {
      "text/plain": [
       "(6024, 10)"
      ]
     },
     "execution_count": 15,
     "metadata": {},
     "output_type": "execute_result"
    }
   ],
   "source": [
    "data_max_unbiased.shape"
   ]
  },
  {
   "cell_type": "markdown",
   "metadata": {},
   "source": [
    "Next thing, I will perform is choose Dataset to perform modelling on, and after I will standartize, and make categorical features - numerical, so it will be easier for our algorithms to find optimal solution. In python there is no way to use categorical features without modifications in predictions, there are other ways in other languages, and I hope soon, those methods will be implemented in Python."
   ]
  }
 ],
 "metadata": {
  "kernelspec": {
   "display_name": "Python 3",
   "language": "python",
   "name": "python3"
  },
  "language_info": {
   "codemirror_mode": {
    "name": "ipython",
    "version": 3
   },
   "file_extension": ".py",
   "mimetype": "text/x-python",
   "name": "python",
   "nbconvert_exporter": "python",
   "pygments_lexer": "ipython3",
   "version": "3.6.4"
  }
 },
 "nbformat": 4,
 "nbformat_minor": 2
}
