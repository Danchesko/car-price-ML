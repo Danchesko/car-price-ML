{
 "cells": [
  {
   "cell_type": "markdown",
   "metadata": {},
   "source": [
    "<center><h1> Accuracy Efficiency Trade-Off </center></h1>\n",
    "***"
   ]
  },
  {
   "cell_type": "markdown",
   "metadata": {},
   "source": [
    "The parameters of estimator weighs too much, since I am using Random Forest model, the argument controlling the weight and the accuracy of the model is quantity of estimators, here I will try to see how much estimators I need, so that and the accuracy and efficiency will be satisfying"
   ]
  },
  {
   "cell_type": "code",
   "execution_count": 4,
   "metadata": {},
   "outputs": [],
   "source": [
    "import set_jupyter_path\n",
    "from src.car_price_prediction.utils import dataset_manager, df_utils\n",
    "n_estimators = [2,5,10,30]\n",
    "from sklearn.model_selection import cross_val_score\n",
    "from sklearn.ensemble import RandomForestRegressor\n",
    "import pandas as pd\n",
    "from sklearn.utils import shuffle"
   ]
  },
  {
   "cell_type": "code",
   "execution_count": 5,
   "metadata": {},
   "outputs": [],
   "source": [
    "df = shuffle(dataset_manager.get_processed_dataset())\n",
    "X,y = df_utils.get_data_and_target(df)\n",
    "X = pd.get_dummies(X)\n",
    "\n",
    "def print_cv_results(X,y,n_estimators):\n",
    "    forest = RandomForestRegressor(n_estimators=n_estimators)\n",
    "    scores = cross_val_score(forest, X,y, scoring='neg_mean_absolute_error',cv = 5)\n",
    "    print(\"CV scores for %d estimators are:\" % (n_estimators))\n",
    "    print(\"; \".join([str(x) for x in scores.tolist()]))\n",
    "    print(\"And the mean score of CV is: %.3f\" % (scores.mean()))"
   ]
  },
  {
   "cell_type": "code",
   "execution_count": 6,
   "metadata": {},
   "outputs": [
    {
     "name": "stdout",
     "output_type": "stream",
     "text": [
      "CV scores for 2 estimators are:\n",
      "-2226.3922995261937; -2171.591025819311; -2250.6192255862156; -2258.981554827378; -2200.8432576382197\n",
      "And the mean score of CV is: -2221.685\n",
      "CV scores for 5 estimators are:\n",
      "-1931.527885910077; -1979.3390827986038; -2000.047859639665; -2005.0238868745466; -1973.6227083354029\n",
      "And the mean score of CV is: -1977.912\n",
      "CV scores for 10 estimators are:\n",
      "-1821.3802365445786; -1860.936248976344; -1895.1602353836001; -1919.4669075320642; -1855.7040426328613\n",
      "And the mean score of CV is: -1870.530\n",
      "CV scores for 30 estimators are:\n",
      "-1779.8036614450089; -1799.3376202147524; -1826.9078102717315; -1824.508849405024; -1790.735433004035\n",
      "And the mean score of CV is: -1804.259\n"
     ]
    }
   ],
   "source": [
    "for estimators in n_estimators:\n",
    "    print_cv_results(X,y,estimators)"
   ]
  },
  {
   "cell_type": "markdown",
   "metadata": {},
   "source": [
    "10 estimators is fine, it's accuracy is good and efficiency is decent. So in model tuning maximum value for param_grid will be 10 estimators"
   ]
  }
 ],
 "metadata": {
  "kernelspec": {
   "display_name": "Python 3",
   "language": "python",
   "name": "python3"
  },
  "language_info": {
   "codemirror_mode": {
    "name": "ipython",
    "version": 3
   },
   "file_extension": ".py",
   "mimetype": "text/x-python",
   "name": "python",
   "nbconvert_exporter": "python",
   "pygments_lexer": "ipython3",
   "version": "3.6.5"
  }
 },
 "nbformat": 4,
 "nbformat_minor": 2
}
