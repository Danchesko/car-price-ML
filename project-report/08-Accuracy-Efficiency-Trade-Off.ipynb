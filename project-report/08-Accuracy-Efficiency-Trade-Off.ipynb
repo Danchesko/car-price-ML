{
 "cells": [
  {
   "cell_type": "markdown",
   "metadata": {},
   "source": [
    "<center><h1> Accuracy Efficiency Trade-Off </center></h1>\n",
    "***"
   ]
  },
  {
   "cell_type": "markdown",
   "metadata": {},
   "source": [
    "The parameters of estimator weighs too much, since I am using Random Forest model, the argument controlling the weight and the accuracy of the model is quantity of estimators, here I will try to see how much estimators I need, so that and the accuracy and efficiency will be satisfying"
   ]
  },
  {
   "cell_type": "code",
   "execution_count": 26,
   "metadata": {},
   "outputs": [],
   "source": [
    "import sys\n",
    "sys.path.append(\"../src\")\n",
    "from car_price_prediction.utils import dataset_manager, df_utils\n",
    "n_estimators = [10,20,30,50]\n",
    "from sklearn.model_selection import cross_val_score\n",
    "from sklearn.ensemble import RandomForestRegressor\n",
    "import pandas as pd"
   ]
  },
  {
   "cell_type": "code",
   "execution_count": 27,
   "metadata": {},
   "outputs": [],
   "source": [
    "df = dataset_manager.get_processed_dataset()\n",
    "X,y = df_utils.get_data_and_target(df)\n",
    "X = pd.get_dummies(X)\n",
    "\n",
    "def print_cv_results(X,y,n_estimators):\n",
    "    forest = RandomForestRegressor(n_estimators=n_estimators)\n",
    "    scores = cross_val_score(forest, X,y, scoring='neg_mean_absolute_error',cv = 5)\n",
    "    print(\"CV scores for %d estimators are:\" % (n_estimators))\n",
    "    print(\"; \".join([str(x) for x in scores.tolist()]))\n",
    "    print(\"And the mean score of CV is: %.3f\" % (scores.mean()))"
   ]
  },
  {
   "cell_type": "code",
   "execution_count": 28,
   "metadata": {},
   "outputs": [
    {
     "name": "stdout",
     "output_type": "stream",
     "text": [
      "CV scores for 10 estimators are:\n",
      "-2257.5171969793905; -2336.559531019063; -2245.6629292218454; -1962.7174162454949; -2089.5142063314356\n",
      "And the mean score of CV is: -2178.394\n",
      "CV scores for 20 estimators are:\n",
      "-2188.4438987283424; -2334.516755374483; -2255.0544127184453; -1932.9787712031712; -1950.2098172473643\n",
      "And the mean score of CV is: -2132.241\n",
      "CV scores for 30 estimators are:\n",
      "-2177.78722861815; -2282.9033653225; -2151.593783379132; -1909.1287488483883; -1956.1691950301856\n",
      "And the mean score of CV is: -2095.516\n",
      "CV scores for 50 estimators are:\n",
      "-2147.195334668491; -2288.636462603128; -2170.463907879253; -1907.304405899569; -1969.2621422270818\n",
      "And the mean score of CV is: -2096.572\n"
     ]
    }
   ],
   "source": [
    "for estimators in n_estimators:\n",
    "    print_cv_results(X,y,estimators)"
   ]
  },
  {
   "cell_type": "markdown",
   "metadata": {},
   "source": [
    "30 estimators is fine, it's accuracy is good and efficiency is decent. So in model tuning maximum value for param_grid will be 30 estimators"
   ]
  }
 ],
 "metadata": {
  "kernelspec": {
   "display_name": "Python 3",
   "language": "python",
   "name": "python3"
  },
  "language_info": {
   "codemirror_mode": {
    "name": "ipython",
    "version": 3
   },
   "file_extension": ".py",
   "mimetype": "text/x-python",
   "name": "python",
   "nbconvert_exporter": "python",
   "pygments_lexer": "ipython3",
   "version": "3.6.4"
  }
 },
 "nbformat": 4,
 "nbformat_minor": 2
}
