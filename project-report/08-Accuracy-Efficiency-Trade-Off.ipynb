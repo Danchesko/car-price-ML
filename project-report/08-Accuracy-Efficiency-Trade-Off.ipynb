{
 "cells": [
  {
   "cell_type": "markdown",
   "metadata": {},
   "source": [
    "<center><h1> Accuracy Efficiency Trade-Off </center></h1>\n",
    "***"
   ]
  },
  {
   "cell_type": "markdown",
   "metadata": {},
   "source": [
    "The parameters of estimator weighs too much, since I am using Random Forest model, the argument controlling the weight and the accuracy of the model is quantity of estimators, here I will try to see how much estimators I need, so that and the accuracy and efficiency will be satisfying"
   ]
  },
  {
   "cell_type": "code",
   "execution_count": 1,
   "metadata": {},
   "outputs": [],
   "source": [
    "import set_jupyter_path\n",
    "from src.car_price_prediction.utils import dataset_manager, df_utils\n",
    "n_estimators = [10,20,30,50]\n",
    "from sklearn.model_selection import cross_val_score\n",
    "from sklearn.ensemble import RandomForestRegressor\n",
    "import pandas as pd"
   ]
  },
  {
   "cell_type": "code",
   "execution_count": 2,
   "metadata": {},
   "outputs": [],
   "source": [
    "df = dataset_manager.get_processed_dataset()\n",
    "X,y = df_utils.get_data_and_target(df)\n",
    "X = pd.get_dummies(X)\n",
    "\n",
    "def print_cv_results(X,y,n_estimators):\n",
    "    forest = RandomForestRegressor(n_estimators=n_estimators)\n",
    "    scores = cross_val_score(forest, X,y, scoring='neg_mean_absolute_error',cv = 5)\n",
    "    print(\"CV scores for %d estimators are:\" % (n_estimators))\n",
    "    print(\"; \".join([str(x) for x in scores.tolist()]))\n",
    "    print(\"And the mean score of CV is: %.3f\" % (scores.mean()))"
   ]
  },
  {
   "cell_type": "code",
   "execution_count": 3,
   "metadata": {},
   "outputs": [
    {
     "name": "stdout",
     "output_type": "stream",
     "text": [
      "CV scores for 10 estimators are:\n",
      "-2290.9192984027463; -2352.7138441238567; -2266.7337640479386; -1965.6638747432098; -2057.261179138322\n",
      "And the mean score of CV is: -2186.658\n",
      "CV scores for 20 estimators are:\n",
      "-2170.4232845019833; -2319.5960126511422; -2259.998657607196; -1934.00227556174; -1999.7650362794022\n",
      "And the mean score of CV is: -2136.757\n",
      "CV scores for 30 estimators are:\n",
      "-2169.0763218509273; -2240.8657527536984; -2250.9663588460353; -1892.2958979407751; -1969.4811069230898\n",
      "And the mean score of CV is: -2104.537\n",
      "CV scores for 50 estimators are:\n",
      "-2139.4912452427156; -2284.9018466159905; -2182.191520306873; -1869.5067910311066; -1941.3186690187206\n",
      "And the mean score of CV is: -2083.482\n"
     ]
    }
   ],
   "source": [
    "for estimators in n_estimators:\n",
    "    print_cv_results(X,y,estimators)"
   ]
  },
  {
   "cell_type": "markdown",
   "metadata": {},
   "source": [
    "30 estimators is fine, it's accuracy is good and efficiency is decent. So in model tuning maximum value for param_grid will be 30 estimators"
   ]
  }
 ],
 "metadata": {
  "kernelspec": {
   "display_name": "Python 3",
   "language": "python",
   "name": "python3"
  },
  "language_info": {
   "codemirror_mode": {
    "name": "ipython",
    "version": 3
   },
   "file_extension": ".py",
   "mimetype": "text/x-python",
   "name": "python",
   "nbconvert_exporter": "python",
   "pygments_lexer": "ipython3",
   "version": "3.6.4"
  }
 },
 "nbformat": 4,
 "nbformat_minor": 2
}
