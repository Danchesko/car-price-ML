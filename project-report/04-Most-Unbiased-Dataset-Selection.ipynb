{
 "cells": [
  {
   "cell_type": "markdown",
   "metadata": {},
   "source": [
    "<center><h1>Dataset Selection</h1></center><br>"
   ]
  },
  {
   "cell_type": "markdown",
   "metadata": {},
   "source": [
    "In the previous notebook you saw that imputed dataset was better on crossvalidation, now since I have three diferent datasets, I want to check which of them will perform better on completely new dataset, we will see which dataset is more biased. Let's at first download the test set here. "
   ]
  },
  {
   "cell_type": "code",
   "execution_count": 112,
   "metadata": {},
   "outputs": [],
   "source": [
    "import pandas as pd\n",
    "from sklearn.ensemble import RandomForestRegressor\n",
    "test = pd.read_excel(\"../data/raw/test_data.xlsx\")\n",
    "test = test.dropna()\n",
    "X_test = test.iloc[:,:-1]\n",
    "y_test = test.iloc[:,-1]"
   ]
  },
  {
   "cell_type": "code",
   "execution_count": 113,
   "metadata": {},
   "outputs": [],
   "source": [
    "traindrop = pd.read_excel(\"../data/interim/cars_dropped.xlsx\")\n",
    "trainimp = pd.read_excel(\"../data/interim/cars_imputed.xlsx\")\n",
    "trainmax = pd.read_excel(\"../data/interim/cars_max_unbiased.xlsx\")\n",
    "X_drop = traindrop.iloc[:,:-1]\n",
    "X_imp = trainimp.iloc[:,:-1]\n",
    "X_max = trainmax.iloc[:,:-1]\n",
    "y_drop = traindrop.iloc[:,-1]\n",
    "y_imp = trainimp.iloc[:,-1]\n",
    "y_max = trainmax.iloc[:,-1]\n",
    "                "
   ]
  },
  {
   "cell_type": "markdown",
   "metadata": {},
   "source": [
    "I will compare the datasets by RandomForest."
   ]
  },
  {
   "cell_type": "code",
   "execution_count": 114,
   "metadata": {},
   "outputs": [
    {
     "data": {
      "text/plain": [
       "RandomForestRegressor(bootstrap=True, criterion='mse', max_depth=None,\n",
       "           max_features='auto', max_leaf_nodes=None,\n",
       "           min_impurity_decrease=0.0, min_impurity_split=None,\n",
       "           min_samples_leaf=1, min_samples_split=2,\n",
       "           min_weight_fraction_leaf=0.0, n_estimators=100, n_jobs=1,\n",
       "           oob_score=False, random_state=None, verbose=0, warm_start=False)"
      ]
     },
     "execution_count": 114,
     "metadata": {},
     "output_type": "execute_result"
    }
   ],
   "source": [
    "forest_drop = RandomForestRegressor(n_estimators=100)\n",
    "forest_imp = RandomForestRegressor(n_estimators=100)\n",
    "forest_max = RandomForestRegressor(n_estimators=100)\n",
    "X_drop = pd.get_dummies(X_drop)\n",
    "X_imp = pd.get_dummies(X_imp)\n",
    "X_max = pd.get_dummies(X_max)\n",
    "\n",
    "forest_drop.fit(X_drop,y_drop)\n",
    "forest_imp.fit(X_imp,y_imp)\n",
    "forest_max.fit(X_max,y_max)\n"
   ]
  },
  {
   "cell_type": "markdown",
   "metadata": {},
   "source": [
    "Here we get dummies for each dataset"
   ]
  },
  {
   "cell_type": "code",
   "execution_count": 115,
   "metadata": {},
   "outputs": [],
   "source": [
    "X_test_drop = pd.get_dummies(X_test)\n",
    "missing_cols = set( X_drop.columns ) - set( X_test_drop.columns )\n",
    "for c in missing_cols:\n",
    "        X_test_drop[c] = 0\n",
    "X_test_drop = X_test_drop[X_drop.columns]\n",
    "\n",
    "y_pred_drop = forest_drop.predict(X_test_drop)"
   ]
  },
  {
   "cell_type": "code",
   "execution_count": 116,
   "metadata": {},
   "outputs": [],
   "source": [
    "X_test_imp = pd.get_dummies(X_test)\n",
    "missing_cols = set( X_imp.columns ) - set( X_test_imp.columns )\n",
    "for c in missing_cols:\n",
    "        X_test_imp[c] = 0\n",
    "X_test_imp = X_test_imp[X_imp.columns]\n",
    "\n",
    "y_pred_imp = forest_imp.predict(X_test_imp)"
   ]
  },
  {
   "cell_type": "code",
   "execution_count": 117,
   "metadata": {},
   "outputs": [],
   "source": [
    "X_test_max = pd.get_dummies(X_test)\n",
    "missing_cols = set( X_max.columns ) - set( X_test_max.columns )\n",
    "for c in missing_cols:\n",
    "        X_test_max[c] = 0\n",
    "X_test_max = X_test_max[X_max.columns]\n",
    "\n",
    "y_pred_max = forest_max.predict(X_test_max)"
   ]
  },
  {
   "cell_type": "markdown",
   "metadata": {},
   "source": [
    "And finally we can see, which dataset is least biased."
   ]
  },
  {
   "cell_type": "code",
   "execution_count": 118,
   "metadata": {},
   "outputs": [
    {
     "data": {
      "text/plain": [
       "3559.780457368675"
      ]
     },
     "execution_count": 118,
     "metadata": {},
     "output_type": "execute_result"
    }
   ],
   "source": [
    "abs(y_pred_drop - y_test).sum()/len(y_test)"
   ]
  },
  {
   "cell_type": "code",
   "execution_count": 119,
   "metadata": {},
   "outputs": [
    {
     "data": {
      "text/plain": [
       "3388.1296702781565"
      ]
     },
     "execution_count": 119,
     "metadata": {},
     "output_type": "execute_result"
    }
   ],
   "source": [
    "abs(y_pred_imp - y_test).sum()/len(y_test)"
   ]
  },
  {
   "cell_type": "code",
   "execution_count": 120,
   "metadata": {},
   "outputs": [
    {
     "data": {
      "text/plain": [
       "3234.0562291631786"
      ]
     },
     "execution_count": 120,
     "metadata": {},
     "output_type": "execute_result"
    }
   ],
   "source": [
    "abs(y_pred_max-y_test).sum()/len(y_test)"
   ]
  }
 ],
 "metadata": {
  "kernelspec": {
   "display_name": "Python 3",
   "language": "python",
   "name": "python3"
  },
  "language_info": {
   "codemirror_mode": {
    "name": "ipython",
    "version": 3
   },
   "file_extension": ".py",
   "mimetype": "text/x-python",
   "name": "python",
   "nbconvert_exporter": "python",
   "pygments_lexer": "ipython3",
   "version": "3.6.4"
  }
 },
 "nbformat": 4,
 "nbformat_minor": 2
}
