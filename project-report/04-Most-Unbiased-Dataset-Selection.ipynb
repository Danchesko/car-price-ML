{
 "cells": [
  {
   "cell_type": "markdown",
   "metadata": {},
   "source": [
    "<center><h1>Dataset Selection(Part 2)</h1></center>\n",
    "***"
   ]
  },
  {
   "cell_type": "markdown",
   "metadata": {},
   "source": [
    "In the previous notebook you saw that imputed dataset was better on crossvalidation, now since I have two diferent datasets, I want to check which of them will perform better on completely new dataset, we will see which dataset is more biased. Let's at first download the test set here. "
   ]
  },
  {
   "cell_type": "code",
   "execution_count": 2,
   "metadata": {},
   "outputs": [],
   "source": [
    "import pandas as pd\n",
    "import warnings\n",
    "import set_jupyter_path\n",
    "from src.car_price_prediction.utils import dataset_manager, df_utils\n",
    "from sklearn.ensemble import RandomForestRegressor\n",
    "from notebook_helper_functions.data_impute import get_imputed_dataset"
   ]
  },
  {
   "cell_type": "code",
   "execution_count": 3,
   "metadata": {},
   "outputs": [],
   "source": [
    "data = dataset_manager.get_cleaned_outliers_dataset()\n",
    "\n",
    "def make_imputed_dataset(data):\n",
    "    data_for_imp = data.copy()\n",
    "    #erroneous warnings in imported library\n",
    "    with warnings.catch_warnings():\n",
    "        warnings.simplefilter(\"ignore\")\n",
    "        data_imp = get_imputed_dataset(data_for_imp)\n",
    "    return data_imp\n",
    "\n",
    "def get_max_unbiased_dataset():\n",
    "    return dataset_manager.get_processed_dataset()\n",
    "\n",
    "imputed_data = make_imputed_dataset(data)\n",
    "unbiased_data = get_max_unbiased_dataset()"
   ]
  },
  {
   "cell_type": "code",
   "execution_count": 4,
   "metadata": {},
   "outputs": [],
   "source": [
    "X_imp,y_imp = df_utils.get_data_and_target(imputed_data)\n",
    "X_unbias,y_unbias = df_utils.get_data_and_target(unbiased_data)"
   ]
  },
  {
   "cell_type": "markdown",
   "metadata": {},
   "source": [
    "Here, I will load new dataset for testing, and make same dummy variables between train and test."
   ]
  },
  {
   "cell_type": "code",
   "execution_count": 5,
   "metadata": {},
   "outputs": [],
   "source": [
    "test_data = pd.read_excel(\"../data/external/test_data.xlsx\")\n",
    "X_test,y_test = df_utils.get_data_and_target(test_data)\n",
    "X_imp,X_test_imp = df_utils.make_dummies(X_imp,X_test)\n",
    "X_unbias,X_test_unbias = df_utils.make_dummies(X_unbias, X_test)"
   ]
  },
  {
   "cell_type": "markdown",
   "metadata": {},
   "source": [
    "I will compare the datasets by RandomForest."
   ]
  },
  {
   "cell_type": "code",
   "execution_count": 6,
   "metadata": {},
   "outputs": [],
   "source": [
    "forest_imp = RandomForestRegressor(n_estimators=30)\n",
    "forest_unbias = RandomForestRegressor(n_estimators=30)\n",
    "\n",
    "forest_imp.fit(X_imp,y_imp)\n",
    "forest_unbias.fit(X_unbias,y_unbias)\n",
    "\n",
    "y_pred_imp = forest_imp.predict(X_test_imp)\n",
    "y_pred_unbias = forest_unbias.predict(X_test_unbias)"
   ]
  },
  {
   "cell_type": "markdown",
   "metadata": {},
   "source": [
    "And finally we can clearly see, which dataset is least biased. This error is due to bias in imputting dataset."
   ]
  },
  {
   "cell_type": "code",
   "execution_count": 7,
   "metadata": {},
   "outputs": [
    {
     "data": {
      "text/plain": [
       "3820.5041530054646"
      ]
     },
     "execution_count": 7,
     "metadata": {},
     "output_type": "execute_result"
    }
   ],
   "source": [
    "abs(y_pred_imp - y_test).sum()/len(y_test)"
   ]
  },
  {
   "cell_type": "code",
   "execution_count": 8,
   "metadata": {},
   "outputs": [
    {
     "data": {
      "text/plain": [
       "1711.8107201405153"
      ]
     },
     "execution_count": 8,
     "metadata": {},
     "output_type": "execute_result"
    }
   ],
   "source": [
    "abs(y_pred_unbias-y_test).sum()/len(y_test)"
   ]
  },
  {
   "cell_type": "markdown",
   "metadata": {},
   "source": [
    "By this notebook, I finished preprocessing part of making prediction algorithm."
   ]
  }
 ],
 "metadata": {
  "kernelspec": {
   "display_name": "Python 3",
   "language": "python",
   "name": "python3"
  },
  "language_info": {
   "codemirror_mode": {
    "name": "ipython",
    "version": 3
   },
   "file_extension": ".py",
   "mimetype": "text/x-python",
   "name": "python",
   "nbconvert_exporter": "python",
   "pygments_lexer": "ipython3",
   "version": "3.6.4"
  }
 },
 "nbformat": 4,
 "nbformat_minor": 2
}
