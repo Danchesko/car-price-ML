{
 "cells": [
  {
   "cell_type": "markdown",
   "metadata": {},
   "source": [
    "<center><h1> Dataset Selection</h1></center>\n",
    "\n",
    "***"
   ]
  },
  {
   "cell_type": "markdown",
   "metadata": {},
   "source": [
    "Here we will see, which dataset is more biased, or gives more mean squared error with same model. I need to check with which dataset my models perform better. To check I will use a technique called cross-validation and I will use Random Forest Regressor."
   ]
  },
  {
   "cell_type": "code",
   "execution_count": 1,
   "metadata": {},
   "outputs": [],
   "source": [
    "import pandas as pd \n",
    "import pickle \n",
    "from sklearn.ensemble import RandomForestRegressor\n",
    "from sklearn.linear_model import LinearRegression\n",
    "from sklearn.neighbors import KNeighborsRegressor\n",
    "from sklearn.model_selection import cross_val_score\n",
    "from sklearn.utils import shuffle\n",
    "from sklearn.preprocessing import StandardScaler\n",
    "from sklearn.pipeline import Pipeline\n",
    "import set_jupyter_path\n",
    "\n",
    "from src.car_price_prediction.utils import dataset_manager, df_utils\n",
    "from src.car_price_prediction.utils import df_utils"
   ]
  },
  {
   "cell_type": "code",
   "execution_count": 2,
   "metadata": {},
   "outputs": [],
   "source": [
    "data = dataset_manager.get_cleaned_outliers_dataset()\n",
    "\n",
    "def get_dropped_dataset(data):\n",
    "    data_for_drop = data.copy()\n",
    "    data_for_drop = data_for_drop.drop(columns=['Url', 'Photo_Urls', 'Expiration', 'Power'])\n",
    "    data_for_drop = data_for_drop.dropna()\n",
    "    data_for_drop.Publication = pd.to_datetime(data_for_drop.Publication)\n",
    "    data_for_drop.Publication = data_for_drop.Publication.apply(lambda x: x and x.toordinal())\n",
    "    data_for_drop = shuffle(data_for_drop)\n",
    "    return data_for_drop\n",
    "\n",
    "def get_max_unbiased_dataset():\n",
    "    return shuffle(dataset_manager.get_processed_dataset())\n",
    "\n",
    "data_dropped = get_dropped_dataset(data)\n",
    "data_max_unbiased = get_max_unbiased_dataset()"
   ]
  },
  {
   "cell_type": "markdown",
   "metadata": {},
   "source": [
    "First I will divide the data into dataset and target variables."
   ]
  },
  {
   "cell_type": "code",
   "execution_count": 3,
   "metadata": {},
   "outputs": [],
   "source": [
    "def get_X_y(data):\n",
    "    X,y = df_utils.get_data_and_target(data)\n",
    "    X = pd.get_dummies(X)\n",
    "    return X,y\n",
    "\n",
    "X_drop, y_drop = get_X_y(data_dropped)\n",
    "X_unbias,y_unbias = get_X_y(data_max_unbiased)"
   ]
  },
  {
   "cell_type": "markdown",
   "metadata": {},
   "source": [
    "Cv argument means how many folds I want to use in cross-validation, more folds mean more unbiased error, for forest I use 5, because it's computationally more expensive."
   ]
  },
  {
   "cell_type": "code",
   "execution_count": 4,
   "metadata": {},
   "outputs": [],
   "source": [
    "def print_cv_score(estimator, est_name, cv,scoring = \"neg_mean_absolute_error\"):\n",
    "    score_drop = cross_val_score(estimator=estimator,X = X_drop,y = y_drop,cv = cv,scoring = scoring) \n",
    "    score_unbias = cross_val_score(estimator=estimator, X = X_unbias, y = y_unbias, cv = cv, scoring = scoring)\n",
    "    print(\"MAE for dropped data for %s: \\t%.3f\" % (est_name,score_drop.mean()))\n",
    "    print(\"MAE for unbiased data for %s: \\t%.3f\" % (est_name,score_unbias.mean()))"
   ]
  },
  {
   "cell_type": "code",
   "execution_count": 5,
   "metadata": {},
   "outputs": [
    {
     "name": "stdout",
     "output_type": "stream",
     "text": [
      "MAE for dropped data for Random Forest: \t-2157.338\n",
      "MAE for unbiased data for Random Forest: \t-1820.664\n"
     ]
    }
   ],
   "source": [
    "forest = RandomForestRegressor(n_estimators=30)\n",
    "print_cv_score(forest,est_name=\"Random Forest\",cv = 5)"
   ]
  },
  {
   "cell_type": "markdown",
   "metadata": {},
   "source": [
    "We can see that the max_unbiased_dataset is more accurate than the dropped."
   ]
  },
  {
   "cell_type": "markdown",
   "metadata": {},
   "source": [
    "In the next notebook, I will choose a best model for this dataset to use."
   ]
  }
 ],
 "metadata": {
  "kernelspec": {
   "display_name": "Python 3",
   "language": "python",
   "name": "python3"
  },
  "language_info": {
   "codemirror_mode": {
    "name": "ipython",
    "version": 3
   },
   "file_extension": ".py",
   "mimetype": "text/x-python",
   "name": "python",
   "nbconvert_exporter": "python",
   "pygments_lexer": "ipython3",
   "version": "3.6.5"
  }
 },
 "nbformat": 4,
 "nbformat_minor": 2
}
