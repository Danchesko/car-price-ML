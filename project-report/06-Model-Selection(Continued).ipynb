{
 "cells": [
  {
   "cell_type": "markdown",
   "metadata": {},
   "source": [
    "<center><h1>06-Model-Selection(Continued)</h1><center>\n",
    "***\n",
    "In the last notebook we saw that the best models for this project were Random Forest and Bootstrap Aggregating. Now I will use cross validation technique alongside with grid search to see the best cv scores and means of them, and choose a model. Moreover I will use nested cross-validation technique. In a study on the bias in error estimation, S.Varma and R.Simon concluded that the true error of the estimate is almost unbiased relative to the test set when nested cross-validation is used."
   ]
  },
  {
   "cell_type": "code",
   "execution_count": 7,
   "metadata": {},
   "outputs": [],
   "source": [
    "import pandas as pd\n",
    "import sys\n",
    "sys.path.append(\"../src\")\n",
    "from car_price_prediction.utils import df_utils,dataset_manager\n",
    "from sklearn.ensemble import RandomForestRegressor, BaggingRegressor, GradientBoostingRegressor\n",
    "from sklearn.model_selection import GridSearchCV\n",
    "from sklearn.model_selection import cross_val_score"
   ]
  },
  {
   "cell_type": "code",
   "execution_count": 2,
   "metadata": {},
   "outputs": [],
   "source": [
    "df = dataset_manager.get_processed_dataset()\n",
    "X_train, X_test, y_train,y_test = df_utils.get_train_test(df, test_size=0.1)\n",
    "X_train, X_test = df_utils.make_dummies(X_train,X_test)"
   ]
  },
  {
   "cell_type": "markdown",
   "metadata": {},
   "source": [
    "Now, code below will compute the cv score of models. Be aware, cell runing a long time, if you want, you can change the parameters of cross - validation, which will have affect on running time"
   ]
  },
  {
   "cell_type": "code",
   "execution_count": 3,
   "metadata": {},
   "outputs": [],
   "source": [
    "forest = RandomForestRegressor()\n",
    "forest_params = {'n_estimators':[10,30]}\n",
    "grid_forest = GridSearchCV(forest,forest_params,scoring = 'neg_mean_absolute_error',cv = 3)\n",
    "forest_cv_score = cross_val_score(grid_forest,X_train,y_train,scoring= 'neg_mean_absolute_error', cv = 3)"
   ]
  },
  {
   "cell_type": "code",
   "execution_count": 4,
   "metadata": {},
   "outputs": [
    {
     "data": {
      "text/plain": [
       "array([-2281.53566665, -2119.73771678, -2163.18161307])"
      ]
     },
     "execution_count": 4,
     "metadata": {},
     "output_type": "execute_result"
    }
   ],
   "source": [
    "forest_cv_score"
   ]
  },
  {
   "cell_type": "code",
   "execution_count": 8,
   "metadata": {},
   "outputs": [
    {
     "data": {
      "text/plain": [
       "-2188.1516655012224"
      ]
     },
     "execution_count": 8,
     "metadata": {},
     "output_type": "execute_result"
    }
   ],
   "source": [
    "forest_cv_score.mean()"
   ]
  },
  {
   "cell_type": "code",
   "execution_count": 5,
   "metadata": {},
   "outputs": [],
   "source": [
    "bagging = BaggingRegressor()\n",
    "bagging_params = {'n_estimators':[100,300]}\n",
    "grid_bagging = GridSearchCV(bagging,bagging_params,scoring = 'neg_mean_absolute_error',cv = 3)\n",
    "bagging_cv_score = cross_val_score(grid_bagging,X_train,y_train,scoring= 'neg_mean_absolute_error', cv = 3)"
   ]
  },
  {
   "cell_type": "code",
   "execution_count": 6,
   "metadata": {},
   "outputs": [
    {
     "data": {
      "text/plain": [
       "array([-2266.2342244 , -2079.63864206, -2138.55730586])"
      ]
     },
     "execution_count": 6,
     "metadata": {},
     "output_type": "execute_result"
    }
   ],
   "source": [
    "bagging_cv_score"
   ]
  },
  {
   "cell_type": "code",
   "execution_count": 9,
   "metadata": {},
   "outputs": [
    {
     "data": {
      "text/plain": [
       "-2161.4767241046507"
      ]
     },
     "execution_count": 9,
     "metadata": {},
     "output_type": "execute_result"
    }
   ],
   "source": [
    "bagging_cv_score.mean()"
   ]
  },
  {
   "cell_type": "markdown",
   "metadata": {},
   "source": [
    "Above, we can see, that there is no difference between Bagging and Random Forest results, because actually Random Forest is just Bagging with a little modifications. So, next, what I am going to do is, tune random forest in script and create best parameters via grid search."
   ]
  }
 ],
 "metadata": {
  "kernelspec": {
   "display_name": "Python 3",
   "language": "python",
   "name": "python3"
  },
  "language_info": {
   "codemirror_mode": {
    "name": "ipython",
    "version": 3
   },
   "file_extension": ".py",
   "mimetype": "text/x-python",
   "name": "python",
   "nbconvert_exporter": "python",
   "pygments_lexer": "ipython3",
   "version": "3.6.4"
  }
 },
 "nbformat": 4,
 "nbformat_minor": 2
}
