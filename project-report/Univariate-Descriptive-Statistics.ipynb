{
 "cells": [
  {
   "cell_type": "markdown",
   "metadata": {},
   "source": [
    "<center><h1>Univariate Descriptive Statistics</center></h1>\n",
    "***"
   ]
  },
  {
   "cell_type": "markdown",
   "metadata": {},
   "source": [
    "Here, we will try to analyze each of the columns of our raw dataset, you can count this notebook as separate notebook, or maybe preliminary notebook before **Exlporitary-Descriptive-Analysis**. This will be rather long notebook, giving us interesting information about dataset. \n",
    "Because the dataset is raw, it has some flaws which, I took care of in next cell"
   ]
  },
  {
   "cell_type": "code",
   "execution_count": 2,
   "metadata": {},
   "outputs": [],
   "source": [
    "import set_jupyter_path\n",
    "from src.car_price_prediction.utils import dataset_manager\n",
    "import numpy as np\n",
    "import matplotlib.pyplot as plt\n",
    "import pandas as pd\n",
    "data = dataset_manager.get_raw_dataset()\n",
    "data[\"Пробег\"] = data[\"Пробег\"].replace(to_replace = \"\", value = np.NaN)"
   ]
  },
  {
   "cell_type": "markdown",
   "metadata": {},
   "source": [
    "Here, is a whole summary of quantitive features of dataset, from which most of all doesn't make any sense, we will try to analyze another way"
   ]
  },
  {
   "cell_type": "code",
   "execution_count": 3,
   "metadata": {},
   "outputs": [
    {
     "data": {
      "text/html": [
       "<div>\n",
       "<style scoped>\n",
       "    .dataframe tbody tr th:only-of-type {\n",
       "        vertical-align: middle;\n",
       "    }\n",
       "\n",
       "    .dataframe tbody tr th {\n",
       "        vertical-align: top;\n",
       "    }\n",
       "\n",
       "    .dataframe thead th {\n",
       "        text-align: right;\n",
       "    }\n",
       "</style>\n",
       "<table border=\"1\" class=\"dataframe\">\n",
       "  <thead>\n",
       "    <tr style=\"text-align: right;\">\n",
       "      <th></th>\n",
       "      <th>Год выпуска</th>\n",
       "      <th>Мощность</th>\n",
       "      <th>Объём</th>\n",
       "      <th>Пробег</th>\n",
       "      <th>Цена</th>\n",
       "    </tr>\n",
       "  </thead>\n",
       "  <tbody>\n",
       "    <tr>\n",
       "      <th>count</th>\n",
       "      <td>13663.000000</td>\n",
       "      <td>1.100300e+04</td>\n",
       "      <td>1.339400e+04</td>\n",
       "      <td>9.704000e+03</td>\n",
       "      <td>1.385900e+04</td>\n",
       "    </tr>\n",
       "    <tr>\n",
       "      <th>mean</th>\n",
       "      <td>2005.571324</td>\n",
       "      <td>1.009826e+12</td>\n",
       "      <td>6.266299e+04</td>\n",
       "      <td>1.902248e+15</td>\n",
       "      <td>7.403754e+04</td>\n",
       "    </tr>\n",
       "    <tr>\n",
       "      <th>std</th>\n",
       "      <td>7.039562</td>\n",
       "      <td>1.059258e+14</td>\n",
       "      <td>6.149507e+06</td>\n",
       "      <td>1.324058e+17</td>\n",
       "      <td>6.568532e+06</td>\n",
       "    </tr>\n",
       "    <tr>\n",
       "      <th>min</th>\n",
       "      <td>1961.000000</td>\n",
       "      <td>1.000000e+00</td>\n",
       "      <td>-2.500000e+00</td>\n",
       "      <td>1.000000e+00</td>\n",
       "      <td>0.000000e+00</td>\n",
       "    </tr>\n",
       "    <tr>\n",
       "      <th>25%</th>\n",
       "      <td>2002.000000</td>\n",
       "      <td>1.350000e+02</td>\n",
       "      <td>2.000000e+00</td>\n",
       "      <td>4.610725e+04</td>\n",
       "      <td>4.000000e+03</td>\n",
       "    </tr>\n",
       "    <tr>\n",
       "      <th>50%</th>\n",
       "      <td>2005.000000</td>\n",
       "      <td>1.730000e+02</td>\n",
       "      <td>2.400000e+00</td>\n",
       "      <td>1.115680e+05</td>\n",
       "      <td>8.300000e+03</td>\n",
       "    </tr>\n",
       "    <tr>\n",
       "      <th>75%</th>\n",
       "      <td>2012.000000</td>\n",
       "      <td>2.490000e+02</td>\n",
       "      <td>3.200000e+00</td>\n",
       "      <td>1.750000e+05</td>\n",
       "      <td>1.867650e+04</td>\n",
       "    </tr>\n",
       "    <tr>\n",
       "      <th>max</th>\n",
       "      <td>2018.000000</td>\n",
       "      <td>1.111111e+16</td>\n",
       "      <td>7.054355e+08</td>\n",
       "      <td>9.223372e+18</td>\n",
       "      <td>7.731526e+08</td>\n",
       "    </tr>\n",
       "  </tbody>\n",
       "</table>\n",
       "</div>"
      ],
      "text/plain": [
       "        Год выпуска      Мощность         Объём        Пробег          Цена\n",
       "count  13663.000000  1.100300e+04  1.339400e+04  9.704000e+03  1.385900e+04\n",
       "mean    2005.571324  1.009826e+12  6.266299e+04  1.902248e+15  7.403754e+04\n",
       "std        7.039562  1.059258e+14  6.149507e+06  1.324058e+17  6.568532e+06\n",
       "min     1961.000000  1.000000e+00 -2.500000e+00  1.000000e+00  0.000000e+00\n",
       "25%     2002.000000  1.350000e+02  2.000000e+00  4.610725e+04  4.000000e+03\n",
       "50%     2005.000000  1.730000e+02  2.400000e+00  1.115680e+05  8.300000e+03\n",
       "75%     2012.000000  2.490000e+02  3.200000e+00  1.750000e+05  1.867650e+04\n",
       "max     2018.000000  1.111111e+16  7.054355e+08  9.223372e+18  7.731526e+08"
      ]
     },
     "execution_count": 3,
     "metadata": {},
     "output_type": "execute_result"
    }
   ],
   "source": [
    "data.describe()"
   ]
  },
  {
   "cell_type": "markdown",
   "metadata": {},
   "source": [
    "Below we will see the histogram of cars under the sale and their milage. I needed to exclude the mileages that are more than 1,000,000 km because, they are rarely so, and there are extreme values like 10e+19 km which are not possible even for spacecrafts like 'Voyager' to have. So, the plot looks like having positive skeweness. "
   ]
  },
  {
   "cell_type": "code",
   "execution_count": 11,
   "metadata": {},
   "outputs": [
    {
     "data": {
      "text/plain": [
       "Text(0,0.5,'Number of cars under the sale')"
      ]
     },
     "execution_count": 11,
     "metadata": {},
     "output_type": "execute_result"
    },
    {
     "data": {
      "image/png": "[encoded data removed]",
      "text/plain": [
       "<matplotlib.figure.Figure at 0x88e0510>"
      ]
     },
     "metadata": {},
     "output_type": "display_data"
    }
   ],
   "source": [
    "car_mileage = data[\"Пробег\"]\n",
    "fig = plt.figure(figsize = (10,6))\n",
    "ax = fig.gca()\n",
    "\n",
    "car_mileage[car_mileage<1000000].hist(bins=50)\n",
    "plt.title(\"Mileagehistogram\")\n",
    "plt.xlabel(\"Mileage\")\n",
    "plt.ylabel(\"Number of cars under the sale\")"
   ]
  },
  {
   "cell_type": "markdown",
   "metadata": {},
   "source": [
    "Below, we will see histogram of number of cars under the sale in different year, the shape of data is negatively skewed, and to find center and spread it's better to use median and interquartile range of data, and in the end we can see five-number summary of data."
   ]
  },
  {
   "cell_type": "code",
   "execution_count": 13,
   "metadata": {},
   "outputs": [
    {
     "data": {
      "text/plain": [
       "Text(0,0.5,'Number of cars under the sale')"
      ]
     },
     "execution_count": 13,
     "metadata": {},
     "output_type": "execute_result"
    },
    {
     "data": {
      "image/png": "[encoded data removed]",
      "text/plain": [
       "<matplotlib.figure.Figure at 0x867ce70>"
      ]
     },
     "metadata": {},
     "output_type": "display_data"
    }
   ],
   "source": [
    "car_year = data[\"Год выпуска\"]\n",
    "fig = plt.figure(figsize = (10,6))\n",
    "ax = fig.gca()\n",
    "car_year.hist(bins = 20,ax = ax)\n",
    "plt.title(\"Cars under the sale histogram\")\n",
    "plt.xlabel(\"Year\")\n",
    "plt.ylabel(\"Number of cars under the sale\")\n"
   ]
  },
  {
   "cell_type": "markdown",
   "metadata": {},
   "source": [
    "The center(median) of car year is 2005 year. More sense will make mode of the car. Mode of the car is 2003, so it means, the cars of year 2003 is the majority of selling cars on the market. Also that 50% of the cars under saleare in range betweem 2012 and 2002."
   ]
  },
  {
   "cell_type": "code",
   "execution_count": 6,
   "metadata": {},
   "outputs": [
    {
     "data": {
      "text/plain": [
       "2005.0"
      ]
     },
     "execution_count": 6,
     "metadata": {},
     "output_type": "execute_result"
    }
   ],
   "source": [
    "car_year.median()"
   ]
  },
  {
   "cell_type": "code",
   "execution_count": 7,
   "metadata": {},
   "outputs": [
    {
     "data": {
      "text/plain": [
       "0    2003.0\n",
       "dtype: float64"
      ]
     },
     "execution_count": 7,
     "metadata": {},
     "output_type": "execute_result"
    }
   ],
   "source": [
    "car_year.mode()"
   ]
  },
  {
   "cell_type": "code",
   "execution_count": 8,
   "metadata": {},
   "outputs": [
    {
     "name": "stdout",
     "output_type": "stream",
     "text": [
      "2012.0\n",
      "2002.0\n",
      "10.0\n"
     ]
    }
   ],
   "source": [
    "print(car_year.quantile(q=0.75))\n",
    "print(car_year.quantile(q=0.25))\n",
    "print(car_year.quantile(q=0.75)-car_year.quantile(q=0.25))"
   ]
  },
  {
   "cell_type": "code",
   "execution_count": null,
   "metadata": {},
   "outputs": [],
   "source": []
  }
 ],
 "metadata": {
  "kernelspec": {
   "display_name": "Python 3",
   "language": "python",
   "name": "python3"
  },
  "language_info": {
   "codemirror_mode": {
    "name": "ipython",
    "version": 3
   },
   "file_extension": ".py",
   "mimetype": "text/x-python",
   "name": "python",
   "nbconvert_exporter": "python",
   "pygments_lexer": "ipython3",
   "version": "3.6.4"
  }
 },
 "nbformat": 4,
 "nbformat_minor": 2
}
