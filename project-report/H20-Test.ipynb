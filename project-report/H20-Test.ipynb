{
 "cells": [
  {
   "cell_type": "markdown",
   "metadata": {},
   "source": [
    "# Hypothesis Testing"
   ]
  },
  {
   "cell_type": "markdown",
   "metadata": {},
   "source": [
    "In this optional notebook, I tried to test some hypothesis of mine about Mileage being a Missing Not at Random (MNAR) variable, my alternative hypothesis is that this predictor is Missing At Random (MAR), and if this is so, I am going to just drop the NA values in this column.  \n",
    "Also, I will use H20 library, which allows data to be categorical, as a normal library should, this is one of the downsides of the scikit-learn library."
   ]
  },
  {
   "cell_type": "code",
   "execution_count": 106,
   "metadata": {},
   "outputs": [],
   "source": [
    "import set_jupyter_path"
   ]
  },
  {
   "cell_type": "code",
   "execution_count": 107,
   "metadata": {},
   "outputs": [
    {
     "name": "stdout",
     "output_type": "stream",
     "text": [
      "Checking whether there is an H2O instance running at http://localhost:54321. connected.\n"
     ]
    },
    {
     "data": {
      "text/html": [
       "<div style=\"overflow:auto\"><table style=\"width:50%\"><tr><td>H2O cluster uptime:</td>\n",
       "<td>2 hours 10 mins</td></tr>\n",
       "<tr><td>H2O cluster timezone:</td>\n",
       "<td>Asia/Bishkek</td></tr>\n",
       "<tr><td>H2O data parsing timezone:</td>\n",
       "<td>UTC</td></tr>\n",
       "<tr><td>H2O cluster version:</td>\n",
       "<td>3.22.0.2</td></tr>\n",
       "<tr><td>H2O cluster version age:</td>\n",
       "<td>18 days </td></tr>\n",
       "<tr><td>H2O cluster name:</td>\n",
       "<td>H2O_from_python_danberd_9jeqmn</td></tr>\n",
       "<tr><td>H2O cluster total nodes:</td>\n",
       "<td>1</td></tr>\n",
       "<tr><td>H2O cluster free memory:</td>\n",
       "<td>3.062 Gb</td></tr>\n",
       "<tr><td>H2O cluster total cores:</td>\n",
       "<td>12</td></tr>\n",
       "<tr><td>H2O cluster allowed cores:</td>\n",
       "<td>12</td></tr>\n",
       "<tr><td>H2O cluster status:</td>\n",
       "<td>locked, healthy</td></tr>\n",
       "<tr><td>H2O connection url:</td>\n",
       "<td>http://localhost:54321</td></tr>\n",
       "<tr><td>H2O connection proxy:</td>\n",
       "<td>None</td></tr>\n",
       "<tr><td>H2O internal security:</td>\n",
       "<td>False</td></tr>\n",
       "<tr><td>H2O API Extensions:</td>\n",
       "<td>XGBoost, Algos, AutoML, Core V3, Core V4</td></tr>\n",
       "<tr><td>Python version:</td>\n",
       "<td>3.6.7 final</td></tr></table></div>"
      ],
      "text/plain": [
       "--------------------------  ----------------------------------------\n",
       "H2O cluster uptime:         2 hours 10 mins\n",
       "H2O cluster timezone:       Asia/Bishkek\n",
       "H2O data parsing timezone:  UTC\n",
       "H2O cluster version:        3.22.0.2\n",
       "H2O cluster version age:    18 days\n",
       "H2O cluster name:           H2O_from_python_danberd_9jeqmn\n",
       "H2O cluster total nodes:    1\n",
       "H2O cluster free memory:    3.062 Gb\n",
       "H2O cluster total cores:    12\n",
       "H2O cluster allowed cores:  12\n",
       "H2O cluster status:         locked, healthy\n",
       "H2O connection url:         http://localhost:54321\n",
       "H2O connection proxy:\n",
       "H2O internal security:      False\n",
       "H2O API Extensions:         XGBoost, Algos, AutoML, Core V3, Core V4\n",
       "Python version:             3.6.7 final\n",
       "--------------------------  ----------------------------------------"
      ]
     },
     "metadata": {},
     "output_type": "display_data"
    }
   ],
   "source": [
    "import pandas as pd\n",
    "import h2o\n",
    "h2o.init(nthreads=-1, max_mem_size=4)\n",
    "from sklearn.ensemble import RandomForestRegressor"
   ]
  },
  {
   "cell_type": "code",
   "execution_count": 108,
   "metadata": {},
   "outputs": [],
   "source": [
    "data = pd.read_excel('../data/raw/raw_data.xlsx')"
   ]
  },
  {
   "cell_type": "code",
   "execution_count": 109,
   "metadata": {},
   "outputs": [],
   "source": [
    "from src.car_price_prediction.data_cleaning import data_cleaner"
   ]
  },
  {
   "cell_type": "code",
   "execution_count": 110,
   "metadata": {},
   "outputs": [],
   "source": [
    "from src.car_price_prediction.data_cleaning import processed_data_maker"
   ]
  },
  {
   "cell_type": "code",
   "execution_count": 137,
   "metadata": {},
   "outputs": [],
   "source": [
    "pro_data = processed_data_maker.get_processed_data((data_cleaner.get_clean_data(data))).drop(\n",
    "    columns=['Url', 'Photo_Urls'])"
   ]
  },
  {
   "cell_type": "code",
   "execution_count": 138,
   "metadata": {},
   "outputs": [],
   "source": [
    "pro_data.Publication = pd.to_datetime(pro_data.Publication)"
   ]
  },
  {
   "cell_type": "code",
   "execution_count": 139,
   "metadata": {},
   "outputs": [],
   "source": [
    "import datetime\n",
    "hard_date = datetime.date(2017, 1, 1)"
   ]
  },
  {
   "cell_type": "code",
   "execution_count": 140,
   "metadata": {},
   "outputs": [],
   "source": [
    "pro_data.Publication = pro_data.Publication.apply(lambda x: (x.date() - hard_date).days)"
   ]
  },
  {
   "cell_type": "code",
   "execution_count": 141,
   "metadata": {},
   "outputs": [],
   "source": [
    "pro_data_dropped = pro_data.dropna()"
   ]
  },
  {
   "cell_type": "code",
   "execution_count": 142,
   "metadata": {},
   "outputs": [],
   "source": [
    "def knn_impute_mileage(df):\n",
    "    cols = df.loc[:, df.columns != 'Mileage'].columns.delete(-1)\n",
    "    print(cols)\n",
    "    X_train, X_test, y_train, y_test = get_train_test(\n",
    "        df, cols, 'Mileage')\n",
    "    y_pred = get_y_pred(X_train, X_test, y_train, y_test)\n",
    "    y_pred = pd.Series(y_pred, index=y_test.index, name=y_test.name)\n",
    "    df.loc[df[~df.Mileage.notnull()].index, 'Mileage'] = y_pred\n",
    "    return df\n",
    "\n",
    "\n",
    "def get_train_test(df, df_columns, target):\n",
    "    X_train, y_train = get_train(df, df_columns, target)\n",
    "    X_test, y_test = get_test(df, df_columns, target)\n",
    "    missing_cols = set(X_train.columns) - set(X_test.columns)\n",
    "    for c in missing_cols:\n",
    "        X_test[c] = 0\n",
    "    X_test = X_test[X_train.columns]\n",
    "    return X_train, X_test, y_train, y_test\n",
    "\n",
    "\n",
    "def get_train(df, data_columns, target):\n",
    "    train_data = df.dropna()\n",
    "    X_train, y_train = train_data[data_columns], train_data[target]\n",
    "    X_train = pd.get_dummies(X_train)\n",
    "    return X_train, y_train\n",
    "\n",
    "\n",
    "def get_test(df, data_columns, target):\n",
    "    test_data = df[~df[target].notnull()]\n",
    "    X_test, y_test = test_data[data_columns], test_data[target]\n",
    "    X_test = pd.get_dummies(X_test)\n",
    "    return X_test, y_test\n",
    "\n",
    "\n",
    "def get_y_pred(X_train, X_test, y_train, y_test):\n",
    "    forest = RandomForestRegressor(n_estimators=30)\n",
    "    forest.fit(X_train, y_train)\n",
    "    y_pred = forest.predict(X_test)\n",
    "    return y_pred\n"
   ]
  },
  {
   "cell_type": "code",
   "execution_count": 143,
   "metadata": {},
   "outputs": [
    {
     "name": "stdout",
     "output_type": "stream",
     "text": [
      "Index(['Expiration', 'Year', 'Publication', 'Transmission', 'Brand', 'Model',\n",
      "       'Capacity', 'Drive', 'Wheel', 'Carcass', 'Fuel', 'Color'],\n",
      "      dtype='object')\n"
     ]
    }
   ],
   "source": [
    "pro_data_imputed = knn_impute_mileage(pro_data)"
   ]
  },
  {
   "cell_type": "code",
   "execution_count": 144,
   "metadata": {},
   "outputs": [
    {
     "name": "stdout",
     "output_type": "stream",
     "text": [
      "Parse progress: |█████████████████████████████████████████████████████████| 100%\n"
     ]
    }
   ],
   "source": [
    "drop = h2o.H2OFrame(pro_data_dropped)"
   ]
  },
  {
   "cell_type": "code",
   "execution_count": 145,
   "metadata": {},
   "outputs": [
    {
     "name": "stdout",
     "output_type": "stream",
     "text": [
      "Parse progress: |█████████████████████████████████████████████████████████| 100%\n"
     ]
    }
   ],
   "source": [
    "impute = h2o.H2OFrame(pro_data_imputed)"
   ]
  },
  {
   "cell_type": "code",
   "execution_count": null,
   "metadata": {},
   "outputs": [],
   "source": [
    "from h2o.estimators.random_forest import H2ORandomForestEstimator"
   ]
  },
  {
   "cell_type": "code",
   "execution_count": null,
   "metadata": {},
   "outputs": [],
   "source": [
    "splits = drop.split_frame(ratios=[0.8, 0.1999], seed = 10012)\n",
    "drop_train = splits[0]\n",
    "drop_test = splits[1]"
   ]
  },
  {
   "cell_type": "code",
   "execution_count": null,
   "metadata": {},
   "outputs": [],
   "source": [
    "splits = impute.split_frame(ratios=[0.8, 0.1999], seed = 123)\n",
    "impute_train = splits[0]\n",
    "impute_test = splits[1]"
   ]
  },
  {
   "cell_type": "code",
   "execution_count": null,
   "metadata": {},
   "outputs": [],
   "source": [
    "y = 'Price'\n",
    "x = list(pro_data.columns)\n",
    "x.remove('Price')"
   ]
  },
  {
   "cell_type": "code",
   "execution_count": null,
   "metadata": {},
   "outputs": [],
   "source": [
    "rf_fit1 = H2ORandomForestEstimator(model_id='rf_fit1', ntrees = 100, seed = 1231)"
   ]
  },
  {
   "cell_type": "code",
   "execution_count": null,
   "metadata": {},
   "outputs": [
    {
     "name": "stdout",
     "output_type": "stream",
     "text": [
      "drf Model Build progress: |███████████████████████████████████████████████| 100%\n"
     ]
    }
   ],
   "source": [
    "rf_fit1.train(x=x, y=y, training_frame=drop_train)"
   ]
  },
  {
   "cell_type": "code",
   "execution_count": null,
   "metadata": {},
   "outputs": [
    {
     "name": "stdout",
     "output_type": "stream",
     "text": [
      "drf Model Build progress: |██████████████████████████████████████████"
     ]
    }
   ],
   "source": [
    "rf_fit2 = H2ORandomForestEstimator(model_id='rf_fit2', ntrees = 100, seed =34)\n",
    "rf_fit2.train(x=x, y=y, training_frame=impute_train)"
   ]
  },
  {
   "cell_type": "code",
   "execution_count": null,
   "metadata": {},
   "outputs": [],
   "source": [
    "rf_perf1 = rf_fit1.model_performance(drop_test)\n",
    "rf_perf2 = rf_fit2.model_performance(impute_test)"
   ]
  },
  {
   "cell_type": "code",
   "execution_count": null,
   "metadata": {},
   "outputs": [],
   "source": [
    "rf_perf1"
   ]
  },
  {
   "cell_type": "code",
   "execution_count": null,
   "metadata": {},
   "outputs": [],
   "source": [
    "rf_perf2"
   ]
  },
  {
   "cell_type": "code",
   "execution_count": null,
   "metadata": {},
   "outputs": [],
   "source": []
  }
 ],
 "metadata": {
  "kernelspec": {
   "display_name": "Python 3",
   "language": "python",
   "name": "python3"
  },
  "language_info": {
   "codemirror_mode": {
    "name": "ipython",
    "version": 3
   },
   "file_extension": ".py",
   "mimetype": "text/x-python",
   "name": "python",
   "nbconvert_exporter": "python",
   "pygments_lexer": "ipython3",
   "version": "3.6.7"
  }
 },
 "nbformat": 4,
 "nbformat_minor": 2
}
